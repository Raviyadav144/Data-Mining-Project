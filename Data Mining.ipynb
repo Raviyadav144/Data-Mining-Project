{
 "cells": [
  {
   "cell_type": "code",
   "execution_count": 198,
   "metadata": {},
   "outputs": [],
   "source": [
    "import pandas as pd\n",
    "import numpy as np"
   ]
  },
  {
   "cell_type": "code",
   "execution_count": 2,
   "metadata": {},
   "outputs": [],
   "source": [
    "xxx = pd.read_excel(r\"xxx one-liner 2018-19.xlsx\")"
   ]
  },
  {
   "cell_type": "code",
   "execution_count": 197,
   "metadata": {},
   "outputs": [],
   "source": [
    "yyy= pd.read_excel(r\"yyy One liner 2018-19.xlsx\")\n"
   ]
  },
  {
   "cell_type": "code",
   "execution_count": 4,
   "metadata": {},
   "outputs": [],
   "source": [
    "zzz= pd.read_excel(r\"zzz onliner.xlsx\")"
   ]
  },
  {
   "cell_type": "code",
   "execution_count": 5,
   "metadata": {},
   "outputs": [
    {
     "data": {
      "text/html": [
       "<div>\n",
       "<style scoped>\n",
       "    .dataframe tbody tr th:only-of-type {\n",
       "        vertical-align: middle;\n",
       "    }\n",
       "\n",
       "    .dataframe tbody tr th {\n",
       "        vertical-align: top;\n",
       "    }\n",
       "\n",
       "    .dataframe thead th {\n",
       "        text-align: right;\n",
       "    }\n",
       "</style>\n",
       "<table border=\"1\" class=\"dataframe\">\n",
       "  <thead>\n",
       "    <tr style=\"text-align: right;\">\n",
       "      <th></th>\n",
       "      <th>SL_NO</th>\n",
       "      <th>PCD_CODE</th>\n",
       "      <th>PCD_COD1E</th>\n",
       "      <th>EMP_NAME</th>\n",
       "      <th>EMP_NAME1</th>\n",
       "      <th>DOB</th>\n",
       "      <th>AGE</th>\n",
       "      <th>DOJ</th>\n",
       "      <th>DOL</th>\n",
       "      <th>DOS</th>\n",
       "      <th>TOTAL MC</th>\n",
       "      <th>TOTAL CC</th>\n",
       "      <th>TOTAL VC1</th>\n",
       "      <th>GRAND TOTAL</th>\n",
       "    </tr>\n",
       "  </thead>\n",
       "  <tbody>\n",
       "    <tr>\n",
       "      <th>0</th>\n",
       "      <td>1</td>\n",
       "      <td>50003</td>\n",
       "      <td>50003</td>\n",
       "      <td>NEELESH SHANBHAG</td>\n",
       "      <td>NEELESH SHANBHAG</td>\n",
       "      <td>1973-08-22</td>\n",
       "      <td>45.604381</td>\n",
       "      <td>2002-10-13</td>\n",
       "      <td>2014-07-25</td>\n",
       "      <td>NaT</td>\n",
       "      <td>0</td>\n",
       "      <td>0.0</td>\n",
       "      <td>0.0</td>\n",
       "      <td>0.0</td>\n",
       "    </tr>\n",
       "    <tr>\n",
       "      <th>1</th>\n",
       "      <td>2</td>\n",
       "      <td>50008</td>\n",
       "      <td>50008</td>\n",
       "      <td>C PERUMAL</td>\n",
       "      <td>C PERUMAL</td>\n",
       "      <td>1954-06-12</td>\n",
       "      <td>64.799452</td>\n",
       "      <td>2003-03-17</td>\n",
       "      <td>2014-06-30</td>\n",
       "      <td>NaT</td>\n",
       "      <td>0</td>\n",
       "      <td>0.0</td>\n",
       "      <td>0.0</td>\n",
       "      <td>0.0</td>\n",
       "    </tr>\n",
       "    <tr>\n",
       "      <th>2</th>\n",
       "      <td>3</td>\n",
       "      <td>50009</td>\n",
       "      <td>50009</td>\n",
       "      <td>NARAYAN BL</td>\n",
       "      <td>NARAYAN BL</td>\n",
       "      <td>1958-07-18</td>\n",
       "      <td>60.700890</td>\n",
       "      <td>2003-03-17</td>\n",
       "      <td>2014-06-30</td>\n",
       "      <td>NaT</td>\n",
       "      <td>0</td>\n",
       "      <td>0.0</td>\n",
       "      <td>0.0</td>\n",
       "      <td>0.0</td>\n",
       "    </tr>\n",
       "    <tr>\n",
       "      <th>3</th>\n",
       "      <td>4</td>\n",
       "      <td>50012</td>\n",
       "      <td>50012</td>\n",
       "      <td>GAYATRI FABIAN</td>\n",
       "      <td>GAYATRI FABIAN</td>\n",
       "      <td>1967-03-18</td>\n",
       "      <td>52.035592</td>\n",
       "      <td>2003-03-17</td>\n",
       "      <td>2014-08-04</td>\n",
       "      <td>NaT</td>\n",
       "      <td>0</td>\n",
       "      <td>0.0</td>\n",
       "      <td>0.0</td>\n",
       "      <td>0.0</td>\n",
       "    </tr>\n",
       "    <tr>\n",
       "      <th>4</th>\n",
       "      <td>5</td>\n",
       "      <td>50019</td>\n",
       "      <td>50019</td>\n",
       "      <td>AJAY TYAGI</td>\n",
       "      <td>AJAY TYAGI</td>\n",
       "      <td>1975-05-20</td>\n",
       "      <td>43.863107</td>\n",
       "      <td>2003-04-01</td>\n",
       "      <td>2015-06-26</td>\n",
       "      <td>NaT</td>\n",
       "      <td>0</td>\n",
       "      <td>0.0</td>\n",
       "      <td>0.0</td>\n",
       "      <td>0.0</td>\n",
       "    </tr>\n",
       "  </tbody>\n",
       "</table>\n",
       "</div>"
      ],
      "text/plain": [
       "  SL_NO PCD_CODE PCD_COD1E          EMP_NAME         EMP_NAME1        DOB  \\\n",
       "0     1    50003     50003  NEELESH SHANBHAG  NEELESH SHANBHAG 1973-08-22   \n",
       "1     2    50008     50008         C PERUMAL         C PERUMAL 1954-06-12   \n",
       "2     3    50009     50009        NARAYAN BL        NARAYAN BL 1958-07-18   \n",
       "3     4    50012     50012    GAYATRI FABIAN    GAYATRI FABIAN 1967-03-18   \n",
       "4     5    50019     50019        AJAY TYAGI        AJAY TYAGI 1975-05-20   \n",
       "\n",
       "         AGE        DOJ        DOL DOS TOTAL MC  TOTAL CC  TOTAL VC1  \\\n",
       "0  45.604381 2002-10-13 2014-07-25 NaT        0       0.0        0.0   \n",
       "1  64.799452 2003-03-17 2014-06-30 NaT        0       0.0        0.0   \n",
       "2  60.700890 2003-03-17 2014-06-30 NaT        0       0.0        0.0   \n",
       "3  52.035592 2003-03-17 2014-08-04 NaT        0       0.0        0.0   \n",
       "4  43.863107 2003-04-01 2015-06-26 NaT        0       0.0        0.0   \n",
       "\n",
       "   GRAND TOTAL  \n",
       "0          0.0  \n",
       "1          0.0  \n",
       "2          0.0  \n",
       "3          0.0  \n",
       "4          0.0  "
      ]
     },
     "execution_count": 5,
     "metadata": {},
     "output_type": "execute_result"
    }
   ],
   "source": [
    "yyy.head()"
   ]
  },
  {
   "cell_type": "code",
   "execution_count": 6,
   "metadata": {},
   "outputs": [
    {
     "data": {
      "text/html": [
       "<div>\n",
       "<style scoped>\n",
       "    .dataframe tbody tr th:only-of-type {\n",
       "        vertical-align: middle;\n",
       "    }\n",
       "\n",
       "    .dataframe tbody tr th {\n",
       "        vertical-align: top;\n",
       "    }\n",
       "\n",
       "    .dataframe thead th {\n",
       "        text-align: right;\n",
       "    }\n",
       "</style>\n",
       "<table border=\"1\" class=\"dataframe\">\n",
       "  <thead>\n",
       "    <tr style=\"text-align: right;\">\n",
       "      <th></th>\n",
       "      <th>SL_NO</th>\n",
       "      <th>PCD_CODE</th>\n",
       "      <th>PCD_CODE1</th>\n",
       "      <th>EMP_NAME</th>\n",
       "      <th>DOB</th>\n",
       "      <th>DOJ</th>\n",
       "      <th>2019-03-31 00:00:00</th>\n",
       "      <th>PF_ST_DATE</th>\n",
       "      <th>PF_NO</th>\n",
       "      <th>REG_EXP_CODE</th>\n",
       "      <th>...</th>\n",
       "      <th>DOS</th>\n",
       "      <th>Unnamed: 18</th>\n",
       "      <th>Unnamed: 19</th>\n",
       "      <th>TOT_MC</th>\n",
       "      <th>TOT_IMC</th>\n",
       "      <th>TOT_CC</th>\n",
       "      <th>TOT_ICC</th>\n",
       "      <th>TOT_VC1</th>\n",
       "      <th>TOT_IVC1</th>\n",
       "      <th>Grand Total</th>\n",
       "    </tr>\n",
       "  </thead>\n",
       "  <tbody>\n",
       "    <tr>\n",
       "      <th>0</th>\n",
       "      <td>1.0</td>\n",
       "      <td>10047_FS</td>\n",
       "      <td>10047_FS</td>\n",
       "      <td>DEBASISH MAZUMDER</td>\n",
       "      <td>1966-02-13</td>\n",
       "      <td>2002-06-13</td>\n",
       "      <td>53.125257</td>\n",
       "      <td>2002-06-13</td>\n",
       "      <td>'000066</td>\n",
       "      <td>'PU/PUN/0031643/00E</td>\n",
       "      <td>...</td>\n",
       "      <td>NaN</td>\n",
       "      <td>NaN</td>\n",
       "      <td>NaN</td>\n",
       "      <td>0.0</td>\n",
       "      <td>0.0</td>\n",
       "      <td>0</td>\n",
       "      <td>0.0</td>\n",
       "      <td>0.0</td>\n",
       "      <td>0.0</td>\n",
       "      <td>0.0</td>\n",
       "    </tr>\n",
       "    <tr>\n",
       "      <th>1</th>\n",
       "      <td>2.0</td>\n",
       "      <td>10054_FS</td>\n",
       "      <td>10054_FS</td>\n",
       "      <td>KRIPASHANKAR RAJAPPA</td>\n",
       "      <td>1966-05-10</td>\n",
       "      <td>1995-07-01</td>\n",
       "      <td>52.889802</td>\n",
       "      <td>2008-07-01</td>\n",
       "      <td>'950</td>\n",
       "      <td>'PU/PUN/0031643/00E</td>\n",
       "      <td>...</td>\n",
       "      <td>NaN</td>\n",
       "      <td>NaN</td>\n",
       "      <td>NaN</td>\n",
       "      <td>4444105.0</td>\n",
       "      <td>384420.0</td>\n",
       "      <td>4324321</td>\n",
       "      <td>374052.0</td>\n",
       "      <td>0.0</td>\n",
       "      <td>0.0</td>\n",
       "      <td>9526898.0</td>\n",
       "    </tr>\n",
       "    <tr>\n",
       "      <th>2</th>\n",
       "      <td>3.0</td>\n",
       "      <td>10099_FS</td>\n",
       "      <td>10099_FS</td>\n",
       "      <td>F G LOBO</td>\n",
       "      <td>1958-05-02</td>\n",
       "      <td>1995-11-01</td>\n",
       "      <td>60.911704</td>\n",
       "      <td>1995-11-01</td>\n",
       "      <td>'000092</td>\n",
       "      <td>'PU/PUN/0031643/00E</td>\n",
       "      <td>...</td>\n",
       "      <td>NaN</td>\n",
       "      <td>NaN</td>\n",
       "      <td>NaN</td>\n",
       "      <td>0.0</td>\n",
       "      <td>0.0</td>\n",
       "      <td>0</td>\n",
       "      <td>0.0</td>\n",
       "      <td>0.0</td>\n",
       "      <td>0.0</td>\n",
       "      <td>0.0</td>\n",
       "    </tr>\n",
       "    <tr>\n",
       "      <th>3</th>\n",
       "      <td>4.0</td>\n",
       "      <td>10106_FS</td>\n",
       "      <td>10106_FS</td>\n",
       "      <td>LAKHBINDER SINGH</td>\n",
       "      <td>1969-06-02</td>\n",
       "      <td>1995-12-21</td>\n",
       "      <td>49.826146</td>\n",
       "      <td>2008-07-01</td>\n",
       "      <td>'53</td>\n",
       "      <td>'PU/PUN/0031643/00E</td>\n",
       "      <td>...</td>\n",
       "      <td>NaN</td>\n",
       "      <td>NaN</td>\n",
       "      <td>NaN</td>\n",
       "      <td>1601619.0</td>\n",
       "      <td>135900.0</td>\n",
       "      <td>1207409</td>\n",
       "      <td>102504.0</td>\n",
       "      <td>0.0</td>\n",
       "      <td>0.0</td>\n",
       "      <td>3047432.0</td>\n",
       "    </tr>\n",
       "    <tr>\n",
       "      <th>4</th>\n",
       "      <td>5.0</td>\n",
       "      <td>10118_FS</td>\n",
       "      <td>10118_FS</td>\n",
       "      <td>GAUTAM A KANTAK</td>\n",
       "      <td>1970-06-05</td>\n",
       "      <td>2001-02-11</td>\n",
       "      <td>48.818617</td>\n",
       "      <td>2001-02-11</td>\n",
       "      <td>'000094</td>\n",
       "      <td>'PU/PUN/0031643/00E</td>\n",
       "      <td>...</td>\n",
       "      <td>NaN</td>\n",
       "      <td>NaN</td>\n",
       "      <td>NaN</td>\n",
       "      <td>0.0</td>\n",
       "      <td>0.0</td>\n",
       "      <td>0</td>\n",
       "      <td>0.0</td>\n",
       "      <td>0.0</td>\n",
       "      <td>0.0</td>\n",
       "      <td>0.0</td>\n",
       "    </tr>\n",
       "  </tbody>\n",
       "</table>\n",
       "<p>5 rows × 27 columns</p>\n",
       "</div>"
      ],
      "text/plain": [
       "   SL_NO  PCD_CODE PCD_CODE1              EMP_NAME        DOB        DOJ  \\\n",
       "0    1.0  10047_FS  10047_FS     DEBASISH MAZUMDER 1966-02-13 2002-06-13   \n",
       "1    2.0  10054_FS  10054_FS  KRIPASHANKAR RAJAPPA 1966-05-10 1995-07-01   \n",
       "2    3.0  10099_FS  10099_FS              F G LOBO 1958-05-02 1995-11-01   \n",
       "3    4.0  10106_FS  10106_FS      LAKHBINDER SINGH 1969-06-02 1995-12-21   \n",
       "4    5.0  10118_FS  10118_FS       GAUTAM A KANTAK 1970-06-05 2001-02-11   \n",
       "\n",
       "   2019-03-31 00:00:00 PF_ST_DATE    PF_NO         REG_EXP_CODE  ...  DOS  \\\n",
       "0            53.125257 2002-06-13  '000066  'PU/PUN/0031643/00E  ...  NaN   \n",
       "1            52.889802 2008-07-01     '950  'PU/PUN/0031643/00E  ...  NaN   \n",
       "2            60.911704 1995-11-01  '000092  'PU/PUN/0031643/00E  ...  NaN   \n",
       "3            49.826146 2008-07-01      '53  'PU/PUN/0031643/00E  ...  NaN   \n",
       "4            48.818617 2001-02-11  '000094  'PU/PUN/0031643/00E  ...  NaN   \n",
       "\n",
       "  Unnamed: 18 Unnamed: 19     TOT_MC   TOT_IMC   TOT_CC   TOT_ICC TOT_VC1  \\\n",
       "0         NaN         NaN        0.0       0.0        0       0.0     0.0   \n",
       "1         NaN         NaN  4444105.0  384420.0  4324321  374052.0     0.0   \n",
       "2         NaN         NaN        0.0       0.0        0       0.0     0.0   \n",
       "3         NaN         NaN  1601619.0  135900.0  1207409  102504.0     0.0   \n",
       "4         NaN         NaN        0.0       0.0        0       0.0     0.0   \n",
       "\n",
       "   TOT_IVC1  Grand Total  \n",
       "0       0.0          0.0  \n",
       "1       0.0    9526898.0  \n",
       "2       0.0          0.0  \n",
       "3       0.0    3047432.0  \n",
       "4       0.0          0.0  \n",
       "\n",
       "[5 rows x 27 columns]"
      ]
     },
     "execution_count": 6,
     "metadata": {},
     "output_type": "execute_result"
    }
   ],
   "source": [
    "zzz.head()"
   ]
  },
  {
   "cell_type": "code",
   "execution_count": 7,
   "metadata": {},
   "outputs": [
    {
     "data": {
      "text/html": [
       "<div>\n",
       "<style scoped>\n",
       "    .dataframe tbody tr th:only-of-type {\n",
       "        vertical-align: middle;\n",
       "    }\n",
       "\n",
       "    .dataframe tbody tr th {\n",
       "        vertical-align: top;\n",
       "    }\n",
       "\n",
       "    .dataframe thead th {\n",
       "        text-align: right;\n",
       "    }\n",
       "</style>\n",
       "<table border=\"1\" class=\"dataframe\">\n",
       "  <thead>\n",
       "    <tr style=\"text-align: right;\">\n",
       "      <th></th>\n",
       "      <th>SL_NO</th>\n",
       "      <th>PCD_CODE</th>\n",
       "      <th>PCD_CODE1</th>\n",
       "      <th>EMP_NAME</th>\n",
       "      <th>EMP_NAME1</th>\n",
       "      <th>DOB</th>\n",
       "      <th>AGE</th>\n",
       "      <th>DOJ</th>\n",
       "      <th>DOL</th>\n",
       "      <th>DOS</th>\n",
       "      <th>TOTAL MC</th>\n",
       "      <th>TOTAL CC</th>\n",
       "      <th>TOTAL VC1</th>\n",
       "      <th>GRAND TOTAL</th>\n",
       "    </tr>\n",
       "  </thead>\n",
       "  <tbody>\n",
       "    <tr>\n",
       "      <th>0</th>\n",
       "      <td>1</td>\n",
       "      <td>1</td>\n",
       "      <td>1</td>\n",
       "      <td>ABC UNIDEFINED</td>\n",
       "      <td>ABC UNIDEFINED</td>\n",
       "      <td>2000-01-01</td>\n",
       "      <td>19.244353</td>\n",
       "      <td>2009-03-31</td>\n",
       "      <td>2009-03-31</td>\n",
       "      <td>NaT</td>\n",
       "      <td>0.0</td>\n",
       "      <td>0.0</td>\n",
       "      <td>0.0</td>\n",
       "      <td>0.0</td>\n",
       "    </tr>\n",
       "    <tr>\n",
       "      <th>1</th>\n",
       "      <td>2</td>\n",
       "      <td>100</td>\n",
       "      <td>100</td>\n",
       "      <td>D V NARAYAN PRASAD</td>\n",
       "      <td>D V NARAYAN PRASAD</td>\n",
       "      <td>1969-01-22</td>\n",
       "      <td>50.184805</td>\n",
       "      <td>1998-08-19</td>\n",
       "      <td>NaT</td>\n",
       "      <td>NaT</td>\n",
       "      <td>5331336.0</td>\n",
       "      <td>5150735.0</td>\n",
       "      <td>0.0</td>\n",
       "      <td>10482071.0</td>\n",
       "    </tr>\n",
       "    <tr>\n",
       "      <th>2</th>\n",
       "      <td>3</td>\n",
       "      <td>10000</td>\n",
       "      <td>10000</td>\n",
       "      <td>HARI VARMA</td>\n",
       "      <td>HARI VARMA</td>\n",
       "      <td>1981-07-06</td>\n",
       "      <td>37.733060</td>\n",
       "      <td>2007-03-28</td>\n",
       "      <td>2009-06-05</td>\n",
       "      <td>NaT</td>\n",
       "      <td>0.0</td>\n",
       "      <td>0.0</td>\n",
       "      <td>0.0</td>\n",
       "      <td>0.0</td>\n",
       "    </tr>\n",
       "    <tr>\n",
       "      <th>3</th>\n",
       "      <td>4</td>\n",
       "      <td>10002</td>\n",
       "      <td>10002</td>\n",
       "      <td>SUBRAMANIAN VENKATRAMAN</td>\n",
       "      <td>SUBRAMANIAN VENKATRAMAN</td>\n",
       "      <td>1979-12-14</td>\n",
       "      <td>39.293634</td>\n",
       "      <td>2007-03-27</td>\n",
       "      <td>2010-10-12</td>\n",
       "      <td>NaT</td>\n",
       "      <td>0.0</td>\n",
       "      <td>0.0</td>\n",
       "      <td>0.0</td>\n",
       "      <td>0.0</td>\n",
       "    </tr>\n",
       "    <tr>\n",
       "      <th>4</th>\n",
       "      <td>5</td>\n",
       "      <td>10003</td>\n",
       "      <td>10003</td>\n",
       "      <td>AMOL PANDE</td>\n",
       "      <td>AMOL PANDE</td>\n",
       "      <td>1983-01-10</td>\n",
       "      <td>36.219028</td>\n",
       "      <td>2007-03-30</td>\n",
       "      <td>2007-06-28</td>\n",
       "      <td>NaT</td>\n",
       "      <td>7686.0</td>\n",
       "      <td>4957.0</td>\n",
       "      <td>0.0</td>\n",
       "      <td>12643.0</td>\n",
       "    </tr>\n",
       "  </tbody>\n",
       "</table>\n",
       "</div>"
      ],
      "text/plain": [
       "  SL_NO PCD_CODE PCD_CODE1                 EMP_NAME                EMP_NAME1  \\\n",
       "0     1        1         1           ABC UNIDEFINED           ABC UNIDEFINED   \n",
       "1     2      100       100       D V NARAYAN PRASAD       D V NARAYAN PRASAD   \n",
       "2     3    10000     10000               HARI VARMA               HARI VARMA   \n",
       "3     4    10002     10002  SUBRAMANIAN VENKATRAMAN  SUBRAMANIAN VENKATRAMAN   \n",
       "4     5    10003     10003               AMOL PANDE               AMOL PANDE   \n",
       "\n",
       "         DOB        AGE        DOJ        DOL DOS   TOTAL MC   TOTAL CC  \\\n",
       "0 2000-01-01  19.244353 2009-03-31 2009-03-31 NaT        0.0        0.0   \n",
       "1 1969-01-22  50.184805 1998-08-19        NaT NaT  5331336.0  5150735.0   \n",
       "2 1981-07-06  37.733060 2007-03-28 2009-06-05 NaT        0.0        0.0   \n",
       "3 1979-12-14  39.293634 2007-03-27 2010-10-12 NaT        0.0        0.0   \n",
       "4 1983-01-10  36.219028 2007-03-30 2007-06-28 NaT     7686.0     4957.0   \n",
       "\n",
       "   TOTAL VC1  GRAND TOTAL  \n",
       "0        0.0          0.0  \n",
       "1        0.0   10482071.0  \n",
       "2        0.0          0.0  \n",
       "3        0.0          0.0  \n",
       "4        0.0      12643.0  "
      ]
     },
     "execution_count": 7,
     "metadata": {},
     "output_type": "execute_result"
    }
   ],
   "source": [
    "xxx.head()"
   ]
  },
  {
   "cell_type": "code",
   "execution_count": 8,
   "metadata": {},
   "outputs": [
    {
     "data": {
      "text/plain": [
       "155417"
      ]
     },
     "execution_count": 8,
     "metadata": {},
     "output_type": "execute_result"
    }
   ],
   "source": [
    "xxx['PCD_CODE'].unique().size"
   ]
  },
  {
   "cell_type": "code",
   "execution_count": 9,
   "metadata": {},
   "outputs": [
    {
     "data": {
      "text/plain": [
       "(155427, 14)"
      ]
     },
     "execution_count": 9,
     "metadata": {},
     "output_type": "execute_result"
    }
   ],
   "source": [
    "xxx.shape"
   ]
  },
  {
   "cell_type": "markdown",
   "metadata": {},
   "source": [
    "## 1 value is redundant rest are spaces"
   ]
  },
  {
   "cell_type": "code",
   "execution_count": 10,
   "metadata": {},
   "outputs": [
    {
     "data": {
      "text/plain": [
       "172422    1\n",
       "73784     1\n",
       "85992     1\n",
       "140834    1\n",
       "45974     1\n",
       "         ..\n",
       "151082    1\n",
       "190804    1\n",
       "182813    1\n",
       "28058     1\n",
       "161000    2\n",
       "Name: PCD_CODE, Length: 155416, dtype: int64"
      ]
     },
     "execution_count": 10,
     "metadata": {},
     "output_type": "execute_result"
    }
   ],
   "source": [
    "xxx['PCD_CODE'].value_counts(ascending= True)"
   ]
  },
  {
   "cell_type": "code",
   "execution_count": 11,
   "metadata": {
    "scrolled": true
   },
   "outputs": [
    {
     "data": {
      "text/html": [
       "<div>\n",
       "<style scoped>\n",
       "    .dataframe tbody tr th:only-of-type {\n",
       "        vertical-align: middle;\n",
       "    }\n",
       "\n",
       "    .dataframe tbody tr th {\n",
       "        vertical-align: top;\n",
       "    }\n",
       "\n",
       "    .dataframe thead th {\n",
       "        text-align: right;\n",
       "    }\n",
       "</style>\n",
       "<table border=\"1\" class=\"dataframe\">\n",
       "  <thead>\n",
       "    <tr style=\"text-align: right;\">\n",
       "      <th></th>\n",
       "      <th>SL_NO</th>\n",
       "      <th>PCD_CODE</th>\n",
       "      <th>PCD_CODE1</th>\n",
       "      <th>EMP_NAME</th>\n",
       "      <th>EMP_NAME1</th>\n",
       "      <th>DOB</th>\n",
       "      <th>AGE</th>\n",
       "      <th>DOJ</th>\n",
       "      <th>DOL</th>\n",
       "      <th>DOS</th>\n",
       "      <th>TOTAL MC</th>\n",
       "      <th>TOTAL CC</th>\n",
       "      <th>TOTAL VC1</th>\n",
       "      <th>GRAND TOTAL</th>\n",
       "    </tr>\n",
       "  </thead>\n",
       "  <tbody>\n",
       "    <tr>\n",
       "      <th>139340</th>\n",
       "      <td>139341</td>\n",
       "      <td>161000</td>\n",
       "      <td>161000</td>\n",
       "      <td>SAI RAM CHARAN POLAMARASETTI</td>\n",
       "      <td>Sai Ram Charan Polamarasetti</td>\n",
       "      <td>1997-01-21</td>\n",
       "      <td>22.187543</td>\n",
       "      <td>2018-09-19</td>\n",
       "      <td>NaT</td>\n",
       "      <td>NaT</td>\n",
       "      <td>0.0</td>\n",
       "      <td>0.0</td>\n",
       "      <td>0.0</td>\n",
       "      <td>0.0</td>\n",
       "    </tr>\n",
       "    <tr>\n",
       "      <th>144640</th>\n",
       "      <td>144641</td>\n",
       "      <td>161000</td>\n",
       "      <td>161000</td>\n",
       "      <td>SAI RAM CHARAN POLAMARASETTI</td>\n",
       "      <td>SAI RAM CHARAN POLAMARASETTI</td>\n",
       "      <td>1997-01-21</td>\n",
       "      <td>22.187543</td>\n",
       "      <td>2018-09-19</td>\n",
       "      <td>2019-02-11</td>\n",
       "      <td>2019-06-30</td>\n",
       "      <td>3785.0</td>\n",
       "      <td>3785.0</td>\n",
       "      <td>0.0</td>\n",
       "      <td>7570.0</td>\n",
       "    </tr>\n",
       "  </tbody>\n",
       "</table>\n",
       "</div>"
      ],
      "text/plain": [
       "         SL_NO PCD_CODE PCD_CODE1                      EMP_NAME  \\\n",
       "139340  139341   161000    161000  SAI RAM CHARAN POLAMARASETTI   \n",
       "144640  144641   161000    161000  SAI RAM CHARAN POLAMARASETTI   \n",
       "\n",
       "                           EMP_NAME1        DOB        AGE        DOJ  \\\n",
       "139340  Sai Ram Charan Polamarasetti 1997-01-21  22.187543 2018-09-19   \n",
       "144640  SAI RAM CHARAN POLAMARASETTI 1997-01-21  22.187543 2018-09-19   \n",
       "\n",
       "              DOL        DOS  TOTAL MC  TOTAL CC  TOTAL VC1  GRAND TOTAL  \n",
       "139340        NaT        NaT       0.0       0.0        0.0          0.0  \n",
       "144640 2019-02-11 2019-06-30    3785.0    3785.0        0.0       7570.0  "
      ]
     },
     "execution_count": 11,
     "metadata": {},
     "output_type": "execute_result"
    }
   ],
   "source": [
    "xxx[xxx['PCD_CODE'] == \"161000\"]\n"
   ]
  },
  {
   "cell_type": "markdown",
   "metadata": {},
   "source": [
    "### The above two data were redundant in xxx Frontlier 2018-2019"
   ]
  },
  {
   "cell_type": "code",
   "execution_count": 12,
   "metadata": {},
   "outputs": [
    {
     "data": {
      "text/plain": [
       "33829"
      ]
     },
     "execution_count": 12,
     "metadata": {},
     "output_type": "execute_result"
    }
   ],
   "source": [
    "yyy[\"PCD_CODE\"].unique().size"
   ]
  },
  {
   "cell_type": "code",
   "execution_count": 13,
   "metadata": {},
   "outputs": [
    {
     "data": {
      "text/plain": [
       "(33836, 14)"
      ]
     },
     "execution_count": 13,
     "metadata": {},
     "output_type": "execute_result"
    }
   ],
   "source": [
    "yyy.shape"
   ]
  },
  {
   "cell_type": "markdown",
   "metadata": {},
   "source": [
    "### 7 extra rows, where all are spaces in yyy Frontlier"
   ]
  },
  {
   "cell_type": "code",
   "execution_count": 14,
   "metadata": {},
   "outputs": [
    {
     "data": {
      "text/plain": [
       "array([1], dtype=int64)"
      ]
     },
     "execution_count": 14,
     "metadata": {},
     "output_type": "execute_result"
    }
   ],
   "source": [
    "yyy[\"PCD_CODE\"].value_counts().unique()"
   ]
  },
  {
   "cell_type": "markdown",
   "metadata": {},
   "source": [
    "Therefore no redundant value."
   ]
  },
  {
   "cell_type": "code",
   "execution_count": 15,
   "metadata": {},
   "outputs": [
    {
     "data": {
      "text/plain": [
       "26403_FS     1\n",
       "29289_FS     1\n",
       "86976_FS     1\n",
       "55428_FS     1\n",
       "35115_FS     1\n",
       "            ..\n",
       "103093_FS    1\n",
       "55180_FS     1\n",
       "72204_FS     1\n",
       "33612_FS     1\n",
       "70227_FS     1\n",
       "Name: PCD_CODE, Length: 70214, dtype: int64"
      ]
     },
     "execution_count": 15,
     "metadata": {},
     "output_type": "execute_result"
    }
   ],
   "source": [
    "zzz[\"PCD_CODE\"].value_counts()"
   ]
  },
  {
   "cell_type": "code",
   "execution_count": 16,
   "metadata": {},
   "outputs": [
    {
     "data": {
      "text/plain": [
       "(70220, 27)"
      ]
     },
     "execution_count": 16,
     "metadata": {},
     "output_type": "execute_result"
    }
   ],
   "source": [
    "fs.shape"
   ]
  },
  {
   "cell_type": "code",
   "execution_count": 17,
   "metadata": {},
   "outputs": [
    {
     "data": {
      "text/plain": [
       "array([1], dtype=int64)"
      ]
     },
     "execution_count": 17,
     "metadata": {},
     "output_type": "execute_result"
    }
   ],
   "source": [
    "fs[\"PCD_CODE\"].value_counts().unique()"
   ]
  },
  {
   "cell_type": "markdown",
   "metadata": {},
   "source": [
    "### Therefore no redundant data in zzz Frontlier"
   ]
  },
  {
   "cell_type": "code",
   "execution_count": 18,
   "metadata": {},
   "outputs": [],
   "source": [
    "pcd=pd.DataFrame()"
   ]
  },
  {
   "cell_type": "code",
   "execution_count": 19,
   "metadata": {},
   "outputs": [],
   "source": [
    "pcd.insert(0,\"xxx\",xxx[\"PCD_CODE\"])"
   ]
  },
  {
   "cell_type": "code",
   "execution_count": 20,
   "metadata": {},
   "outputs": [
    {
     "data": {
      "text/plain": [
       "(155427, 1)"
      ]
     },
     "execution_count": 20,
     "metadata": {},
     "output_type": "execute_result"
    }
   ],
   "source": [
    "pcd.shape"
   ]
  },
  {
   "cell_type": "code",
   "execution_count": 21,
   "metadata": {},
   "outputs": [],
   "source": [
    "pcd.insert(1,\"yyy\",yyy[\"PCD_CODE\"])"
   ]
  },
  {
   "cell_type": "code",
   "execution_count": 22,
   "metadata": {},
   "outputs": [],
   "source": [
    "pcd.insert(2,\"zzz\",zzz[\"PCD_CODE\"])"
   ]
  },
  {
   "cell_type": "code",
   "execution_count": null,
   "metadata": {},
   "outputs": [],
   "source": [
    "pcd.head()"
   ]
  },
  {
   "cell_type": "code",
   "execution_count": 24,
   "metadata": {},
   "outputs": [
    {
     "data": {
      "text/plain": [
       "(155427, 3)"
      ]
     },
     "execution_count": 24,
     "metadata": {},
     "output_type": "execute_result"
    }
   ],
   "source": [
    "pcd.shape"
   ]
  },
  {
   "cell_type": "code",
   "execution_count": null,
   "metadata": {},
   "outputs": [],
   "source": [
    "pcd.describe()"
   ]
  },
  {
   "cell_type": "code",
   "execution_count": 26,
   "metadata": {},
   "outputs": [
    {
     "data": {
      "text/plain": [
       "26403_FS     1\n",
       "112606_FS    1\n",
       "104471_FS    1\n",
       "25299_FS     1\n",
       "100210_FS    1\n",
       "            ..\n",
       "75987_FS     1\n",
       "34757_FS     1\n",
       "58485_FS     1\n",
       "68481_FS     1\n",
       "70227_FS     1\n",
       "Name: fs, Length: 70214, dtype: int64"
      ]
     },
     "execution_count": 26,
     "metadata": {},
     "output_type": "execute_result"
    }
   ],
   "source": [
    "pcd['fs'].value_counts()"
   ]
  },
  {
   "cell_type": "code",
   "execution_count": 164,
   "metadata": {},
   "outputs": [],
   "source": [
    "tot= pd.DataFrame(pd.merge(xxx,yyy,on=[\"PCD_CODE\"],how=\"inner\",suffixes=('_ACIS','_BSV')))"
   ]
  },
  {
   "cell_type": "code",
   "execution_count": 165,
   "metadata": {},
   "outputs": [
    {
     "data": {
      "text/html": [
       "<div>\n",
       "<style scoped>\n",
       "    .dataframe tbody tr th:only-of-type {\n",
       "        vertical-align: middle;\n",
       "    }\n",
       "\n",
       "    .dataframe tbody tr th {\n",
       "        vertical-align: top;\n",
       "    }\n",
       "\n",
       "    .dataframe thead th {\n",
       "        text-align: right;\n",
       "    }\n",
       "</style>\n",
       "<table border=\"1\" class=\"dataframe\">\n",
       "  <thead>\n",
       "    <tr style=\"text-align: right;\">\n",
       "      <th></th>\n",
       "      <th>SL_NO_ACIS</th>\n",
       "      <th>PCD_CODE</th>\n",
       "      <th>PCD_CODE1</th>\n",
       "      <th>EMP_NAME_ACIS</th>\n",
       "      <th>EMP_NAME1_ACIS</th>\n",
       "      <th>DOB_ACIS</th>\n",
       "      <th>AGE_ACIS</th>\n",
       "      <th>DOJ_ACIS</th>\n",
       "      <th>DOL_ACIS</th>\n",
       "      <th>DOS_ACIS</th>\n",
       "      <th>...</th>\n",
       "      <th>EMP_NAME1_BSV</th>\n",
       "      <th>DOB_BSV</th>\n",
       "      <th>AGE_BSV</th>\n",
       "      <th>DOJ_BSV</th>\n",
       "      <th>DOL_BSV</th>\n",
       "      <th>DOS_BSV</th>\n",
       "      <th>TOTAL MC_BSV</th>\n",
       "      <th>TOTAL CC_BSV</th>\n",
       "      <th>TOTAL VC1_BSV</th>\n",
       "      <th>GRAND TOTAL_BSV</th>\n",
       "    </tr>\n",
       "  </thead>\n",
       "  <tbody>\n",
       "    <tr>\n",
       "      <th>0</th>\n",
       "      <td>226</td>\n",
       "      <td>10230</td>\n",
       "      <td>10230</td>\n",
       "      <td>ALOK GUPTA</td>\n",
       "      <td>ALOK GUPTA</td>\n",
       "      <td>1977-10-01</td>\n",
       "      <td>41.494867</td>\n",
       "      <td>2007-04-09</td>\n",
       "      <td>2007-04-23</td>\n",
       "      <td>NaT</td>\n",
       "      <td>...</td>\n",
       "      <td>SRINIVASAN</td>\n",
       "      <td>1960-04-01</td>\n",
       "      <td>58.995209</td>\n",
       "      <td>2000-04-01</td>\n",
       "      <td>2001-03-31</td>\n",
       "      <td>NaT</td>\n",
       "      <td>49674</td>\n",
       "      <td>39947.0</td>\n",
       "      <td>62079.0</td>\n",
       "      <td>151700.0</td>\n",
       "    </tr>\n",
       "    <tr>\n",
       "      <th>1</th>\n",
       "      <td>977</td>\n",
       "      <td>110</td>\n",
       "      <td>110</td>\n",
       "      <td>SUNIL NAIR</td>\n",
       "      <td>SUNIL NAIR</td>\n",
       "      <td>1968-10-03</td>\n",
       "      <td>50.488706</td>\n",
       "      <td>1999-10-04</td>\n",
       "      <td>NaT</td>\n",
       "      <td>NaT</td>\n",
       "      <td>...</td>\n",
       "      <td>NATAARAJ V S</td>\n",
       "      <td>1960-04-01</td>\n",
       "      <td>58.995209</td>\n",
       "      <td>2000-04-01</td>\n",
       "      <td>2001-03-31</td>\n",
       "      <td>NaT</td>\n",
       "      <td>17999</td>\n",
       "      <td>6033.0</td>\n",
       "      <td>0.0</td>\n",
       "      <td>24032.0</td>\n",
       "    </tr>\n",
       "    <tr>\n",
       "      <th>2</th>\n",
       "      <td>1963</td>\n",
       "      <td>12</td>\n",
       "      <td>12</td>\n",
       "      <td>JAGDISH MISRA</td>\n",
       "      <td>JAGDISH MISRA</td>\n",
       "      <td>1971-05-27</td>\n",
       "      <td>47.843943</td>\n",
       "      <td>1997-10-01</td>\n",
       "      <td>2018-01-31</td>\n",
       "      <td>2018-07-31</td>\n",
       "      <td>...</td>\n",
       "      <td>KALYANI S</td>\n",
       "      <td>1960-04-01</td>\n",
       "      <td>58.995209</td>\n",
       "      <td>2000-04-01</td>\n",
       "      <td>2001-03-31</td>\n",
       "      <td>NaT</td>\n",
       "      <td>23941</td>\n",
       "      <td>8013.0</td>\n",
       "      <td>0.0</td>\n",
       "      <td>31954.0</td>\n",
       "    </tr>\n",
       "    <tr>\n",
       "      <th>3</th>\n",
       "      <td>2977</td>\n",
       "      <td>130</td>\n",
       "      <td>130</td>\n",
       "      <td>VIKRAM SINHA</td>\n",
       "      <td>VIKRAM SINHA</td>\n",
       "      <td>1975-01-01</td>\n",
       "      <td>44.243669</td>\n",
       "      <td>2000-06-05</td>\n",
       "      <td>2001-03-31</td>\n",
       "      <td>NaT</td>\n",
       "      <td>...</td>\n",
       "      <td>DEEPA PANJWANI</td>\n",
       "      <td>1960-04-01</td>\n",
       "      <td>58.995209</td>\n",
       "      <td>2000-04-01</td>\n",
       "      <td>2001-03-31</td>\n",
       "      <td>NaT</td>\n",
       "      <td>39426</td>\n",
       "      <td>17909.0</td>\n",
       "      <td>0.0</td>\n",
       "      <td>57335.0</td>\n",
       "    </tr>\n",
       "    <tr>\n",
       "      <th>4</th>\n",
       "      <td>3280</td>\n",
       "      <td>133</td>\n",
       "      <td>133</td>\n",
       "      <td>ANIL GUPTA</td>\n",
       "      <td>ANIL GUPTA</td>\n",
       "      <td>1964-07-09</td>\n",
       "      <td>54.724162</td>\n",
       "      <td>2000-07-17</td>\n",
       "      <td>2010-08-06</td>\n",
       "      <td>NaT</td>\n",
       "      <td>...</td>\n",
       "      <td>NAGARAJU R</td>\n",
       "      <td>1960-04-01</td>\n",
       "      <td>58.995209</td>\n",
       "      <td>2000-04-01</td>\n",
       "      <td>2001-03-31</td>\n",
       "      <td>NaT</td>\n",
       "      <td>2830</td>\n",
       "      <td>949.0</td>\n",
       "      <td>0.0</td>\n",
       "      <td>3779.0</td>\n",
       "    </tr>\n",
       "    <tr>\n",
       "      <th>5</th>\n",
       "      <td>4662</td>\n",
       "      <td>1465</td>\n",
       "      <td>1465</td>\n",
       "      <td>DEVI PRASAD MOHANTY</td>\n",
       "      <td>DEVI PRASAD MOHANTY</td>\n",
       "      <td>1977-01-03</td>\n",
       "      <td>42.236824</td>\n",
       "      <td>2003-12-22</td>\n",
       "      <td>2012-08-28</td>\n",
       "      <td>NaT</td>\n",
       "      <td>...</td>\n",
       "      <td>SUJATHA  R</td>\n",
       "      <td>1960-04-01</td>\n",
       "      <td>58.995209</td>\n",
       "      <td>2000-04-01</td>\n",
       "      <td>2001-03-31</td>\n",
       "      <td>NaT</td>\n",
       "      <td>514</td>\n",
       "      <td>172.0</td>\n",
       "      <td>0.0</td>\n",
       "      <td>686.0</td>\n",
       "    </tr>\n",
       "    <tr>\n",
       "      <th>6</th>\n",
       "      <td>4809</td>\n",
       "      <td>1481</td>\n",
       "      <td>1481</td>\n",
       "      <td>CHENNA GOVINDU</td>\n",
       "      <td>CHENNA GOVINDU</td>\n",
       "      <td>1980-07-18</td>\n",
       "      <td>38.699521</td>\n",
       "      <td>2003-12-29</td>\n",
       "      <td>2008-07-18</td>\n",
       "      <td>NaT</td>\n",
       "      <td>...</td>\n",
       "      <td>NAGARATHNAM MAYA</td>\n",
       "      <td>1960-04-01</td>\n",
       "      <td>58.995209</td>\n",
       "      <td>2000-04-01</td>\n",
       "      <td>2001-03-31</td>\n",
       "      <td>NaT</td>\n",
       "      <td>1314</td>\n",
       "      <td>567.0</td>\n",
       "      <td>0.0</td>\n",
       "      <td>1881.0</td>\n",
       "    </tr>\n",
       "    <tr>\n",
       "      <th>7</th>\n",
       "      <td>4811</td>\n",
       "      <td>1483</td>\n",
       "      <td>1483</td>\n",
       "      <td>LUETTE BRAGANZA</td>\n",
       "      <td>LUETTE BRAGANZA</td>\n",
       "      <td>1972-09-13</td>\n",
       "      <td>46.543463</td>\n",
       "      <td>2003-12-29</td>\n",
       "      <td>2009-08-14</td>\n",
       "      <td>NaT</td>\n",
       "      <td>...</td>\n",
       "      <td>KRISHNA MOORTHY</td>\n",
       "      <td>1960-04-01</td>\n",
       "      <td>58.995209</td>\n",
       "      <td>2000-04-01</td>\n",
       "      <td>2001-03-31</td>\n",
       "      <td>NaT</td>\n",
       "      <td>991</td>\n",
       "      <td>327.0</td>\n",
       "      <td>0.0</td>\n",
       "      <td>1318.0</td>\n",
       "    </tr>\n",
       "    <tr>\n",
       "      <th>8</th>\n",
       "      <td>4812</td>\n",
       "      <td>1484</td>\n",
       "      <td>1484</td>\n",
       "      <td>GANESH KALE</td>\n",
       "      <td>GANESH KALE</td>\n",
       "      <td>1976-01-22</td>\n",
       "      <td>43.186858</td>\n",
       "      <td>2003-12-29</td>\n",
       "      <td>NaT</td>\n",
       "      <td>NaT</td>\n",
       "      <td>...</td>\n",
       "      <td>SRIKANTH K</td>\n",
       "      <td>1960-04-01</td>\n",
       "      <td>58.995209</td>\n",
       "      <td>2000-04-01</td>\n",
       "      <td>2001-03-31</td>\n",
       "      <td>NaT</td>\n",
       "      <td>885</td>\n",
       "      <td>303.0</td>\n",
       "      <td>0.0</td>\n",
       "      <td>1188.0</td>\n",
       "    </tr>\n",
       "    <tr>\n",
       "      <th>9</th>\n",
       "      <td>7796</td>\n",
       "      <td>183</td>\n",
       "      <td>183</td>\n",
       "      <td>GOVIND SHARMA</td>\n",
       "      <td>GOVIND SHARMA</td>\n",
       "      <td>1979-04-20</td>\n",
       "      <td>39.945243</td>\n",
       "      <td>2001-01-01</td>\n",
       "      <td>2010-01-22</td>\n",
       "      <td>NaT</td>\n",
       "      <td>...</td>\n",
       "      <td>BAHIR V M</td>\n",
       "      <td>1960-04-01</td>\n",
       "      <td>58.995209</td>\n",
       "      <td>2000-04-01</td>\n",
       "      <td>2001-03-31</td>\n",
       "      <td>NaT</td>\n",
       "      <td>3286</td>\n",
       "      <td>1099.0</td>\n",
       "      <td>0.0</td>\n",
       "      <td>4385.0</td>\n",
       "    </tr>\n",
       "    <tr>\n",
       "      <th>10</th>\n",
       "      <td>8083</td>\n",
       "      <td>186</td>\n",
       "      <td>186</td>\n",
       "      <td>SHRIKANT BHAT</td>\n",
       "      <td>SHRIKANT BHAT</td>\n",
       "      <td>1968-05-05</td>\n",
       "      <td>50.902122</td>\n",
       "      <td>2001-01-01</td>\n",
       "      <td>2010-12-31</td>\n",
       "      <td>NaT</td>\n",
       "      <td>...</td>\n",
       "      <td>VIDYA NAIK</td>\n",
       "      <td>1960-04-01</td>\n",
       "      <td>58.995209</td>\n",
       "      <td>2000-04-01</td>\n",
       "      <td>2001-03-31</td>\n",
       "      <td>NaT</td>\n",
       "      <td>12347</td>\n",
       "      <td>4127.0</td>\n",
       "      <td>0.0</td>\n",
       "      <td>16474.0</td>\n",
       "    </tr>\n",
       "    <tr>\n",
       "      <th>11</th>\n",
       "      <td>8176</td>\n",
       "      <td>187</td>\n",
       "      <td>187</td>\n",
       "      <td>VINAY SHETTY</td>\n",
       "      <td>VINAY SHETTY</td>\n",
       "      <td>1969-04-03</td>\n",
       "      <td>49.990418</td>\n",
       "      <td>2001-01-01</td>\n",
       "      <td>2010-12-14</td>\n",
       "      <td>NaT</td>\n",
       "      <td>...</td>\n",
       "      <td>RAMESH TIPPINNI</td>\n",
       "      <td>1960-04-01</td>\n",
       "      <td>58.995209</td>\n",
       "      <td>2000-04-01</td>\n",
       "      <td>2001-03-31</td>\n",
       "      <td>NaT</td>\n",
       "      <td>19108</td>\n",
       "      <td>6397.0</td>\n",
       "      <td>0.0</td>\n",
       "      <td>25505.0</td>\n",
       "    </tr>\n",
       "    <tr>\n",
       "      <th>12</th>\n",
       "      <td>8981</td>\n",
       "      <td>195</td>\n",
       "      <td>195</td>\n",
       "      <td>NAVIN CHANDIRAMANI</td>\n",
       "      <td>NAVIN CHANDIRAMANI</td>\n",
       "      <td>1974-02-21</td>\n",
       "      <td>45.103354</td>\n",
       "      <td>2013-02-05</td>\n",
       "      <td>2013-02-05</td>\n",
       "      <td>NaT</td>\n",
       "      <td>...</td>\n",
       "      <td>YASEER ARAFAT R</td>\n",
       "      <td>1960-04-01</td>\n",
       "      <td>58.995209</td>\n",
       "      <td>2000-04-01</td>\n",
       "      <td>2001-03-31</td>\n",
       "      <td>NaT</td>\n",
       "      <td>16681</td>\n",
       "      <td>5590.0</td>\n",
       "      <td>0.0</td>\n",
       "      <td>22271.0</td>\n",
       "    </tr>\n",
       "    <tr>\n",
       "      <th>13</th>\n",
       "      <td>9777</td>\n",
       "      <td>206</td>\n",
       "      <td>206</td>\n",
       "      <td>LOVEKESH BABBAR</td>\n",
       "      <td>LOVEKESH BABBAR</td>\n",
       "      <td>1972-04-28</td>\n",
       "      <td>46.921287</td>\n",
       "      <td>2001-02-12</td>\n",
       "      <td>2005-10-25</td>\n",
       "      <td>NaT</td>\n",
       "      <td>...</td>\n",
       "      <td>KIRAN BABU S</td>\n",
       "      <td>1960-04-01</td>\n",
       "      <td>58.995209</td>\n",
       "      <td>2000-04-01</td>\n",
       "      <td>2001-03-31</td>\n",
       "      <td>NaT</td>\n",
       "      <td>16333</td>\n",
       "      <td>5468.0</td>\n",
       "      <td>0.0</td>\n",
       "      <td>21801.0</td>\n",
       "    </tr>\n",
       "    <tr>\n",
       "      <th>14</th>\n",
       "      <td>10517</td>\n",
       "      <td>214</td>\n",
       "      <td>214</td>\n",
       "      <td>VIJAY GANGAL</td>\n",
       "      <td>VIJAY GANGAL</td>\n",
       "      <td>1960-12-27</td>\n",
       "      <td>58.255989</td>\n",
       "      <td>2001-03-01</td>\n",
       "      <td>NaT</td>\n",
       "      <td>NaT</td>\n",
       "      <td>...</td>\n",
       "      <td>SHEIK TAUSID SAJJAD</td>\n",
       "      <td>1960-04-01</td>\n",
       "      <td>58.995209</td>\n",
       "      <td>2000-04-01</td>\n",
       "      <td>2001-03-31</td>\n",
       "      <td>NaT</td>\n",
       "      <td>19634</td>\n",
       "      <td>7684.0</td>\n",
       "      <td>0.0</td>\n",
       "      <td>27318.0</td>\n",
       "    </tr>\n",
       "  </tbody>\n",
       "</table>\n",
       "<p>15 rows × 27 columns</p>\n",
       "</div>"
      ],
      "text/plain": [
       "   SL_NO_ACIS PCD_CODE PCD_CODE1        EMP_NAME_ACIS       EMP_NAME1_ACIS  \\\n",
       "0         226    10230     10230           ALOK GUPTA           ALOK GUPTA   \n",
       "1         977      110       110           SUNIL NAIR           SUNIL NAIR   \n",
       "2        1963       12        12        JAGDISH MISRA        JAGDISH MISRA   \n",
       "3        2977      130       130         VIKRAM SINHA         VIKRAM SINHA   \n",
       "4        3280      133       133           ANIL GUPTA           ANIL GUPTA   \n",
       "5        4662     1465      1465  DEVI PRASAD MOHANTY  DEVI PRASAD MOHANTY   \n",
       "6        4809     1481      1481       CHENNA GOVINDU       CHENNA GOVINDU   \n",
       "7        4811     1483      1483      LUETTE BRAGANZA      LUETTE BRAGANZA   \n",
       "8        4812     1484      1484          GANESH KALE          GANESH KALE   \n",
       "9        7796      183       183        GOVIND SHARMA        GOVIND SHARMA   \n",
       "10       8083      186       186        SHRIKANT BHAT        SHRIKANT BHAT   \n",
       "11       8176      187       187         VINAY SHETTY         VINAY SHETTY   \n",
       "12       8981      195       195   NAVIN CHANDIRAMANI   NAVIN CHANDIRAMANI   \n",
       "13       9777      206       206      LOVEKESH BABBAR      LOVEKESH BABBAR   \n",
       "14      10517      214       214         VIJAY GANGAL         VIJAY GANGAL   \n",
       "\n",
       "     DOB_ACIS   AGE_ACIS   DOJ_ACIS   DOL_ACIS   DOS_ACIS  ...  \\\n",
       "0  1977-10-01  41.494867 2007-04-09 2007-04-23        NaT  ...   \n",
       "1  1968-10-03  50.488706 1999-10-04        NaT        NaT  ...   \n",
       "2  1971-05-27  47.843943 1997-10-01 2018-01-31 2018-07-31  ...   \n",
       "3  1975-01-01  44.243669 2000-06-05 2001-03-31        NaT  ...   \n",
       "4  1964-07-09  54.724162 2000-07-17 2010-08-06        NaT  ...   \n",
       "5  1977-01-03  42.236824 2003-12-22 2012-08-28        NaT  ...   \n",
       "6  1980-07-18  38.699521 2003-12-29 2008-07-18        NaT  ...   \n",
       "7  1972-09-13  46.543463 2003-12-29 2009-08-14        NaT  ...   \n",
       "8  1976-01-22  43.186858 2003-12-29        NaT        NaT  ...   \n",
       "9  1979-04-20  39.945243 2001-01-01 2010-01-22        NaT  ...   \n",
       "10 1968-05-05  50.902122 2001-01-01 2010-12-31        NaT  ...   \n",
       "11 1969-04-03  49.990418 2001-01-01 2010-12-14        NaT  ...   \n",
       "12 1974-02-21  45.103354 2013-02-05 2013-02-05        NaT  ...   \n",
       "13 1972-04-28  46.921287 2001-02-12 2005-10-25        NaT  ...   \n",
       "14 1960-12-27  58.255989 2001-03-01        NaT        NaT  ...   \n",
       "\n",
       "          EMP_NAME1_BSV    DOB_BSV    AGE_BSV    DOJ_BSV    DOL_BSV DOS_BSV  \\\n",
       "0            SRINIVASAN 1960-04-01  58.995209 2000-04-01 2001-03-31     NaT   \n",
       "1          NATAARAJ V S 1960-04-01  58.995209 2000-04-01 2001-03-31     NaT   \n",
       "2             KALYANI S 1960-04-01  58.995209 2000-04-01 2001-03-31     NaT   \n",
       "3        DEEPA PANJWANI 1960-04-01  58.995209 2000-04-01 2001-03-31     NaT   \n",
       "4            NAGARAJU R 1960-04-01  58.995209 2000-04-01 2001-03-31     NaT   \n",
       "5            SUJATHA  R 1960-04-01  58.995209 2000-04-01 2001-03-31     NaT   \n",
       "6      NAGARATHNAM MAYA 1960-04-01  58.995209 2000-04-01 2001-03-31     NaT   \n",
       "7       KRISHNA MOORTHY 1960-04-01  58.995209 2000-04-01 2001-03-31     NaT   \n",
       "8            SRIKANTH K 1960-04-01  58.995209 2000-04-01 2001-03-31     NaT   \n",
       "9             BAHIR V M 1960-04-01  58.995209 2000-04-01 2001-03-31     NaT   \n",
       "10           VIDYA NAIK 1960-04-01  58.995209 2000-04-01 2001-03-31     NaT   \n",
       "11      RAMESH TIPPINNI 1960-04-01  58.995209 2000-04-01 2001-03-31     NaT   \n",
       "12      YASEER ARAFAT R 1960-04-01  58.995209 2000-04-01 2001-03-31     NaT   \n",
       "13         KIRAN BABU S 1960-04-01  58.995209 2000-04-01 2001-03-31     NaT   \n",
       "14  SHEIK TAUSID SAJJAD 1960-04-01  58.995209 2000-04-01 2001-03-31     NaT   \n",
       "\n",
       "   TOTAL MC_BSV TOTAL CC_BSV TOTAL VC1_BSV  GRAND TOTAL_BSV  \n",
       "0         49674      39947.0       62079.0         151700.0  \n",
       "1         17999       6033.0           0.0          24032.0  \n",
       "2         23941       8013.0           0.0          31954.0  \n",
       "3         39426      17909.0           0.0          57335.0  \n",
       "4          2830        949.0           0.0           3779.0  \n",
       "5           514        172.0           0.0            686.0  \n",
       "6          1314        567.0           0.0           1881.0  \n",
       "7           991        327.0           0.0           1318.0  \n",
       "8           885        303.0           0.0           1188.0  \n",
       "9          3286       1099.0           0.0           4385.0  \n",
       "10        12347       4127.0           0.0          16474.0  \n",
       "11        19108       6397.0           0.0          25505.0  \n",
       "12        16681       5590.0           0.0          22271.0  \n",
       "13        16333       5468.0           0.0          21801.0  \n",
       "14        19634       7684.0           0.0          27318.0  \n",
       "\n",
       "[15 rows x 27 columns]"
      ]
     },
     "execution_count": 165,
     "metadata": {},
     "output_type": "execute_result"
    }
   ],
   "source": [
    "tot.head(15)"
   ]
  },
  {
   "cell_type": "code",
   "execution_count": 150,
   "metadata": {},
   "outputs": [],
   "source": [
    "tot=tot.drop([\"PCD_COD1E\"],axis=1)"
   ]
  },
  {
   "cell_type": "code",
   "execution_count": 148,
   "metadata": {},
   "outputs": [
    {
     "data": {
      "text/plain": [
       "(15722, 26)"
      ]
     },
     "execution_count": 148,
     "metadata": {},
     "output_type": "execute_result"
    }
   ],
   "source": [
    "tot.shape"
   ]
  },
  {
   "cell_type": "code",
   "execution_count": 151,
   "metadata": {},
   "outputs": [],
   "source": [
    "tot.to_csv(r\"xxxx_yyy.csv\")"
   ]
  },
  {
   "cell_type": "code",
   "execution_count": 30,
   "metadata": {},
   "outputs": [
    {
     "data": {
      "text/html": [
       "<div>\n",
       "<style scoped>\n",
       "    .dataframe tbody tr th:only-of-type {\n",
       "        vertical-align: middle;\n",
       "    }\n",
       "\n",
       "    .dataframe tbody tr th {\n",
       "        vertical-align: top;\n",
       "    }\n",
       "\n",
       "    .dataframe thead th {\n",
       "        text-align: right;\n",
       "    }\n",
       "</style>\n",
       "<table border=\"1\" class=\"dataframe\">\n",
       "  <thead>\n",
       "    <tr style=\"text-align: right;\">\n",
       "      <th></th>\n",
       "      <th>SL_NO_x</th>\n",
       "      <th>PCD_CODE</th>\n",
       "      <th>PCD_CODE1</th>\n",
       "      <th>EMP_NAME_x</th>\n",
       "      <th>EMP_NAME1_x</th>\n",
       "      <th>DOB_x</th>\n",
       "      <th>AGE_x</th>\n",
       "      <th>DOJ_x</th>\n",
       "      <th>DOL_x</th>\n",
       "      <th>DOS_x</th>\n",
       "      <th>...</th>\n",
       "      <th>EMP_NAME1_y</th>\n",
       "      <th>DOB_y</th>\n",
       "      <th>AGE_y</th>\n",
       "      <th>DOJ_y</th>\n",
       "      <th>DOL_y</th>\n",
       "      <th>DOS_y</th>\n",
       "      <th>TOTAL MC_y</th>\n",
       "      <th>TOTAL CC_y</th>\n",
       "      <th>TOTAL VC1_y</th>\n",
       "      <th>GRAND TOTAL_y</th>\n",
       "    </tr>\n",
       "  </thead>\n",
       "  <tbody>\n",
       "  </tbody>\n",
       "</table>\n",
       "<p>0 rows × 27 columns</p>\n",
       "</div>"
      ],
      "text/plain": [
       "Empty DataFrame\n",
       "Columns: [SL_NO_x, PCD_CODE, PCD_CODE1, EMP_NAME_x, EMP_NAME1_x, DOB_x, AGE_x, DOJ_x, DOL_x, DOS_x, TOTAL MC_x, TOTAL CC_x, TOTAL VC1_x, GRAND TOTAL_x, SL_NO_y, PCD_COD1E, EMP_NAME_y, EMP_NAME1_y, DOB_y, AGE_y, DOJ_y, DOL_y, DOS_y, TOTAL MC_y, TOTAL CC_y, TOTAL VC1_y, GRAND TOTAL_y]\n",
       "Index: []\n",
       "\n",
       "[0 rows x 27 columns]"
      ]
     },
     "execution_count": 30,
     "metadata": {},
     "output_type": "execute_result"
    }
   ],
   "source": [
    "tot[tot[\"EMP_NAME_x\"]==tot[\"EMP_NAME_y\"]]"
   ]
  },
  {
   "cell_type": "code",
   "execution_count": null,
   "metadata": {},
   "outputs": [],
   "source": []
  },
  {
   "cell_type": "code",
   "execution_count": null,
   "metadata": {},
   "outputs": [],
   "source": []
  },
  {
   "cell_type": "code",
   "execution_count": 31,
   "metadata": {},
   "outputs": [
    {
     "data": {
      "text/plain": [
       "True     15642\n",
       "False       80\n",
       "Name: PCD_CODE, dtype: int64"
      ]
     },
     "execution_count": 31,
     "metadata": {},
     "output_type": "execute_result"
    }
   ],
   "source": [
    "tot[\"PCD_CODE\"].notna().value_counts()"
   ]
  },
  {
   "cell_type": "code",
   "execution_count": 32,
   "metadata": {},
   "outputs": [
    {
     "data": {
      "text/plain": [
       "(15722, 27)"
      ]
     },
     "execution_count": 32,
     "metadata": {},
     "output_type": "execute_result"
    }
   ],
   "source": [
    "tot.shape"
   ]
  },
  {
   "cell_type": "markdown",
   "metadata": {},
   "source": [
    "### The above data is common in xxx and yyy"
   ]
  },
  {
   "cell_type": "code",
   "execution_count": 33,
   "metadata": {},
   "outputs": [],
   "source": [
    "tot1= yyy.merge(zzz,left_on = [\"PCD_CODE\"], right_on = [\"PCD_CODE\"])"
   ]
  },
  {
   "cell_type": "code",
   "execution_count": 34,
   "metadata": {},
   "outputs": [
    {
     "data": {
      "text/html": [
       "<div>\n",
       "<style scoped>\n",
       "    .dataframe tbody tr th:only-of-type {\n",
       "        vertical-align: middle;\n",
       "    }\n",
       "\n",
       "    .dataframe tbody tr th {\n",
       "        vertical-align: top;\n",
       "    }\n",
       "\n",
       "    .dataframe thead th {\n",
       "        text-align: right;\n",
       "    }\n",
       "</style>\n",
       "<table border=\"1\" class=\"dataframe\">\n",
       "  <thead>\n",
       "    <tr style=\"text-align: right;\">\n",
       "      <th></th>\n",
       "      <th>SL_NO_x</th>\n",
       "      <th>PCD_CODE</th>\n",
       "      <th>PCD_COD1E</th>\n",
       "      <th>EMP_NAME_x</th>\n",
       "      <th>EMP_NAME1</th>\n",
       "      <th>DOB_x</th>\n",
       "      <th>AGE</th>\n",
       "      <th>DOJ_x</th>\n",
       "      <th>DOL_x</th>\n",
       "      <th>DOS_x</th>\n",
       "      <th>...</th>\n",
       "      <th>DOS_y</th>\n",
       "      <th>Unnamed: 18</th>\n",
       "      <th>Unnamed: 19</th>\n",
       "      <th>TOT_MC</th>\n",
       "      <th>TOT_IMC</th>\n",
       "      <th>TOT_CC</th>\n",
       "      <th>TOT_ICC</th>\n",
       "      <th>TOT_VC1</th>\n",
       "      <th>TOT_IVC1</th>\n",
       "      <th>Grand Total</th>\n",
       "    </tr>\n",
       "  </thead>\n",
       "  <tbody>\n",
       "    <tr>\n",
       "      <th>0</th>\n",
       "      <td>NaN</td>\n",
       "      <td>NaN</td>\n",
       "      <td>NaN</td>\n",
       "      <td>NaN</td>\n",
       "      <td>NaN</td>\n",
       "      <td>NaT</td>\n",
       "      <td>NaN</td>\n",
       "      <td>NaT</td>\n",
       "      <td>NaT</td>\n",
       "      <td>NaT</td>\n",
       "      <td>...</td>\n",
       "      <td>NaN</td>\n",
       "      <td>NaN</td>\n",
       "      <td>NaN</td>\n",
       "      <td>NaN</td>\n",
       "      <td>NaN</td>\n",
       "      <td>NaN</td>\n",
       "      <td>NaN</td>\n",
       "      <td>NaN</td>\n",
       "      <td>NaN</td>\n",
       "      <td>NaN</td>\n",
       "    </tr>\n",
       "    <tr>\n",
       "      <th>1</th>\n",
       "      <td>NaN</td>\n",
       "      <td>NaN</td>\n",
       "      <td>NaN</td>\n",
       "      <td>NaN</td>\n",
       "      <td>NaN</td>\n",
       "      <td>NaT</td>\n",
       "      <td>NaN</td>\n",
       "      <td>NaT</td>\n",
       "      <td>NaT</td>\n",
       "      <td>NaT</td>\n",
       "      <td>...</td>\n",
       "      <td>Total As per Oneliner</td>\n",
       "      <td>NaN</td>\n",
       "      <td>NaN</td>\n",
       "      <td>4.741343e+09</td>\n",
       "      <td>356908147.0</td>\n",
       "      <td>3.19599e+09</td>\n",
       "      <td>241215916.0</td>\n",
       "      <td>12578492.0</td>\n",
       "      <td>659426.0</td>\n",
       "      <td>8.548700e+09</td>\n",
       "    </tr>\n",
       "    <tr>\n",
       "      <th>2</th>\n",
       "      <td>NaN</td>\n",
       "      <td>NaN</td>\n",
       "      <td>NaN</td>\n",
       "      <td>NaN</td>\n",
       "      <td>NaN</td>\n",
       "      <td>NaT</td>\n",
       "      <td>NaN</td>\n",
       "      <td>NaT</td>\n",
       "      <td>NaT</td>\n",
       "      <td>NaT</td>\n",
       "      <td>...</td>\n",
       "      <td>NaN</td>\n",
       "      <td>NaN</td>\n",
       "      <td>NaN</td>\n",
       "      <td>NaN</td>\n",
       "      <td>NaN</td>\n",
       "      <td>NaN</td>\n",
       "      <td>NaN</td>\n",
       "      <td>NaN</td>\n",
       "      <td>NaN</td>\n",
       "      <td>NaN</td>\n",
       "    </tr>\n",
       "    <tr>\n",
       "      <th>3</th>\n",
       "      <td>NaN</td>\n",
       "      <td>NaN</td>\n",
       "      <td>NaN</td>\n",
       "      <td>NaN</td>\n",
       "      <td>NaN</td>\n",
       "      <td>NaT</td>\n",
       "      <td>NaN</td>\n",
       "      <td>NaT</td>\n",
       "      <td>NaT</td>\n",
       "      <td>NaT</td>\n",
       "      <td>...</td>\n",
       "      <td>NaN</td>\n",
       "      <td>NaN</td>\n",
       "      <td>NaN</td>\n",
       "      <td>NaN</td>\n",
       "      <td>NaN</td>\n",
       "      <td>Less: Differential Interest for 2018-19 (8.65%...</td>\n",
       "      <td>NaN</td>\n",
       "      <td>NaN</td>\n",
       "      <td>NaN</td>\n",
       "      <td>1.098109e+06</td>\n",
       "    </tr>\n",
       "    <tr>\n",
       "      <th>4</th>\n",
       "      <td>NaN</td>\n",
       "      <td>NaN</td>\n",
       "      <td>NaN</td>\n",
       "      <td>NaN</td>\n",
       "      <td>NaN</td>\n",
       "      <td>NaT</td>\n",
       "      <td>NaN</td>\n",
       "      <td>NaT</td>\n",
       "      <td>NaT</td>\n",
       "      <td>NaT</td>\n",
       "      <td>...</td>\n",
       "      <td>NaN</td>\n",
       "      <td>NaN</td>\n",
       "      <td>NaN</td>\n",
       "      <td>NaN</td>\n",
       "      <td>NaN</td>\n",
       "      <td>NaN</td>\n",
       "      <td>NaN</td>\n",
       "      <td>NaN</td>\n",
       "      <td>NaN</td>\n",
       "      <td>NaN</td>\n",
       "    </tr>\n",
       "  </tbody>\n",
       "</table>\n",
       "<p>5 rows × 40 columns</p>\n",
       "</div>"
      ],
      "text/plain": [
       "  SL_NO_x PCD_CODE PCD_COD1E EMP_NAME_x EMP_NAME1 DOB_x  AGE DOJ_x DOL_x  \\\n",
       "0     NaN      NaN       NaN        NaN       NaN   NaT  NaN   NaT   NaT   \n",
       "1     NaN      NaN       NaN        NaN       NaN   NaT  NaN   NaT   NaT   \n",
       "2     NaN      NaN       NaN        NaN       NaN   NaT  NaN   NaT   NaT   \n",
       "3     NaN      NaN       NaN        NaN       NaN   NaT  NaN   NaT   NaT   \n",
       "4     NaN      NaN       NaN        NaN       NaN   NaT  NaN   NaT   NaT   \n",
       "\n",
       "  DOS_x  ...                  DOS_y  Unnamed: 18  Unnamed: 19        TOT_MC  \\\n",
       "0   NaT  ...                    NaN          NaN          NaN           NaN   \n",
       "1   NaT  ...  Total As per Oneliner          NaN          NaN  4.741343e+09   \n",
       "2   NaT  ...                    NaN          NaN          NaN           NaN   \n",
       "3   NaT  ...                    NaN          NaN          NaN           NaN   \n",
       "4   NaT  ...                    NaN          NaN          NaN           NaN   \n",
       "\n",
       "       TOT_IMC                                             TOT_CC  \\\n",
       "0          NaN                                                NaN   \n",
       "1  356908147.0                                        3.19599e+09   \n",
       "2          NaN                                                NaN   \n",
       "3          NaN  Less: Differential Interest for 2018-19 (8.65%...   \n",
       "4          NaN                                                NaN   \n",
       "\n",
       "       TOT_ICC     TOT_VC1  TOT_IVC1   Grand Total  \n",
       "0          NaN         NaN       NaN           NaN  \n",
       "1  241215916.0  12578492.0  659426.0  8.548700e+09  \n",
       "2          NaN         NaN       NaN           NaN  \n",
       "3          NaN         NaN       NaN  1.098109e+06  \n",
       "4          NaN         NaN       NaN           NaN  \n",
       "\n",
       "[5 rows x 40 columns]"
      ]
     },
     "execution_count": 34,
     "metadata": {},
     "output_type": "execute_result"
    }
   ],
   "source": [
    "tot1.head()"
   ]
  },
  {
   "cell_type": "markdown",
   "metadata": {},
   "source": [
    "### No data common in yyy and zzz"
   ]
  },
  {
   "cell_type": "code",
   "execution_count": 35,
   "metadata": {},
   "outputs": [],
   "source": [
    "tot2= pd.merge(xxx,zzz,on=[\"PCD_CODE\"],how=\"inner\")"
   ]
  },
  {
   "cell_type": "code",
   "execution_count": 36,
   "metadata": {},
   "outputs": [
    {
     "data": {
      "text/html": [
       "<div>\n",
       "<style scoped>\n",
       "    .dataframe tbody tr th:only-of-type {\n",
       "        vertical-align: middle;\n",
       "    }\n",
       "\n",
       "    .dataframe tbody tr th {\n",
       "        vertical-align: top;\n",
       "    }\n",
       "\n",
       "    .dataframe thead th {\n",
       "        text-align: right;\n",
       "    }\n",
       "</style>\n",
       "<table border=\"1\" class=\"dataframe\">\n",
       "  <thead>\n",
       "    <tr style=\"text-align: right;\">\n",
       "      <th></th>\n",
       "      <th>SL_NO_x</th>\n",
       "      <th>PCD_CODE</th>\n",
       "      <th>PCD_CODE1_x</th>\n",
       "      <th>EMP_NAME_x</th>\n",
       "      <th>EMP_NAME1</th>\n",
       "      <th>DOB_x</th>\n",
       "      <th>AGE</th>\n",
       "      <th>DOJ_x</th>\n",
       "      <th>DOL_x</th>\n",
       "      <th>DOS_x</th>\n",
       "      <th>...</th>\n",
       "      <th>DOS_y</th>\n",
       "      <th>Unnamed: 18</th>\n",
       "      <th>Unnamed: 19</th>\n",
       "      <th>TOT_MC</th>\n",
       "      <th>TOT_IMC</th>\n",
       "      <th>TOT_CC</th>\n",
       "      <th>TOT_ICC</th>\n",
       "      <th>TOT_VC1</th>\n",
       "      <th>TOT_IVC1</th>\n",
       "      <th>Grand Total</th>\n",
       "    </tr>\n",
       "  </thead>\n",
       "  <tbody>\n",
       "    <tr>\n",
       "      <th>0</th>\n",
       "      <td>NaN</td>\n",
       "      <td>NaN</td>\n",
       "      <td>NaN</td>\n",
       "      <td>NaN</td>\n",
       "      <td>NaN</td>\n",
       "      <td>NaT</td>\n",
       "      <td>NaN</td>\n",
       "      <td>NaT</td>\n",
       "      <td>NaT</td>\n",
       "      <td>NaT</td>\n",
       "      <td>...</td>\n",
       "      <td>NaN</td>\n",
       "      <td>NaN</td>\n",
       "      <td>NaN</td>\n",
       "      <td>NaN</td>\n",
       "      <td>NaN</td>\n",
       "      <td>NaN</td>\n",
       "      <td>NaN</td>\n",
       "      <td>NaN</td>\n",
       "      <td>NaN</td>\n",
       "      <td>NaN</td>\n",
       "    </tr>\n",
       "    <tr>\n",
       "      <th>1</th>\n",
       "      <td>NaN</td>\n",
       "      <td>NaN</td>\n",
       "      <td>NaN</td>\n",
       "      <td>NaN</td>\n",
       "      <td>NaN</td>\n",
       "      <td>NaT</td>\n",
       "      <td>NaN</td>\n",
       "      <td>NaT</td>\n",
       "      <td>NaT</td>\n",
       "      <td>NaT</td>\n",
       "      <td>...</td>\n",
       "      <td>Total As per Oneliner</td>\n",
       "      <td>NaN</td>\n",
       "      <td>NaN</td>\n",
       "      <td>4.741343e+09</td>\n",
       "      <td>356908147.0</td>\n",
       "      <td>3.19599e+09</td>\n",
       "      <td>241215916.0</td>\n",
       "      <td>12578492.0</td>\n",
       "      <td>659426.0</td>\n",
       "      <td>8.548700e+09</td>\n",
       "    </tr>\n",
       "    <tr>\n",
       "      <th>2</th>\n",
       "      <td>NaN</td>\n",
       "      <td>NaN</td>\n",
       "      <td>NaN</td>\n",
       "      <td>NaN</td>\n",
       "      <td>NaN</td>\n",
       "      <td>NaT</td>\n",
       "      <td>NaN</td>\n",
       "      <td>NaT</td>\n",
       "      <td>NaT</td>\n",
       "      <td>NaT</td>\n",
       "      <td>...</td>\n",
       "      <td>NaN</td>\n",
       "      <td>NaN</td>\n",
       "      <td>NaN</td>\n",
       "      <td>NaN</td>\n",
       "      <td>NaN</td>\n",
       "      <td>NaN</td>\n",
       "      <td>NaN</td>\n",
       "      <td>NaN</td>\n",
       "      <td>NaN</td>\n",
       "      <td>NaN</td>\n",
       "    </tr>\n",
       "    <tr>\n",
       "      <th>3</th>\n",
       "      <td>NaN</td>\n",
       "      <td>NaN</td>\n",
       "      <td>NaN</td>\n",
       "      <td>NaN</td>\n",
       "      <td>NaN</td>\n",
       "      <td>NaT</td>\n",
       "      <td>NaN</td>\n",
       "      <td>NaT</td>\n",
       "      <td>NaT</td>\n",
       "      <td>NaT</td>\n",
       "      <td>...</td>\n",
       "      <td>NaN</td>\n",
       "      <td>NaN</td>\n",
       "      <td>NaN</td>\n",
       "      <td>NaN</td>\n",
       "      <td>NaN</td>\n",
       "      <td>Less: Differential Interest for 2018-19 (8.65%...</td>\n",
       "      <td>NaN</td>\n",
       "      <td>NaN</td>\n",
       "      <td>NaN</td>\n",
       "      <td>1.098109e+06</td>\n",
       "    </tr>\n",
       "    <tr>\n",
       "      <th>4</th>\n",
       "      <td>NaN</td>\n",
       "      <td>NaN</td>\n",
       "      <td>NaN</td>\n",
       "      <td>NaN</td>\n",
       "      <td>NaN</td>\n",
       "      <td>NaT</td>\n",
       "      <td>NaN</td>\n",
       "      <td>NaT</td>\n",
       "      <td>NaT</td>\n",
       "      <td>NaT</td>\n",
       "      <td>...</td>\n",
       "      <td>NaN</td>\n",
       "      <td>NaN</td>\n",
       "      <td>NaN</td>\n",
       "      <td>NaN</td>\n",
       "      <td>NaN</td>\n",
       "      <td>NaN</td>\n",
       "      <td>NaN</td>\n",
       "      <td>NaN</td>\n",
       "      <td>NaN</td>\n",
       "      <td>NaN</td>\n",
       "    </tr>\n",
       "  </tbody>\n",
       "</table>\n",
       "<p>5 rows × 40 columns</p>\n",
       "</div>"
      ],
      "text/plain": [
       "  SL_NO_x PCD_CODE PCD_CODE1_x EMP_NAME_x EMP_NAME1 DOB_x  AGE DOJ_x DOL_x  \\\n",
       "0     NaN      NaN         NaN        NaN       NaN   NaT  NaN   NaT   NaT   \n",
       "1     NaN      NaN         NaN        NaN       NaN   NaT  NaN   NaT   NaT   \n",
       "2     NaN      NaN         NaN        NaN       NaN   NaT  NaN   NaT   NaT   \n",
       "3     NaN      NaN         NaN        NaN       NaN   NaT  NaN   NaT   NaT   \n",
       "4     NaN      NaN         NaN        NaN       NaN   NaT  NaN   NaT   NaT   \n",
       "\n",
       "  DOS_x  ...                  DOS_y  Unnamed: 18  Unnamed: 19        TOT_MC  \\\n",
       "0   NaT  ...                    NaN          NaN          NaN           NaN   \n",
       "1   NaT  ...  Total As per Oneliner          NaN          NaN  4.741343e+09   \n",
       "2   NaT  ...                    NaN          NaN          NaN           NaN   \n",
       "3   NaT  ...                    NaN          NaN          NaN           NaN   \n",
       "4   NaT  ...                    NaN          NaN          NaN           NaN   \n",
       "\n",
       "       TOT_IMC                                             TOT_CC  \\\n",
       "0          NaN                                                NaN   \n",
       "1  356908147.0                                        3.19599e+09   \n",
       "2          NaN                                                NaN   \n",
       "3          NaN  Less: Differential Interest for 2018-19 (8.65%...   \n",
       "4          NaN                                                NaN   \n",
       "\n",
       "       TOT_ICC     TOT_VC1  TOT_IVC1   Grand Total  \n",
       "0          NaN         NaN       NaN           NaN  \n",
       "1  241215916.0  12578492.0  659426.0  8.548700e+09  \n",
       "2          NaN         NaN       NaN           NaN  \n",
       "3          NaN         NaN       NaN  1.098109e+06  \n",
       "4          NaN         NaN       NaN           NaN  \n",
       "\n",
       "[5 rows x 40 columns]"
      ]
     },
     "execution_count": 36,
     "metadata": {},
     "output_type": "execute_result"
    }
   ],
   "source": [
    "tot2.head()"
   ]
  },
  {
   "cell_type": "code",
   "execution_count": 37,
   "metadata": {},
   "outputs": [
    {
     "data": {
      "text/plain": [
       "False    60\n",
       "Name: PCD_CODE, dtype: int64"
      ]
     },
     "execution_count": 37,
     "metadata": {},
     "output_type": "execute_result"
    }
   ],
   "source": [
    "tot2[\"PCD_CODE\"].notna().value_counts()"
   ]
  },
  {
   "cell_type": "markdown",
   "metadata": {},
   "source": [
    "### No Data common in xxx and yyy"
   ]
  },
  {
   "cell_type": "markdown",
   "metadata": {},
   "source": [
    "# Part 2"
   ]
  },
  {
   "cell_type": "code",
   "execution_count": 38,
   "metadata": {},
   "outputs": [],
   "source": [
    "bsvt = pd.read_excel(r\"EMP-MASTER.xlsx\",sheet_name = \"yyy-Trust master\")"
   ]
  },
  {
   "cell_type": "code",
   "execution_count": 39,
   "metadata": {},
   "outputs": [
    {
     "data": {
      "text/html": [
       "<div>\n",
       "<style scoped>\n",
       "    .dataframe tbody tr th:only-of-type {\n",
       "        vertical-align: middle;\n",
       "    }\n",
       "\n",
       "    .dataframe tbody tr th {\n",
       "        vertical-align: top;\n",
       "    }\n",
       "\n",
       "    .dataframe thead th {\n",
       "        text-align: right;\n",
       "    }\n",
       "</style>\n",
       "<table border=\"1\" class=\"dataframe\">\n",
       "  <thead>\n",
       "    <tr style=\"text-align: right;\">\n",
       "      <th></th>\n",
       "      <th>SL_NO</th>\n",
       "      <th>COMP_CODE</th>\n",
       "      <th>UNIT_CODE/location code</th>\n",
       "      <th>PCD_CODE</th>\n",
       "      <th>PCD_CODE1</th>\n",
       "      <th>EMP_NAME</th>\n",
       "      <th>SEX</th>\n",
       "      <th>MARITAL_STATUS</th>\n",
       "      <th>DOB</th>\n",
       "      <th>DOJ</th>\n",
       "      <th>DOL</th>\n",
       "      <th>PF_NO</th>\n",
       "      <th>PF_MEM_START_DATE</th>\n",
       "      <th>GR_START_DATE</th>\n",
       "      <th>EPS_NO</th>\n",
       "    </tr>\n",
       "  </thead>\n",
       "  <tbody>\n",
       "    <tr>\n",
       "      <th>0</th>\n",
       "      <td>1</td>\n",
       "      <td>CGBS</td>\n",
       "      <td>'001</td>\n",
       "      <td>52996</td>\n",
       "      <td>52996</td>\n",
       "      <td>SRINIVASAN M</td>\n",
       "      <td>NaN</td>\n",
       "      <td>NaN</td>\n",
       "      <td>1987-06-25</td>\n",
       "      <td>2010-05-01</td>\n",
       "      <td>2010-10-21 00:00:00</td>\n",
       "      <td>529963141</td>\n",
       "      <td>2010-05-01</td>\n",
       "      <td>2010-05-01</td>\n",
       "      <td>3141</td>\n",
       "    </tr>\n",
       "    <tr>\n",
       "      <th>1</th>\n",
       "      <td>2</td>\n",
       "      <td>CGBS</td>\n",
       "      <td>'001</td>\n",
       "      <td>52997</td>\n",
       "      <td>52997</td>\n",
       "      <td>MOHAMMAD RAFI N</td>\n",
       "      <td>NaN</td>\n",
       "      <td>NaN</td>\n",
       "      <td>1987-05-10</td>\n",
       "      <td>2010-05-01</td>\n",
       "      <td>2012-07-27 00:00:00</td>\n",
       "      <td>529973028</td>\n",
       "      <td>2010-05-01</td>\n",
       "      <td>2010-05-01</td>\n",
       "      <td>3028</td>\n",
       "    </tr>\n",
       "    <tr>\n",
       "      <th>2</th>\n",
       "      <td>3</td>\n",
       "      <td>CGBS</td>\n",
       "      <td>'001</td>\n",
       "      <td>52998</td>\n",
       "      <td>52998</td>\n",
       "      <td>NINGTHEM NONGMAITHEMBA</td>\n",
       "      <td>M</td>\n",
       "      <td>NaN</td>\n",
       "      <td>1984-05-03</td>\n",
       "      <td>2010-05-01</td>\n",
       "      <td>2014-08-01 00:00:00</td>\n",
       "      <td>529983140</td>\n",
       "      <td>2010-05-01</td>\n",
       "      <td>2010-05-01</td>\n",
       "      <td>3140</td>\n",
       "    </tr>\n",
       "    <tr>\n",
       "      <th>3</th>\n",
       "      <td>4</td>\n",
       "      <td>CGBS</td>\n",
       "      <td>'001</td>\n",
       "      <td>52999</td>\n",
       "      <td>52999</td>\n",
       "      <td>CELIN M</td>\n",
       "      <td>NaN</td>\n",
       "      <td>NaN</td>\n",
       "      <td>1987-02-28</td>\n",
       "      <td>2010-05-01</td>\n",
       "      <td>2011-07-29 00:00:00</td>\n",
       "      <td>529993190</td>\n",
       "      <td>2010-05-01</td>\n",
       "      <td>2010-05-01</td>\n",
       "      <td>3190</td>\n",
       "    </tr>\n",
       "    <tr>\n",
       "      <th>4</th>\n",
       "      <td>5</td>\n",
       "      <td>CGBS</td>\n",
       "      <td>'001</td>\n",
       "      <td>53001</td>\n",
       "      <td>53001</td>\n",
       "      <td>YAMUNA V</td>\n",
       "      <td>NaN</td>\n",
       "      <td>NaN</td>\n",
       "      <td>1986-12-02</td>\n",
       "      <td>2010-05-01</td>\n",
       "      <td>2013-04-18 00:00:00</td>\n",
       "      <td>530013191</td>\n",
       "      <td>2010-05-01</td>\n",
       "      <td>2010-05-01</td>\n",
       "      <td>3191</td>\n",
       "    </tr>\n",
       "  </tbody>\n",
       "</table>\n",
       "</div>"
      ],
      "text/plain": [
       "   SL_NO COMP_CODE UNIT_CODE/location code PCD_CODE PCD_CODE1  \\\n",
       "0      1      CGBS                    '001    52996     52996   \n",
       "1      2      CGBS                    '001    52997     52997   \n",
       "2      3      CGBS                    '001    52998     52998   \n",
       "3      4      CGBS                    '001    52999     52999   \n",
       "4      5      CGBS                    '001    53001     53001   \n",
       "\n",
       "                 EMP_NAME  SEX MARITAL_STATUS        DOB        DOJ  \\\n",
       "0            SRINIVASAN M  NaN            NaN 1987-06-25 2010-05-01   \n",
       "1         MOHAMMAD RAFI N  NaN            NaN 1987-05-10 2010-05-01   \n",
       "2  NINGTHEM NONGMAITHEMBA    M            NaN 1984-05-03 2010-05-01   \n",
       "3                 CELIN M  NaN            NaN 1987-02-28 2010-05-01   \n",
       "4                YAMUNA V  NaN            NaN 1986-12-02 2010-05-01   \n",
       "\n",
       "                   DOL      PF_NO PF_MEM_START_DATE GR_START_DATE EPS_NO  \n",
       "0  2010-10-21 00:00:00  529963141        2010-05-01    2010-05-01   3141  \n",
       "1  2012-07-27 00:00:00  529973028        2010-05-01    2010-05-01   3028  \n",
       "2  2014-08-01 00:00:00  529983140        2010-05-01    2010-05-01   3140  \n",
       "3  2011-07-29 00:00:00  529993190        2010-05-01    2010-05-01   3190  \n",
       "4  2013-04-18 00:00:00  530013191        2010-05-01    2010-05-01   3191  "
      ]
     },
     "execution_count": 39,
     "metadata": {},
     "output_type": "execute_result"
    }
   ],
   "source": [
    "bsvt.head()"
   ]
  },
  {
   "cell_type": "code",
   "execution_count": 40,
   "metadata": {},
   "outputs": [
    {
     "data": {
      "text/plain": [
       "(36810, 15)"
      ]
     },
     "execution_count": 40,
     "metadata": {},
     "output_type": "execute_result"
    }
   ],
   "source": [
    "bsvt.shape"
   ]
  },
  {
   "cell_type": "code",
   "execution_count": 41,
   "metadata": {},
   "outputs": [
    {
     "data": {
      "text/plain": [
       "36809"
      ]
     },
     "execution_count": 41,
     "metadata": {},
     "output_type": "execute_result"
    }
   ],
   "source": [
    "bsvt['PCD_CODE'].unique().size"
   ]
  },
  {
   "cell_type": "code",
   "execution_count": 42,
   "metadata": {},
   "outputs": [
    {
     "data": {
      "text/plain": [
       "050541_BS    2\n",
       "76959        1\n",
       "64302        1\n",
       "205568_BS    1\n",
       "78999        1\n",
       "            ..\n",
       "206311_BS    1\n",
       "59018        1\n",
       "66312        1\n",
       "077511_BS    1\n",
       "203091_BS    1\n",
       "Name: PCD_CODE, Length: 36809, dtype: int64"
      ]
     },
     "execution_count": 42,
     "metadata": {},
     "output_type": "execute_result"
    }
   ],
   "source": [
    "bsvt[\"PCD_CODE\"].value_counts()"
   ]
  },
  {
   "cell_type": "code",
   "execution_count": 43,
   "metadata": {
    "scrolled": true
   },
   "outputs": [
    {
     "data": {
      "text/html": [
       "<div>\n",
       "<style scoped>\n",
       "    .dataframe tbody tr th:only-of-type {\n",
       "        vertical-align: middle;\n",
       "    }\n",
       "\n",
       "    .dataframe tbody tr th {\n",
       "        vertical-align: top;\n",
       "    }\n",
       "\n",
       "    .dataframe thead th {\n",
       "        text-align: right;\n",
       "    }\n",
       "</style>\n",
       "<table border=\"1\" class=\"dataframe\">\n",
       "  <thead>\n",
       "    <tr style=\"text-align: right;\">\n",
       "      <th></th>\n",
       "      <th>SL_NO</th>\n",
       "      <th>COMP_CODE</th>\n",
       "      <th>UNIT_CODE/location code</th>\n",
       "      <th>PCD_CODE</th>\n",
       "      <th>PCD_CODE1</th>\n",
       "      <th>EMP_NAME</th>\n",
       "      <th>SEX</th>\n",
       "      <th>MARITAL_STATUS</th>\n",
       "      <th>DOB</th>\n",
       "      <th>DOJ</th>\n",
       "      <th>DOL</th>\n",
       "      <th>PF_NO</th>\n",
       "      <th>PF_MEM_START_DATE</th>\n",
       "      <th>GR_START_DATE</th>\n",
       "      <th>EPS_NO</th>\n",
       "    </tr>\n",
       "  </thead>\n",
       "  <tbody>\n",
       "    <tr>\n",
       "      <th>31542</th>\n",
       "      <td>31543</td>\n",
       "      <td>CGBS</td>\n",
       "      <td>'001</td>\n",
       "      <td>050541_BS</td>\n",
       "      <td>050541_BS</td>\n",
       "      <td>Victor Previn Previn</td>\n",
       "      <td>M</td>\n",
       "      <td>U</td>\n",
       "      <td>1980-07-09</td>\n",
       "      <td>2019-10-01</td>\n",
       "      <td>NaN</td>\n",
       "      <td>NaN</td>\n",
       "      <td>2019-10-01</td>\n",
       "      <td>2019-10-01</td>\n",
       "      <td>NaN</td>\n",
       "    </tr>\n",
       "    <tr>\n",
       "      <th>35218</th>\n",
       "      <td>35219</td>\n",
       "      <td>CGBS</td>\n",
       "      <td>'001</td>\n",
       "      <td>050541_BS</td>\n",
       "      <td>050541_BS</td>\n",
       "      <td>VICTOR PREVIN KUMAR D</td>\n",
       "      <td>M</td>\n",
       "      <td>NaN</td>\n",
       "      <td>1980-07-09</td>\n",
       "      <td>2000-04-01</td>\n",
       "      <td>NaN</td>\n",
       "      <td>50541</td>\n",
       "      <td>2000-04-01</td>\n",
       "      <td>NaT</td>\n",
       "      <td>50541</td>\n",
       "    </tr>\n",
       "  </tbody>\n",
       "</table>\n",
       "</div>"
      ],
      "text/plain": [
       "       SL_NO COMP_CODE UNIT_CODE/location code   PCD_CODE  PCD_CODE1  \\\n",
       "31542  31543      CGBS                    '001  050541_BS  050541_BS   \n",
       "35218  35219      CGBS                    '001  050541_BS  050541_BS   \n",
       "\n",
       "                    EMP_NAME SEX MARITAL_STATUS        DOB        DOJ  DOL  \\\n",
       "31542   Victor Previn Previn   M              U 1980-07-09 2019-10-01  NaN   \n",
       "35218  VICTOR PREVIN KUMAR D   M            NaN 1980-07-09 2000-04-01  NaN   \n",
       "\n",
       "       PF_NO PF_MEM_START_DATE GR_START_DATE EPS_NO  \n",
       "31542    NaN        2019-10-01    2019-10-01    NaN  \n",
       "35218  50541        2000-04-01           NaT  50541  "
      ]
     },
     "execution_count": 43,
     "metadata": {},
     "output_type": "execute_result"
    }
   ],
   "source": [
    "bsvt[bsvt[\"PCD_CODE\"] == \"050541_BS\"]"
   ]
  },
  {
   "cell_type": "markdown",
   "metadata": {},
   "source": [
    "## The above data is redundant in yyy-True Master"
   ]
  },
  {
   "cell_type": "code",
   "execution_count": 44,
   "metadata": {},
   "outputs": [],
   "source": [
    "tot_bsv = pd.merge(bsvt,yyy,on=[\"PCD_CODE\"],how=\"outer\",indicator = True)"
   ]
  },
  {
   "cell_type": "code",
   "execution_count": 45,
   "metadata": {},
   "outputs": [
    {
     "data": {
      "text/plain": [
       "(36834, 29)"
      ]
     },
     "execution_count": 45,
     "metadata": {},
     "output_type": "execute_result"
    }
   ],
   "source": [
    "tot_bsv.shape"
   ]
  },
  {
   "cell_type": "code",
   "execution_count": 46,
   "metadata": {},
   "outputs": [],
   "source": [
    "tot=pd.DataFrame(tot_yyy[\"PCD_CODE\"])"
   ]
  },
  {
   "cell_type": "code",
   "execution_count": 47,
   "metadata": {},
   "outputs": [
    {
     "data": {
      "text/html": [
       "<div>\n",
       "<style scoped>\n",
       "    .dataframe tbody tr th:only-of-type {\n",
       "        vertical-align: middle;\n",
       "    }\n",
       "\n",
       "    .dataframe tbody tr th {\n",
       "        vertical-align: top;\n",
       "    }\n",
       "\n",
       "    .dataframe thead th {\n",
       "        text-align: right;\n",
       "    }\n",
       "</style>\n",
       "<table border=\"1\" class=\"dataframe\">\n",
       "  <thead>\n",
       "    <tr style=\"text-align: right;\">\n",
       "      <th></th>\n",
       "      <th>PCD_CODE</th>\n",
       "    </tr>\n",
       "  </thead>\n",
       "  <tbody>\n",
       "    <tr>\n",
       "      <th>0</th>\n",
       "      <td>52996</td>\n",
       "    </tr>\n",
       "    <tr>\n",
       "      <th>1</th>\n",
       "      <td>52997</td>\n",
       "    </tr>\n",
       "    <tr>\n",
       "      <th>2</th>\n",
       "      <td>52998</td>\n",
       "    </tr>\n",
       "    <tr>\n",
       "      <th>3</th>\n",
       "      <td>52999</td>\n",
       "    </tr>\n",
       "    <tr>\n",
       "      <th>4</th>\n",
       "      <td>53001</td>\n",
       "    </tr>\n",
       "  </tbody>\n",
       "</table>\n",
       "</div>"
      ],
      "text/plain": [
       "  PCD_CODE\n",
       "0    52996\n",
       "1    52997\n",
       "2    52998\n",
       "3    52999\n",
       "4    53001"
      ]
     },
     "execution_count": 47,
     "metadata": {},
     "output_type": "execute_result"
    }
   ],
   "source": [
    "tot.head()"
   ]
  },
  {
   "cell_type": "code",
   "execution_count": 48,
   "metadata": {},
   "outputs": [
    {
     "data": {
      "text/plain": [
       "(33836, 14)"
      ]
     },
     "execution_count": 48,
     "metadata": {},
     "output_type": "execute_result"
    }
   ],
   "source": [
    "yyy.shape"
   ]
  },
  {
   "cell_type": "code",
   "execution_count": 49,
   "metadata": {},
   "outputs": [
    {
     "data": {
      "text/html": [
       "<div>\n",
       "<style scoped>\n",
       "    .dataframe tbody tr th:only-of-type {\n",
       "        vertical-align: middle;\n",
       "    }\n",
       "\n",
       "    .dataframe tbody tr th {\n",
       "        vertical-align: top;\n",
       "    }\n",
       "\n",
       "    .dataframe thead th {\n",
       "        text-align: right;\n",
       "    }\n",
       "</style>\n",
       "<table border=\"1\" class=\"dataframe\">\n",
       "  <thead>\n",
       "    <tr style=\"text-align: right;\">\n",
       "      <th></th>\n",
       "      <th>SL_NO_x</th>\n",
       "      <th>COMP_CODE</th>\n",
       "      <th>UNIT_CODE/location code</th>\n",
       "      <th>PCD_CODE</th>\n",
       "      <th>PCD_CODE1</th>\n",
       "      <th>EMP_NAME_x</th>\n",
       "      <th>SEX</th>\n",
       "      <th>MARITAL_STATUS</th>\n",
       "      <th>DOB_x</th>\n",
       "      <th>DOJ_x</th>\n",
       "      <th>...</th>\n",
       "      <th>DOB_y</th>\n",
       "      <th>AGE</th>\n",
       "      <th>DOJ_y</th>\n",
       "      <th>DOL_y</th>\n",
       "      <th>DOS</th>\n",
       "      <th>TOTAL MC</th>\n",
       "      <th>TOTAL CC</th>\n",
       "      <th>TOTAL VC1</th>\n",
       "      <th>GRAND TOTAL</th>\n",
       "      <th>_merge</th>\n",
       "    </tr>\n",
       "  </thead>\n",
       "  <tbody>\n",
       "    <tr>\n",
       "      <th>0</th>\n",
       "      <td>1.0</td>\n",
       "      <td>CGBS</td>\n",
       "      <td>'001</td>\n",
       "      <td>52996</td>\n",
       "      <td>52996</td>\n",
       "      <td>SRINIVASAN M</td>\n",
       "      <td>NaN</td>\n",
       "      <td>NaN</td>\n",
       "      <td>1987-06-25</td>\n",
       "      <td>2010-05-01</td>\n",
       "      <td>...</td>\n",
       "      <td>1987-06-25</td>\n",
       "      <td>31.764545</td>\n",
       "      <td>2010-05-01</td>\n",
       "      <td>2010-10-21</td>\n",
       "      <td>NaT</td>\n",
       "      <td>0</td>\n",
       "      <td>0.0</td>\n",
       "      <td>0.0</td>\n",
       "      <td>0.0</td>\n",
       "      <td>both</td>\n",
       "    </tr>\n",
       "    <tr>\n",
       "      <th>1</th>\n",
       "      <td>2.0</td>\n",
       "      <td>CGBS</td>\n",
       "      <td>'001</td>\n",
       "      <td>52997</td>\n",
       "      <td>52997</td>\n",
       "      <td>MOHAMMAD RAFI N</td>\n",
       "      <td>NaN</td>\n",
       "      <td>NaN</td>\n",
       "      <td>1987-05-10</td>\n",
       "      <td>2010-05-01</td>\n",
       "      <td>...</td>\n",
       "      <td>1987-05-10</td>\n",
       "      <td>31.890486</td>\n",
       "      <td>2010-05-01</td>\n",
       "      <td>2012-07-27</td>\n",
       "      <td>NaT</td>\n",
       "      <td>0</td>\n",
       "      <td>0.0</td>\n",
       "      <td>0.0</td>\n",
       "      <td>0.0</td>\n",
       "      <td>both</td>\n",
       "    </tr>\n",
       "    <tr>\n",
       "      <th>2</th>\n",
       "      <td>3.0</td>\n",
       "      <td>CGBS</td>\n",
       "      <td>'001</td>\n",
       "      <td>52998</td>\n",
       "      <td>52998</td>\n",
       "      <td>NINGTHEM NONGMAITHEMBA</td>\n",
       "      <td>M</td>\n",
       "      <td>NaN</td>\n",
       "      <td>1984-05-03</td>\n",
       "      <td>2010-05-01</td>\n",
       "      <td>...</td>\n",
       "      <td>1984-05-03</td>\n",
       "      <td>34.907598</td>\n",
       "      <td>2010-05-01</td>\n",
       "      <td>2014-08-01</td>\n",
       "      <td>2017-09-01</td>\n",
       "      <td>0</td>\n",
       "      <td>0.0</td>\n",
       "      <td>0.0</td>\n",
       "      <td>0.0</td>\n",
       "      <td>both</td>\n",
       "    </tr>\n",
       "    <tr>\n",
       "      <th>3</th>\n",
       "      <td>4.0</td>\n",
       "      <td>CGBS</td>\n",
       "      <td>'001</td>\n",
       "      <td>52999</td>\n",
       "      <td>52999</td>\n",
       "      <td>CELIN M</td>\n",
       "      <td>NaN</td>\n",
       "      <td>NaN</td>\n",
       "      <td>1987-02-28</td>\n",
       "      <td>2010-05-01</td>\n",
       "      <td>...</td>\n",
       "      <td>1987-02-28</td>\n",
       "      <td>32.084873</td>\n",
       "      <td>2010-05-01</td>\n",
       "      <td>2011-07-29</td>\n",
       "      <td>NaT</td>\n",
       "      <td>0</td>\n",
       "      <td>0.0</td>\n",
       "      <td>0.0</td>\n",
       "      <td>0.0</td>\n",
       "      <td>both</td>\n",
       "    </tr>\n",
       "    <tr>\n",
       "      <th>4</th>\n",
       "      <td>5.0</td>\n",
       "      <td>CGBS</td>\n",
       "      <td>'001</td>\n",
       "      <td>53001</td>\n",
       "      <td>53001</td>\n",
       "      <td>YAMUNA V</td>\n",
       "      <td>NaN</td>\n",
       "      <td>NaN</td>\n",
       "      <td>1986-12-02</td>\n",
       "      <td>2010-05-01</td>\n",
       "      <td>...</td>\n",
       "      <td>1986-12-02</td>\n",
       "      <td>32.325804</td>\n",
       "      <td>2010-05-01</td>\n",
       "      <td>2013-04-18</td>\n",
       "      <td>NaT</td>\n",
       "      <td>0</td>\n",
       "      <td>0.0</td>\n",
       "      <td>0.0</td>\n",
       "      <td>0.0</td>\n",
       "      <td>both</td>\n",
       "    </tr>\n",
       "  </tbody>\n",
       "</table>\n",
       "<p>5 rows × 29 columns</p>\n",
       "</div>"
      ],
      "text/plain": [
       "   SL_NO_x COMP_CODE UNIT_CODE/location code PCD_CODE PCD_CODE1  \\\n",
       "0      1.0      CGBS                    '001    52996     52996   \n",
       "1      2.0      CGBS                    '001    52997     52997   \n",
       "2      3.0      CGBS                    '001    52998     52998   \n",
       "3      4.0      CGBS                    '001    52999     52999   \n",
       "4      5.0      CGBS                    '001    53001     53001   \n",
       "\n",
       "               EMP_NAME_x  SEX MARITAL_STATUS      DOB_x      DOJ_x  ...  \\\n",
       "0            SRINIVASAN M  NaN            NaN 1987-06-25 2010-05-01  ...   \n",
       "1         MOHAMMAD RAFI N  NaN            NaN 1987-05-10 2010-05-01  ...   \n",
       "2  NINGTHEM NONGMAITHEMBA    M            NaN 1984-05-03 2010-05-01  ...   \n",
       "3                 CELIN M  NaN            NaN 1987-02-28 2010-05-01  ...   \n",
       "4                YAMUNA V  NaN            NaN 1986-12-02 2010-05-01  ...   \n",
       "\n",
       "       DOB_y        AGE      DOJ_y      DOL_y        DOS TOTAL MC TOTAL CC  \\\n",
       "0 1987-06-25  31.764545 2010-05-01 2010-10-21        NaT        0      0.0   \n",
       "1 1987-05-10  31.890486 2010-05-01 2012-07-27        NaT        0      0.0   \n",
       "2 1984-05-03  34.907598 2010-05-01 2014-08-01 2017-09-01        0      0.0   \n",
       "3 1987-02-28  32.084873 2010-05-01 2011-07-29        NaT        0      0.0   \n",
       "4 1986-12-02  32.325804 2010-05-01 2013-04-18        NaT        0      0.0   \n",
       "\n",
       "  TOTAL VC1 GRAND TOTAL _merge  \n",
       "0       0.0         0.0   both  \n",
       "1       0.0         0.0   both  \n",
       "2       0.0         0.0   both  \n",
       "3       0.0         0.0   both  \n",
       "4       0.0         0.0   both  \n",
       "\n",
       "[5 rows x 29 columns]"
      ]
     },
     "execution_count": 49,
     "metadata": {},
     "output_type": "execute_result"
    }
   ],
   "source": [
    "tot_bsv.head()"
   ]
  },
  {
   "cell_type": "code",
   "execution_count": 50,
   "metadata": {},
   "outputs": [
    {
     "data": {
      "text/html": [
       "<div>\n",
       "<style scoped>\n",
       "    .dataframe tbody tr th:only-of-type {\n",
       "        vertical-align: middle;\n",
       "    }\n",
       "\n",
       "    .dataframe tbody tr th {\n",
       "        vertical-align: top;\n",
       "    }\n",
       "\n",
       "    .dataframe thead th {\n",
       "        text-align: right;\n",
       "    }\n",
       "</style>\n",
       "<table border=\"1\" class=\"dataframe\">\n",
       "  <thead>\n",
       "    <tr style=\"text-align: right;\">\n",
       "      <th></th>\n",
       "      <th>SL_NO_x</th>\n",
       "      <th>COMP_CODE</th>\n",
       "      <th>UNIT_CODE/location code</th>\n",
       "      <th>PCD_CODE</th>\n",
       "      <th>PCD_CODE1</th>\n",
       "      <th>EMP_NAME_x</th>\n",
       "      <th>SEX</th>\n",
       "      <th>MARITAL_STATUS</th>\n",
       "      <th>DOB_x</th>\n",
       "      <th>DOJ_x</th>\n",
       "      <th>...</th>\n",
       "      <th>DOB_y</th>\n",
       "      <th>AGE</th>\n",
       "      <th>DOJ_y</th>\n",
       "      <th>DOL_y</th>\n",
       "      <th>DOS</th>\n",
       "      <th>TOTAL MC</th>\n",
       "      <th>TOTAL CC</th>\n",
       "      <th>TOTAL VC1</th>\n",
       "      <th>GRAND TOTAL</th>\n",
       "      <th>_merge</th>\n",
       "    </tr>\n",
       "  </thead>\n",
       "  <tbody>\n",
       "    <tr>\n",
       "      <th>24954</th>\n",
       "      <td>24955.0</td>\n",
       "      <td>CGBS</td>\n",
       "      <td>'001</td>\n",
       "      <td>65536</td>\n",
       "      <td>65536</td>\n",
       "      <td>DAREDDY THRIVED</td>\n",
       "      <td>M</td>\n",
       "      <td>NaN</td>\n",
       "      <td>1993-05-24</td>\n",
       "      <td>2015-02-04</td>\n",
       "      <td>...</td>\n",
       "      <td>1993-05-24</td>\n",
       "      <td>25.850787</td>\n",
       "      <td>2015-02-04</td>\n",
       "      <td>2017-05-04</td>\n",
       "      <td>2018-01-12</td>\n",
       "      <td>0</td>\n",
       "      <td>0.0</td>\n",
       "      <td>0.0</td>\n",
       "      <td>0.0</td>\n",
       "      <td>both</td>\n",
       "    </tr>\n",
       "  </tbody>\n",
       "</table>\n",
       "<p>1 rows × 29 columns</p>\n",
       "</div>"
      ],
      "text/plain": [
       "       SL_NO_x COMP_CODE UNIT_CODE/location code PCD_CODE PCD_CODE1  \\\n",
       "24954  24955.0      CGBS                    '001    65536     65536   \n",
       "\n",
       "            EMP_NAME_x SEX MARITAL_STATUS      DOB_x      DOJ_x  ...  \\\n",
       "24954  DAREDDY THRIVED   M            NaN 1993-05-24 2015-02-04  ...   \n",
       "\n",
       "           DOB_y        AGE      DOJ_y      DOL_y        DOS TOTAL MC  \\\n",
       "24954 1993-05-24  25.850787 2015-02-04 2017-05-04 2018-01-12        0   \n",
       "\n",
       "      TOTAL CC TOTAL VC1 GRAND TOTAL _merge  \n",
       "24954      0.0       0.0         0.0   both  \n",
       "\n",
       "[1 rows x 29 columns]"
      ]
     },
     "execution_count": 50,
     "metadata": {},
     "output_type": "execute_result"
    }
   ],
   "source": [
    "tot_bsv[tot_bsv[\"PCD_CODE\"]== \"65536\"]"
   ]
  },
  {
   "cell_type": "code",
   "execution_count": 51,
   "metadata": {},
   "outputs": [],
   "source": [
    "ff=pd.concat([yyy,bsvt])"
   ]
  },
  {
   "cell_type": "code",
   "execution_count": 52,
   "metadata": {
    "scrolled": true
   },
   "outputs": [
    {
     "data": {
      "text/plain": [
       "(70646, 23)"
      ]
     },
     "execution_count": 52,
     "metadata": {},
     "output_type": "execute_result"
    }
   ],
   "source": [
    "ff.shape"
   ]
  },
  {
   "cell_type": "code",
   "execution_count": 53,
   "metadata": {},
   "outputs": [
    {
     "data": {
      "text/plain": [
       "70646"
      ]
     },
     "execution_count": 53,
     "metadata": {},
     "output_type": "execute_result"
    }
   ],
   "source": [
    "33836+36810\n"
   ]
  },
  {
   "cell_type": "code",
   "execution_count": 54,
   "metadata": {},
   "outputs": [
    {
     "data": {
      "text/plain": [
       "36826"
      ]
     },
     "execution_count": 54,
     "metadata": {},
     "output_type": "execute_result"
    }
   ],
   "source": [
    "ff[\"PCD_CODE\"].unique().size\n"
   ]
  },
  {
   "cell_type": "code",
   "execution_count": 55,
   "metadata": {},
   "outputs": [
    {
     "data": {
      "text/plain": [
       "16462"
      ]
     },
     "execution_count": 55,
     "metadata": {},
     "output_type": "execute_result"
    }
   ],
   "source": [
    "70646-54184"
   ]
  },
  {
   "cell_type": "code",
   "execution_count": 56,
   "metadata": {},
   "outputs": [
    {
     "data": {
      "text/html": [
       "<div>\n",
       "<style scoped>\n",
       "    .dataframe tbody tr th:only-of-type {\n",
       "        vertical-align: middle;\n",
       "    }\n",
       "\n",
       "    .dataframe tbody tr th {\n",
       "        vertical-align: top;\n",
       "    }\n",
       "\n",
       "    .dataframe thead th {\n",
       "        text-align: right;\n",
       "    }\n",
       "</style>\n",
       "<table border=\"1\" class=\"dataframe\">\n",
       "  <thead>\n",
       "    <tr style=\"text-align: right;\">\n",
       "      <th></th>\n",
       "      <th>SL_NO</th>\n",
       "      <th>PCD_CODE</th>\n",
       "      <th>PCD_COD1E</th>\n",
       "      <th>EMP_NAME</th>\n",
       "      <th>EMP_NAME1</th>\n",
       "      <th>DOB</th>\n",
       "      <th>AGE</th>\n",
       "      <th>DOJ</th>\n",
       "      <th>DOL</th>\n",
       "      <th>DOS</th>\n",
       "      <th>...</th>\n",
       "      <th>GRAND TOTAL</th>\n",
       "      <th>COMP_CODE</th>\n",
       "      <th>UNIT_CODE/location code</th>\n",
       "      <th>PCD_CODE1</th>\n",
       "      <th>SEX</th>\n",
       "      <th>MARITAL_STATUS</th>\n",
       "      <th>PF_NO</th>\n",
       "      <th>PF_MEM_START_DATE</th>\n",
       "      <th>GR_START_DATE</th>\n",
       "      <th>EPS_NO</th>\n",
       "    </tr>\n",
       "  </thead>\n",
       "  <tbody>\n",
       "    <tr>\n",
       "      <th>0</th>\n",
       "      <td>1</td>\n",
       "      <td>50003</td>\n",
       "      <td>50003</td>\n",
       "      <td>NEELESH SHANBHAG</td>\n",
       "      <td>NEELESH SHANBHAG</td>\n",
       "      <td>1973-08-22</td>\n",
       "      <td>45.604381</td>\n",
       "      <td>2002-10-13</td>\n",
       "      <td>2014-07-25 00:00:00</td>\n",
       "      <td>NaT</td>\n",
       "      <td>...</td>\n",
       "      <td>0.0</td>\n",
       "      <td>NaN</td>\n",
       "      <td>NaN</td>\n",
       "      <td>NaN</td>\n",
       "      <td>NaN</td>\n",
       "      <td>NaN</td>\n",
       "      <td>NaN</td>\n",
       "      <td>NaT</td>\n",
       "      <td>NaT</td>\n",
       "      <td>NaN</td>\n",
       "    </tr>\n",
       "    <tr>\n",
       "      <th>1</th>\n",
       "      <td>2</td>\n",
       "      <td>50008</td>\n",
       "      <td>50008</td>\n",
       "      <td>C PERUMAL</td>\n",
       "      <td>C PERUMAL</td>\n",
       "      <td>1954-06-12</td>\n",
       "      <td>64.799452</td>\n",
       "      <td>2003-03-17</td>\n",
       "      <td>2014-06-30 00:00:00</td>\n",
       "      <td>NaT</td>\n",
       "      <td>...</td>\n",
       "      <td>0.0</td>\n",
       "      <td>NaN</td>\n",
       "      <td>NaN</td>\n",
       "      <td>NaN</td>\n",
       "      <td>NaN</td>\n",
       "      <td>NaN</td>\n",
       "      <td>NaN</td>\n",
       "      <td>NaT</td>\n",
       "      <td>NaT</td>\n",
       "      <td>NaN</td>\n",
       "    </tr>\n",
       "    <tr>\n",
       "      <th>2</th>\n",
       "      <td>3</td>\n",
       "      <td>50009</td>\n",
       "      <td>50009</td>\n",
       "      <td>NARAYAN BL</td>\n",
       "      <td>NARAYAN BL</td>\n",
       "      <td>1958-07-18</td>\n",
       "      <td>60.700890</td>\n",
       "      <td>2003-03-17</td>\n",
       "      <td>2014-06-30 00:00:00</td>\n",
       "      <td>NaT</td>\n",
       "      <td>...</td>\n",
       "      <td>0.0</td>\n",
       "      <td>NaN</td>\n",
       "      <td>NaN</td>\n",
       "      <td>NaN</td>\n",
       "      <td>NaN</td>\n",
       "      <td>NaN</td>\n",
       "      <td>NaN</td>\n",
       "      <td>NaT</td>\n",
       "      <td>NaT</td>\n",
       "      <td>NaN</td>\n",
       "    </tr>\n",
       "    <tr>\n",
       "      <th>3</th>\n",
       "      <td>4</td>\n",
       "      <td>50012</td>\n",
       "      <td>50012</td>\n",
       "      <td>GAYATRI FABIAN</td>\n",
       "      <td>GAYATRI FABIAN</td>\n",
       "      <td>1967-03-18</td>\n",
       "      <td>52.035592</td>\n",
       "      <td>2003-03-17</td>\n",
       "      <td>2014-08-04 00:00:00</td>\n",
       "      <td>NaT</td>\n",
       "      <td>...</td>\n",
       "      <td>0.0</td>\n",
       "      <td>NaN</td>\n",
       "      <td>NaN</td>\n",
       "      <td>NaN</td>\n",
       "      <td>NaN</td>\n",
       "      <td>NaN</td>\n",
       "      <td>NaN</td>\n",
       "      <td>NaT</td>\n",
       "      <td>NaT</td>\n",
       "      <td>NaN</td>\n",
       "    </tr>\n",
       "    <tr>\n",
       "      <th>4</th>\n",
       "      <td>5</td>\n",
       "      <td>50019</td>\n",
       "      <td>50019</td>\n",
       "      <td>AJAY TYAGI</td>\n",
       "      <td>AJAY TYAGI</td>\n",
       "      <td>1975-05-20</td>\n",
       "      <td>43.863107</td>\n",
       "      <td>2003-04-01</td>\n",
       "      <td>2015-06-26 00:00:00</td>\n",
       "      <td>NaT</td>\n",
       "      <td>...</td>\n",
       "      <td>0.0</td>\n",
       "      <td>NaN</td>\n",
       "      <td>NaN</td>\n",
       "      <td>NaN</td>\n",
       "      <td>NaN</td>\n",
       "      <td>NaN</td>\n",
       "      <td>NaN</td>\n",
       "      <td>NaT</td>\n",
       "      <td>NaT</td>\n",
       "      <td>NaN</td>\n",
       "    </tr>\n",
       "  </tbody>\n",
       "</table>\n",
       "<p>5 rows × 23 columns</p>\n",
       "</div>"
      ],
      "text/plain": [
       "  SL_NO PCD_CODE PCD_COD1E          EMP_NAME         EMP_NAME1        DOB  \\\n",
       "0     1    50003     50003  NEELESH SHANBHAG  NEELESH SHANBHAG 1973-08-22   \n",
       "1     2    50008     50008         C PERUMAL         C PERUMAL 1954-06-12   \n",
       "2     3    50009     50009        NARAYAN BL        NARAYAN BL 1958-07-18   \n",
       "3     4    50012     50012    GAYATRI FABIAN    GAYATRI FABIAN 1967-03-18   \n",
       "4     5    50019     50019        AJAY TYAGI        AJAY TYAGI 1975-05-20   \n",
       "\n",
       "         AGE        DOJ                  DOL DOS  ... GRAND TOTAL  COMP_CODE  \\\n",
       "0  45.604381 2002-10-13  2014-07-25 00:00:00 NaT  ...         0.0        NaN   \n",
       "1  64.799452 2003-03-17  2014-06-30 00:00:00 NaT  ...         0.0        NaN   \n",
       "2  60.700890 2003-03-17  2014-06-30 00:00:00 NaT  ...         0.0        NaN   \n",
       "3  52.035592 2003-03-17  2014-08-04 00:00:00 NaT  ...         0.0        NaN   \n",
       "4  43.863107 2003-04-01  2015-06-26 00:00:00 NaT  ...         0.0        NaN   \n",
       "\n",
       "   UNIT_CODE/location code  PCD_CODE1  SEX MARITAL_STATUS PF_NO  \\\n",
       "0                      NaN        NaN  NaN            NaN   NaN   \n",
       "1                      NaN        NaN  NaN            NaN   NaN   \n",
       "2                      NaN        NaN  NaN            NaN   NaN   \n",
       "3                      NaN        NaN  NaN            NaN   NaN   \n",
       "4                      NaN        NaN  NaN            NaN   NaN   \n",
       "\n",
       "  PF_MEM_START_DATE GR_START_DATE EPS_NO  \n",
       "0               NaT           NaT    NaN  \n",
       "1               NaT           NaT    NaN  \n",
       "2               NaT           NaT    NaN  \n",
       "3               NaT           NaT    NaN  \n",
       "4               NaT           NaT    NaN  \n",
       "\n",
       "[5 rows x 23 columns]"
      ]
     },
     "execution_count": 56,
     "metadata": {},
     "output_type": "execute_result"
    }
   ],
   "source": [
    "ff.head()"
   ]
  },
  {
   "cell_type": "code",
   "execution_count": 57,
   "metadata": {},
   "outputs": [],
   "source": [
    "ff1 = pd.DataFrame(ff['PCD_CODE'].value_counts())"
   ]
  },
  {
   "cell_type": "code",
   "execution_count": 58,
   "metadata": {},
   "outputs": [
    {
     "data": {
      "text/plain": [
       "70090        2\n",
       "61840        2\n",
       "078845_BS    2\n",
       "51404        2\n",
       "078514_BS    2\n",
       "            ..\n",
       "46008492     1\n",
       "005856_BS    1\n",
       "150031_BS    1\n",
       "188727_BS    1\n",
       "46005555     1\n",
       "Name: PCD_CODE, Length: 36825, dtype: int64"
      ]
     },
     "execution_count": 58,
     "metadata": {},
     "output_type": "execute_result"
    }
   ],
   "source": [
    "#check\n",
    "ff['PCD_CODE'].value_counts()"
   ]
  },
  {
   "cell_type": "code",
   "execution_count": 59,
   "metadata": {
    "scrolled": false
   },
   "outputs": [
    {
     "data": {
      "text/html": [
       "<div>\n",
       "<style scoped>\n",
       "    .dataframe tbody tr th:only-of-type {\n",
       "        vertical-align: middle;\n",
       "    }\n",
       "\n",
       "    .dataframe tbody tr th {\n",
       "        vertical-align: top;\n",
       "    }\n",
       "\n",
       "    .dataframe thead th {\n",
       "        text-align: right;\n",
       "    }\n",
       "</style>\n",
       "<table border=\"1\" class=\"dataframe\">\n",
       "  <thead>\n",
       "    <tr style=\"text-align: right;\">\n",
       "      <th></th>\n",
       "      <th>PCD_CODE</th>\n",
       "    </tr>\n",
       "  </thead>\n",
       "  <tbody>\n",
       "    <tr>\n",
       "      <th>70090</th>\n",
       "      <td>2</td>\n",
       "    </tr>\n",
       "    <tr>\n",
       "      <th>61840</th>\n",
       "      <td>2</td>\n",
       "    </tr>\n",
       "    <tr>\n",
       "      <th>078845_BS</th>\n",
       "      <td>2</td>\n",
       "    </tr>\n",
       "    <tr>\n",
       "      <th>51404</th>\n",
       "      <td>2</td>\n",
       "    </tr>\n",
       "    <tr>\n",
       "      <th>078514_BS</th>\n",
       "      <td>2</td>\n",
       "    </tr>\n",
       "  </tbody>\n",
       "</table>\n",
       "</div>"
      ],
      "text/plain": [
       "           PCD_CODE\n",
       "70090             2\n",
       "61840             2\n",
       "078845_BS         2\n",
       "51404             2\n",
       "078514_BS         2"
      ]
     },
     "execution_count": 59,
     "metadata": {},
     "output_type": "execute_result"
    }
   ],
   "source": [
    "#contains value counts of codes\n",
    "ff1.head()"
   ]
  },
  {
   "cell_type": "code",
   "execution_count": null,
   "metadata": {},
   "outputs": [],
   "source": [
    "\n",
    "\n"
   ]
  },
  {
   "cell_type": "code",
   "execution_count": 60,
   "metadata": {},
   "outputs": [
    {
     "data": {
      "text/plain": [
       "(36825, 1)"
      ]
     },
     "execution_count": 60,
     "metadata": {},
     "output_type": "execute_result"
    }
   ],
   "source": [
    "ff1.shape"
   ]
  },
  {
   "cell_type": "code",
   "execution_count": 61,
   "metadata": {},
   "outputs": [],
   "source": [
    "un_values=ff1[ff1[\"PCD_CODE\"]==1]"
   ]
  },
  {
   "cell_type": "code",
   "execution_count": 62,
   "metadata": {},
   "outputs": [
    {
     "data": {
      "text/plain": [
       "3012"
      ]
     },
     "execution_count": 62,
     "metadata": {},
     "output_type": "execute_result"
    }
   ],
   "source": [
    "ff1[ff1[\"PCD_CODE\"]==1].size"
   ]
  },
  {
   "cell_type": "code",
   "execution_count": 63,
   "metadata": {},
   "outputs": [
    {
     "data": {
      "text/plain": [
       "(3012,)"
      ]
     },
     "execution_count": 63,
     "metadata": {},
     "output_type": "execute_result"
    }
   ],
   "source": [
    "un_values.index.unique().shape"
   ]
  },
  {
   "cell_type": "code",
   "execution_count": 64,
   "metadata": {
    "scrolled": true
   },
   "outputs": [
    {
     "data": {
      "text/html": [
       "<div>\n",
       "<style scoped>\n",
       "    .dataframe tbody tr th:only-of-type {\n",
       "        vertical-align: middle;\n",
       "    }\n",
       "\n",
       "    .dataframe tbody tr th {\n",
       "        vertical-align: top;\n",
       "    }\n",
       "\n",
       "    .dataframe thead th {\n",
       "        text-align: right;\n",
       "    }\n",
       "</style>\n",
       "<table border=\"1\" class=\"dataframe\">\n",
       "  <thead>\n",
       "    <tr style=\"text-align: right;\">\n",
       "      <th></th>\n",
       "      <th>PCD_CODE</th>\n",
       "    </tr>\n",
       "  </thead>\n",
       "  <tbody>\n",
       "    <tr>\n",
       "      <th>172686_BS</th>\n",
       "      <td>1</td>\n",
       "    </tr>\n",
       "    <tr>\n",
       "      <th>46014970</th>\n",
       "      <td>1</td>\n",
       "    </tr>\n",
       "    <tr>\n",
       "      <th>163796_BS</th>\n",
       "      <td>1</td>\n",
       "    </tr>\n",
       "    <tr>\n",
       "      <th>152465_BS</th>\n",
       "      <td>1</td>\n",
       "    </tr>\n",
       "    <tr>\n",
       "      <th>46012602</th>\n",
       "      <td>1</td>\n",
       "    </tr>\n",
       "  </tbody>\n",
       "</table>\n",
       "</div>"
      ],
      "text/plain": [
       "           PCD_CODE\n",
       "172686_BS         1\n",
       "46014970          1\n",
       "163796_BS         1\n",
       "152465_BS         1\n",
       "46012602          1"
      ]
     },
     "execution_count": 64,
     "metadata": {},
     "output_type": "execute_result"
    }
   ],
   "source": [
    "un_values.head()"
   ]
  },
  {
   "cell_type": "code",
   "execution_count": 65,
   "metadata": {
    "scrolled": true
   },
   "outputs": [
    {
     "data": {
      "text/plain": [
       "(3012, 1)"
      ]
     },
     "execution_count": 65,
     "metadata": {},
     "output_type": "execute_result"
    }
   ],
   "source": [
    "un_values.shape"
   ]
  },
  {
   "cell_type": "code",
   "execution_count": null,
   "metadata": {},
   "outputs": [],
   "source": []
  },
  {
   "cell_type": "code",
   "execution_count": 66,
   "metadata": {},
   "outputs": [],
   "source": [
    "#PCD_Code on unique values in combined dataset\n",
    "un=pd.DataFrame(un_values.index)"
   ]
  },
  {
   "cell_type": "code",
   "execution_count": 67,
   "metadata": {},
   "outputs": [
    {
     "data": {
      "text/html": [
       "<div>\n",
       "<style scoped>\n",
       "    .dataframe tbody tr th:only-of-type {\n",
       "        vertical-align: middle;\n",
       "    }\n",
       "\n",
       "    .dataframe tbody tr th {\n",
       "        vertical-align: top;\n",
       "    }\n",
       "\n",
       "    .dataframe thead th {\n",
       "        text-align: right;\n",
       "    }\n",
       "</style>\n",
       "<table border=\"1\" class=\"dataframe\">\n",
       "  <thead>\n",
       "    <tr style=\"text-align: right;\">\n",
       "      <th></th>\n",
       "      <th>0</th>\n",
       "    </tr>\n",
       "  </thead>\n",
       "  <tbody>\n",
       "    <tr>\n",
       "      <th>0</th>\n",
       "      <td>172686_BS</td>\n",
       "    </tr>\n",
       "    <tr>\n",
       "      <th>1</th>\n",
       "      <td>46014970</td>\n",
       "    </tr>\n",
       "    <tr>\n",
       "      <th>2</th>\n",
       "      <td>163796_BS</td>\n",
       "    </tr>\n",
       "    <tr>\n",
       "      <th>3</th>\n",
       "      <td>152465_BS</td>\n",
       "    </tr>\n",
       "    <tr>\n",
       "      <th>4</th>\n",
       "      <td>46012602</td>\n",
       "    </tr>\n",
       "  </tbody>\n",
       "</table>\n",
       "</div>"
      ],
      "text/plain": [
       "           0\n",
       "0  172686_BS\n",
       "1   46014970\n",
       "2  163796_BS\n",
       "3  152465_BS\n",
       "4   46012602"
      ]
     },
     "execution_count": 67,
     "metadata": {},
     "output_type": "execute_result"
    }
   ],
   "source": [
    "un.head()"
   ]
  },
  {
   "cell_type": "code",
   "execution_count": 68,
   "metadata": {},
   "outputs": [
    {
     "data": {
      "text/plain": [
       "(3012, 1)"
      ]
     },
     "execution_count": 68,
     "metadata": {},
     "output_type": "execute_result"
    }
   ],
   "source": [
    "un.shape"
   ]
  },
  {
   "cell_type": "code",
   "execution_count": 69,
   "metadata": {},
   "outputs": [],
   "source": [
    "un.columns=['PCD_CODE']"
   ]
  },
  {
   "cell_type": "code",
   "execution_count": 70,
   "metadata": {
    "scrolled": false
   },
   "outputs": [
    {
     "data": {
      "text/html": [
       "<div>\n",
       "<style scoped>\n",
       "    .dataframe tbody tr th:only-of-type {\n",
       "        vertical-align: middle;\n",
       "    }\n",
       "\n",
       "    .dataframe tbody tr th {\n",
       "        vertical-align: top;\n",
       "    }\n",
       "\n",
       "    .dataframe thead th {\n",
       "        text-align: right;\n",
       "    }\n",
       "</style>\n",
       "<table border=\"1\" class=\"dataframe\">\n",
       "  <thead>\n",
       "    <tr style=\"text-align: right;\">\n",
       "      <th></th>\n",
       "      <th>PCD_CODE</th>\n",
       "    </tr>\n",
       "  </thead>\n",
       "  <tbody>\n",
       "    <tr>\n",
       "      <th>0</th>\n",
       "      <td>172686_BS</td>\n",
       "    </tr>\n",
       "    <tr>\n",
       "      <th>1</th>\n",
       "      <td>46014970</td>\n",
       "    </tr>\n",
       "    <tr>\n",
       "      <th>2</th>\n",
       "      <td>163796_BS</td>\n",
       "    </tr>\n",
       "    <tr>\n",
       "      <th>3</th>\n",
       "      <td>152465_BS</td>\n",
       "    </tr>\n",
       "    <tr>\n",
       "      <th>4</th>\n",
       "      <td>46012602</td>\n",
       "    </tr>\n",
       "  </tbody>\n",
       "</table>\n",
       "</div>"
      ],
      "text/plain": [
       "    PCD_CODE\n",
       "0  172686_BS\n",
       "1   46014970\n",
       "2  163796_BS\n",
       "3  152465_BS\n",
       "4   46012602"
      ]
     },
     "execution_count": 70,
     "metadata": {},
     "output_type": "execute_result"
    }
   ],
   "source": [
    "un.head()"
   ]
  },
  {
   "cell_type": "code",
   "execution_count": 71,
   "metadata": {},
   "outputs": [
    {
     "data": {
      "text/plain": [
       "(3012,)"
      ]
     },
     "execution_count": 71,
     "metadata": {},
     "output_type": "execute_result"
    }
   ],
   "source": [
    "un['PCD_CODE'].unique().shape"
   ]
  },
  {
   "cell_type": "code",
   "execution_count": 72,
   "metadata": {
    "scrolled": true
   },
   "outputs": [
    {
     "data": {
      "text/html": [
       "<div>\n",
       "<style scoped>\n",
       "    .dataframe tbody tr th:only-of-type {\n",
       "        vertical-align: middle;\n",
       "    }\n",
       "\n",
       "    .dataframe tbody tr th {\n",
       "        vertical-align: top;\n",
       "    }\n",
       "\n",
       "    .dataframe thead th {\n",
       "        text-align: right;\n",
       "    }\n",
       "</style>\n",
       "<table border=\"1\" class=\"dataframe\">\n",
       "  <thead>\n",
       "    <tr style=\"text-align: right;\">\n",
       "      <th></th>\n",
       "      <th>PCD_CODE</th>\n",
       "    </tr>\n",
       "  </thead>\n",
       "  <tbody>\n",
       "  </tbody>\n",
       "</table>\n",
       "</div>"
      ],
      "text/plain": [
       "Empty DataFrame\n",
       "Columns: [PCD_CODE]\n",
       "Index: []"
      ]
     },
     "execution_count": 72,
     "metadata": {},
     "output_type": "execute_result"
    }
   ],
   "source": [
    "un[un[\"PCD_CODE\"]==50003]"
   ]
  },
  {
   "cell_type": "code",
   "execution_count": 73,
   "metadata": {},
   "outputs": [
    {
     "data": {
      "text/html": [
       "<div>\n",
       "<style scoped>\n",
       "    .dataframe tbody tr th:only-of-type {\n",
       "        vertical-align: middle;\n",
       "    }\n",
       "\n",
       "    .dataframe tbody tr th {\n",
       "        vertical-align: top;\n",
       "    }\n",
       "\n",
       "    .dataframe thead th {\n",
       "        text-align: right;\n",
       "    }\n",
       "</style>\n",
       "<table border=\"1\" class=\"dataframe\">\n",
       "  <thead>\n",
       "    <tr style=\"text-align: right;\">\n",
       "      <th></th>\n",
       "      <th>SL_NO</th>\n",
       "      <th>PCD_CODE</th>\n",
       "      <th>PCD_COD1E</th>\n",
       "      <th>EMP_NAME</th>\n",
       "      <th>EMP_NAME1</th>\n",
       "      <th>DOB</th>\n",
       "      <th>AGE</th>\n",
       "      <th>DOJ</th>\n",
       "      <th>DOL</th>\n",
       "      <th>DOS</th>\n",
       "      <th>TOTAL MC</th>\n",
       "      <th>TOTAL CC</th>\n",
       "      <th>TOTAL VC1</th>\n",
       "      <th>GRAND TOTAL</th>\n",
       "    </tr>\n",
       "  </thead>\n",
       "  <tbody>\n",
       "  </tbody>\n",
       "</table>\n",
       "</div>"
      ],
      "text/plain": [
       "Empty DataFrame\n",
       "Columns: [SL_NO, PCD_CODE, PCD_COD1E, EMP_NAME, EMP_NAME1, DOB, AGE, DOJ, DOL, DOS, TOTAL MC, TOTAL CC, TOTAL VC1, GRAND TOTAL]\n",
       "Index: []"
      ]
     },
     "execution_count": 73,
     "metadata": {},
     "output_type": "execute_result"
    }
   ],
   "source": [
    "yyy[yyy[\"PCD_CODE\"]==50003]"
   ]
  },
  {
   "cell_type": "code",
   "execution_count": 74,
   "metadata": {},
   "outputs": [],
   "source": [
    "diff_bsv = pd.DataFrame(pd.merge(bsv,un,how = \"inner\",indicator = True))"
   ]
  },
  {
   "cell_type": "code",
   "execution_count": 75,
   "metadata": {},
   "outputs": [
    {
     "data": {
      "text/plain": [
       "(16, 15)"
      ]
     },
     "execution_count": 75,
     "metadata": {},
     "output_type": "execute_result"
    }
   ],
   "source": [
    "diff_bsv.shape"
   ]
  },
  {
   "cell_type": "code",
   "execution_count": 76,
   "metadata": {
    "scrolled": true
   },
   "outputs": [
    {
     "data": {
      "text/html": [
       "<div>\n",
       "<style scoped>\n",
       "    .dataframe tbody tr th:only-of-type {\n",
       "        vertical-align: middle;\n",
       "    }\n",
       "\n",
       "    .dataframe tbody tr th {\n",
       "        vertical-align: top;\n",
       "    }\n",
       "\n",
       "    .dataframe thead th {\n",
       "        text-align: right;\n",
       "    }\n",
       "</style>\n",
       "<table border=\"1\" class=\"dataframe\">\n",
       "  <thead>\n",
       "    <tr style=\"text-align: right;\">\n",
       "      <th></th>\n",
       "      <th>SL_NO</th>\n",
       "      <th>PCD_CODE</th>\n",
       "      <th>PCD_COD1E</th>\n",
       "      <th>EMP_NAME</th>\n",
       "      <th>EMP_NAME1</th>\n",
       "      <th>DOB</th>\n",
       "      <th>AGE</th>\n",
       "      <th>DOJ</th>\n",
       "      <th>DOL</th>\n",
       "      <th>DOS</th>\n",
       "      <th>TOTAL MC</th>\n",
       "      <th>TOTAL CC</th>\n",
       "      <th>TOTAL VC1</th>\n",
       "      <th>GRAND TOTAL</th>\n",
       "      <th>_merge</th>\n",
       "    </tr>\n",
       "  </thead>\n",
       "  <tbody>\n",
       "    <tr>\n",
       "      <th>0</th>\n",
       "      <td>7999</td>\n",
       "      <td>50023</td>\n",
       "      <td>50023</td>\n",
       "      <td>S.SRIRAM</td>\n",
       "      <td>S.SRIRAM</td>\n",
       "      <td>1979-05-12</td>\n",
       "      <td>39.885010</td>\n",
       "      <td>2003-04-01</td>\n",
       "      <td>NaT</td>\n",
       "      <td>NaT</td>\n",
       "      <td>270357</td>\n",
       "      <td>190595.0</td>\n",
       "      <td>0.0</td>\n",
       "      <td>460952.0</td>\n",
       "      <td>both</td>\n",
       "    </tr>\n",
       "    <tr>\n",
       "      <th>1</th>\n",
       "      <td>8734</td>\n",
       "      <td>55786</td>\n",
       "      <td>55786</td>\n",
       "      <td>VIJAY J</td>\n",
       "      <td>VIJAY J</td>\n",
       "      <td>1983-01-03</td>\n",
       "      <td>36.238193</td>\n",
       "      <td>2011-07-18</td>\n",
       "      <td>NaT</td>\n",
       "      <td>NaT</td>\n",
       "      <td>102259</td>\n",
       "      <td>32351.0</td>\n",
       "      <td>0.0</td>\n",
       "      <td>134610.0</td>\n",
       "      <td>both</td>\n",
       "    </tr>\n",
       "    <tr>\n",
       "      <th>2</th>\n",
       "      <td>10775</td>\n",
       "      <td>62326</td>\n",
       "      <td>62326</td>\n",
       "      <td>MS. LATHA BN</td>\n",
       "      <td>MS. LATHA BN</td>\n",
       "      <td>1986-06-05</td>\n",
       "      <td>32.818617</td>\n",
       "      <td>2014-04-14</td>\n",
       "      <td>NaT</td>\n",
       "      <td>NaT</td>\n",
       "      <td>113658</td>\n",
       "      <td>38410.0</td>\n",
       "      <td>0.0</td>\n",
       "      <td>152068.0</td>\n",
       "      <td>both</td>\n",
       "    </tr>\n",
       "    <tr>\n",
       "      <th>3</th>\n",
       "      <td>12800</td>\n",
       "      <td>66144</td>\n",
       "      <td>66144</td>\n",
       "      <td>TULASI PM</td>\n",
       "      <td>TULASI PM</td>\n",
       "      <td>1986-02-03</td>\n",
       "      <td>33.152635</td>\n",
       "      <td>2015-03-23</td>\n",
       "      <td>NaT</td>\n",
       "      <td>NaT</td>\n",
       "      <td>84356</td>\n",
       "      <td>27969.0</td>\n",
       "      <td>0.0</td>\n",
       "      <td>112325.0</td>\n",
       "      <td>both</td>\n",
       "    </tr>\n",
       "    <tr>\n",
       "      <th>4</th>\n",
       "      <td>13266</td>\n",
       "      <td>66913</td>\n",
       "      <td>66913</td>\n",
       "      <td>MANOJ RAGHUNATH B</td>\n",
       "      <td>MANOJ RAGHUNATH B</td>\n",
       "      <td>1988-03-02</td>\n",
       "      <td>31.077344</td>\n",
       "      <td>2015-06-08</td>\n",
       "      <td>NaT</td>\n",
       "      <td>NaT</td>\n",
       "      <td>104669</td>\n",
       "      <td>38867.0</td>\n",
       "      <td>0.0</td>\n",
       "      <td>143536.0</td>\n",
       "      <td>both</td>\n",
       "    </tr>\n",
       "    <tr>\n",
       "      <th>5</th>\n",
       "      <td>14102</td>\n",
       "      <td>68227</td>\n",
       "      <td>68227</td>\n",
       "      <td>SURENDRA GUTHYAPPA</td>\n",
       "      <td>SURENDRA GUTHYAPPA</td>\n",
       "      <td>1987-01-05</td>\n",
       "      <td>32.232717</td>\n",
       "      <td>2015-10-05</td>\n",
       "      <td>NaT</td>\n",
       "      <td>NaT</td>\n",
       "      <td>62716</td>\n",
       "      <td>19752.0</td>\n",
       "      <td>0.0</td>\n",
       "      <td>82468.0</td>\n",
       "      <td>both</td>\n",
       "    </tr>\n",
       "    <tr>\n",
       "      <th>6</th>\n",
       "      <td>14746</td>\n",
       "      <td>69264</td>\n",
       "      <td>69264</td>\n",
       "      <td>PRASATH MR</td>\n",
       "      <td>PRASATH MR</td>\n",
       "      <td>1990-08-30</td>\n",
       "      <td>28.583162</td>\n",
       "      <td>2016-01-11</td>\n",
       "      <td>NaT</td>\n",
       "      <td>NaT</td>\n",
       "      <td>25971</td>\n",
       "      <td>7955.0</td>\n",
       "      <td>0.0</td>\n",
       "      <td>33926.0</td>\n",
       "      <td>both</td>\n",
       "    </tr>\n",
       "    <tr>\n",
       "      <th>7</th>\n",
       "      <td>15084</td>\n",
       "      <td>69828</td>\n",
       "      <td>69828</td>\n",
       "      <td>RANJITHKUMAR C</td>\n",
       "      <td>RANJITHKUMAR C</td>\n",
       "      <td>1994-05-07</td>\n",
       "      <td>24.898015</td>\n",
       "      <td>2016-03-14</td>\n",
       "      <td>NaT</td>\n",
       "      <td>NaT</td>\n",
       "      <td>36976</td>\n",
       "      <td>11298.0</td>\n",
       "      <td>0.0</td>\n",
       "      <td>48274.0</td>\n",
       "      <td>both</td>\n",
       "    </tr>\n",
       "    <tr>\n",
       "      <th>8</th>\n",
       "      <td>16065</td>\n",
       "      <td>50224</td>\n",
       "      <td>50224</td>\n",
       "      <td>JOHN I</td>\n",
       "      <td>JOHN I</td>\n",
       "      <td>1977-01-30</td>\n",
       "      <td>42.162902</td>\n",
       "      <td>2006-01-05</td>\n",
       "      <td>NaT</td>\n",
       "      <td>NaT</td>\n",
       "      <td>47622</td>\n",
       "      <td>31852.0</td>\n",
       "      <td>0.0</td>\n",
       "      <td>79474.0</td>\n",
       "      <td>both</td>\n",
       "    </tr>\n",
       "    <tr>\n",
       "      <th>9</th>\n",
       "      <td>16190</td>\n",
       "      <td>50814</td>\n",
       "      <td>50814</td>\n",
       "      <td>KALAIVANI S</td>\n",
       "      <td>KALAIVANI S</td>\n",
       "      <td>1983-06-06</td>\n",
       "      <td>35.816564</td>\n",
       "      <td>2008-02-18</td>\n",
       "      <td>NaT</td>\n",
       "      <td>NaT</td>\n",
       "      <td>27979</td>\n",
       "      <td>9543.0</td>\n",
       "      <td>0.0</td>\n",
       "      <td>37522.0</td>\n",
       "      <td>both</td>\n",
       "    </tr>\n",
       "    <tr>\n",
       "      <th>10</th>\n",
       "      <td>16755</td>\n",
       "      <td>54439</td>\n",
       "      <td>54439</td>\n",
       "      <td>KULWANT SINGH</td>\n",
       "      <td>KULWANT SINGH</td>\n",
       "      <td>1984-05-02</td>\n",
       "      <td>34.910335</td>\n",
       "      <td>2010-01-11</td>\n",
       "      <td>NaT</td>\n",
       "      <td>NaT</td>\n",
       "      <td>125106</td>\n",
       "      <td>38761.0</td>\n",
       "      <td>0.0</td>\n",
       "      <td>163867.0</td>\n",
       "      <td>both</td>\n",
       "    </tr>\n",
       "    <tr>\n",
       "      <th>11</th>\n",
       "      <td>23241</td>\n",
       "      <td>78123</td>\n",
       "      <td>78123</td>\n",
       "      <td>NAZEEMA BANU SHAIK</td>\n",
       "      <td>NAZEEMA BANU SHAIK</td>\n",
       "      <td>1991-06-22</td>\n",
       "      <td>27.772758</td>\n",
       "      <td>2017-04-17</td>\n",
       "      <td>NaT</td>\n",
       "      <td>NaT</td>\n",
       "      <td>27116</td>\n",
       "      <td>8549.0</td>\n",
       "      <td>0.0</td>\n",
       "      <td>35665.0</td>\n",
       "      <td>both</td>\n",
       "    </tr>\n",
       "    <tr>\n",
       "      <th>12</th>\n",
       "      <td>25869</td>\n",
       "      <td>50260</td>\n",
       "      <td>50260</td>\n",
       "      <td>SUDHARSANAN K V</td>\n",
       "      <td>SUDHARSANAN K V</td>\n",
       "      <td>1979-10-24</td>\n",
       "      <td>39.433265</td>\n",
       "      <td>2000-04-01</td>\n",
       "      <td>NaT</td>\n",
       "      <td>NaT</td>\n",
       "      <td>198470</td>\n",
       "      <td>110620.0</td>\n",
       "      <td>0.0</td>\n",
       "      <td>309090.0</td>\n",
       "      <td>both</td>\n",
       "    </tr>\n",
       "    <tr>\n",
       "      <th>13</th>\n",
       "      <td>25873</td>\n",
       "      <td>50541</td>\n",
       "      <td>50541</td>\n",
       "      <td>VICTOR PREVIN KUMAR D</td>\n",
       "      <td>VICTOR PREVIN KUMAR D</td>\n",
       "      <td>1980-07-09</td>\n",
       "      <td>38.724162</td>\n",
       "      <td>2000-04-01</td>\n",
       "      <td>NaT</td>\n",
       "      <td>NaT</td>\n",
       "      <td>59094</td>\n",
       "      <td>29752.0</td>\n",
       "      <td>0.0</td>\n",
       "      <td>88846.0</td>\n",
       "      <td>both</td>\n",
       "    </tr>\n",
       "    <tr>\n",
       "      <th>14</th>\n",
       "      <td>26037</td>\n",
       "      <td>200277</td>\n",
       "      <td>200277</td>\n",
       "      <td>RAGUL M</td>\n",
       "      <td>RAGUL M</td>\n",
       "      <td>1997-07-31</td>\n",
       "      <td>21.664613</td>\n",
       "      <td>2017-10-30</td>\n",
       "      <td>NaT</td>\n",
       "      <td>NaT</td>\n",
       "      <td>14953</td>\n",
       "      <td>14953.0</td>\n",
       "      <td>0.0</td>\n",
       "      <td>29906.0</td>\n",
       "      <td>both</td>\n",
       "    </tr>\n",
       "    <tr>\n",
       "      <th>15</th>\n",
       "      <td>26313</td>\n",
       "      <td>73847</td>\n",
       "      <td>73847</td>\n",
       "      <td>AJAY KUMAR YADAV</td>\n",
       "      <td>AJAY KUMAR YADAV</td>\n",
       "      <td>1986-03-17</td>\n",
       "      <td>33.037645</td>\n",
       "      <td>2013-07-01</td>\n",
       "      <td>NaT</td>\n",
       "      <td>NaT</td>\n",
       "      <td>35706</td>\n",
       "      <td>35706.0</td>\n",
       "      <td>0.0</td>\n",
       "      <td>71412.0</td>\n",
       "      <td>both</td>\n",
       "    </tr>\n",
       "  </tbody>\n",
       "</table>\n",
       "</div>"
      ],
      "text/plain": [
       "    SL_NO PCD_CODE PCD_COD1E               EMP_NAME              EMP_NAME1  \\\n",
       "0    7999    50023     50023               S.SRIRAM               S.SRIRAM   \n",
       "1    8734    55786     55786                VIJAY J                VIJAY J   \n",
       "2   10775    62326     62326           MS. LATHA BN           MS. LATHA BN   \n",
       "3   12800    66144     66144              TULASI PM              TULASI PM   \n",
       "4   13266    66913     66913      MANOJ RAGHUNATH B      MANOJ RAGHUNATH B   \n",
       "5   14102    68227     68227     SURENDRA GUTHYAPPA     SURENDRA GUTHYAPPA   \n",
       "6   14746    69264     69264             PRASATH MR             PRASATH MR   \n",
       "7   15084    69828     69828         RANJITHKUMAR C         RANJITHKUMAR C   \n",
       "8   16065    50224     50224                 JOHN I                 JOHN I   \n",
       "9   16190    50814     50814            KALAIVANI S            KALAIVANI S   \n",
       "10  16755    54439     54439          KULWANT SINGH          KULWANT SINGH   \n",
       "11  23241    78123     78123     NAZEEMA BANU SHAIK     NAZEEMA BANU SHAIK   \n",
       "12  25869    50260     50260        SUDHARSANAN K V        SUDHARSANAN K V   \n",
       "13  25873    50541     50541  VICTOR PREVIN KUMAR D  VICTOR PREVIN KUMAR D   \n",
       "14  26037   200277    200277                RAGUL M                RAGUL M   \n",
       "15  26313    73847     73847       AJAY KUMAR YADAV       AJAY KUMAR YADAV   \n",
       "\n",
       "          DOB        AGE        DOJ DOL DOS TOTAL MC  TOTAL CC  TOTAL VC1  \\\n",
       "0  1979-05-12  39.885010 2003-04-01 NaT NaT   270357  190595.0        0.0   \n",
       "1  1983-01-03  36.238193 2011-07-18 NaT NaT   102259   32351.0        0.0   \n",
       "2  1986-06-05  32.818617 2014-04-14 NaT NaT   113658   38410.0        0.0   \n",
       "3  1986-02-03  33.152635 2015-03-23 NaT NaT    84356   27969.0        0.0   \n",
       "4  1988-03-02  31.077344 2015-06-08 NaT NaT   104669   38867.0        0.0   \n",
       "5  1987-01-05  32.232717 2015-10-05 NaT NaT    62716   19752.0        0.0   \n",
       "6  1990-08-30  28.583162 2016-01-11 NaT NaT    25971    7955.0        0.0   \n",
       "7  1994-05-07  24.898015 2016-03-14 NaT NaT    36976   11298.0        0.0   \n",
       "8  1977-01-30  42.162902 2006-01-05 NaT NaT    47622   31852.0        0.0   \n",
       "9  1983-06-06  35.816564 2008-02-18 NaT NaT    27979    9543.0        0.0   \n",
       "10 1984-05-02  34.910335 2010-01-11 NaT NaT   125106   38761.0        0.0   \n",
       "11 1991-06-22  27.772758 2017-04-17 NaT NaT    27116    8549.0        0.0   \n",
       "12 1979-10-24  39.433265 2000-04-01 NaT NaT   198470  110620.0        0.0   \n",
       "13 1980-07-09  38.724162 2000-04-01 NaT NaT    59094   29752.0        0.0   \n",
       "14 1997-07-31  21.664613 2017-10-30 NaT NaT    14953   14953.0        0.0   \n",
       "15 1986-03-17  33.037645 2013-07-01 NaT NaT    35706   35706.0        0.0   \n",
       "\n",
       "    GRAND TOTAL _merge  \n",
       "0      460952.0   both  \n",
       "1      134610.0   both  \n",
       "2      152068.0   both  \n",
       "3      112325.0   both  \n",
       "4      143536.0   both  \n",
       "5       82468.0   both  \n",
       "6       33926.0   both  \n",
       "7       48274.0   both  \n",
       "8       79474.0   both  \n",
       "9       37522.0   both  \n",
       "10     163867.0   both  \n",
       "11      35665.0   both  \n",
       "12     309090.0   both  \n",
       "13      88846.0   both  \n",
       "14      29906.0   both  \n",
       "15      71412.0   both  "
      ]
     },
     "execution_count": 76,
     "metadata": {},
     "output_type": "execute_result"
    }
   ],
   "source": [
    "diff_bsv.head(16)"
   ]
  },
  {
   "cell_type": "code",
   "execution_count": 77,
   "metadata": {},
   "outputs": [],
   "source": [
    "#diff_bsv=diff_bsv.drop([\"PCD_COD1E\"],axis=1)"
   ]
  },
  {
   "cell_type": "code",
   "execution_count": null,
   "metadata": {},
   "outputs": [],
   "source": []
  },
  {
   "cell_type": "markdown",
   "metadata": {},
   "source": [
    "### NEW TRY"
   ]
  },
  {
   "cell_type": "code",
   "execution_count": 78,
   "metadata": {},
   "outputs": [],
   "source": [
    "sub_set=set(yyy[\"PCD_CODE\"])"
   ]
  },
  {
   "cell_type": "code",
   "execution_count": 79,
   "metadata": {},
   "outputs": [],
   "source": [
    "su_set=(set(bsvt[\"PCD_CODE\"]))"
   ]
  },
  {
   "cell_type": "code",
   "execution_count": 80,
   "metadata": {},
   "outputs": [],
   "source": [
    "unique = pd.DataFrame(sub_set-su_set)"
   ]
  },
  {
   "cell_type": "code",
   "execution_count": 81,
   "metadata": {},
   "outputs": [
    {
     "data": {
      "text/html": [
       "<div>\n",
       "<style scoped>\n",
       "    .dataframe tbody tr th:only-of-type {\n",
       "        vertical-align: middle;\n",
       "    }\n",
       "\n",
       "    .dataframe tbody tr th {\n",
       "        vertical-align: top;\n",
       "    }\n",
       "\n",
       "    .dataframe thead th {\n",
       "        text-align: right;\n",
       "    }\n",
       "</style>\n",
       "<table border=\"1\" class=\"dataframe\">\n",
       "  <thead>\n",
       "    <tr style=\"text-align: right;\">\n",
       "      <th></th>\n",
       "      <th>0</th>\n",
       "    </tr>\n",
       "  </thead>\n",
       "  <tbody>\n",
       "    <tr>\n",
       "      <th>0</th>\n",
       "      <td>NaN</td>\n",
       "    </tr>\n",
       "    <tr>\n",
       "      <th>1</th>\n",
       "      <td>50814</td>\n",
       "    </tr>\n",
       "    <tr>\n",
       "      <th>2</th>\n",
       "      <td>62326</td>\n",
       "    </tr>\n",
       "    <tr>\n",
       "      <th>3</th>\n",
       "      <td>200277</td>\n",
       "    </tr>\n",
       "    <tr>\n",
       "      <th>4</th>\n",
       "      <td>50541</td>\n",
       "    </tr>\n",
       "  </tbody>\n",
       "</table>\n",
       "</div>"
      ],
      "text/plain": [
       "        0\n",
       "0     NaN\n",
       "1   50814\n",
       "2   62326\n",
       "3  200277\n",
       "4   50541"
      ]
     },
     "execution_count": 81,
     "metadata": {},
     "output_type": "execute_result"
    }
   ],
   "source": [
    "unique.head()"
   ]
  },
  {
   "cell_type": "code",
   "execution_count": 82,
   "metadata": {},
   "outputs": [],
   "source": [
    "unique.columns = [\"PCD_CODE\"]"
   ]
  },
  {
   "cell_type": "code",
   "execution_count": 83,
   "metadata": {},
   "outputs": [
    {
     "data": {
      "text/html": [
       "<div>\n",
       "<style scoped>\n",
       "    .dataframe tbody tr th:only-of-type {\n",
       "        vertical-align: middle;\n",
       "    }\n",
       "\n",
       "    .dataframe tbody tr th {\n",
       "        vertical-align: top;\n",
       "    }\n",
       "\n",
       "    .dataframe thead th {\n",
       "        text-align: right;\n",
       "    }\n",
       "</style>\n",
       "<table border=\"1\" class=\"dataframe\">\n",
       "  <thead>\n",
       "    <tr style=\"text-align: right;\">\n",
       "      <th></th>\n",
       "      <th>PCD_CODE</th>\n",
       "    </tr>\n",
       "  </thead>\n",
       "  <tbody>\n",
       "    <tr>\n",
       "      <th>0</th>\n",
       "      <td>NaN</td>\n",
       "    </tr>\n",
       "    <tr>\n",
       "      <th>1</th>\n",
       "      <td>50814</td>\n",
       "    </tr>\n",
       "    <tr>\n",
       "      <th>2</th>\n",
       "      <td>62326</td>\n",
       "    </tr>\n",
       "    <tr>\n",
       "      <th>3</th>\n",
       "      <td>200277</td>\n",
       "    </tr>\n",
       "    <tr>\n",
       "      <th>4</th>\n",
       "      <td>50541</td>\n",
       "    </tr>\n",
       "  </tbody>\n",
       "</table>\n",
       "</div>"
      ],
      "text/plain": [
       "  PCD_CODE\n",
       "0      NaN\n",
       "1    50814\n",
       "2    62326\n",
       "3   200277\n",
       "4    50541"
      ]
     },
     "execution_count": 83,
     "metadata": {},
     "output_type": "execute_result"
    }
   ],
   "source": [
    "unique.head()"
   ]
  },
  {
   "cell_type": "code",
   "execution_count": 84,
   "metadata": {},
   "outputs": [
    {
     "data": {
      "text/html": [
       "<div>\n",
       "<style scoped>\n",
       "    .dataframe tbody tr th:only-of-type {\n",
       "        vertical-align: middle;\n",
       "    }\n",
       "\n",
       "    .dataframe tbody tr th {\n",
       "        vertical-align: top;\n",
       "    }\n",
       "\n",
       "    .dataframe thead th {\n",
       "        text-align: right;\n",
       "    }\n",
       "</style>\n",
       "<table border=\"1\" class=\"dataframe\">\n",
       "  <thead>\n",
       "    <tr style=\"text-align: right;\">\n",
       "      <th></th>\n",
       "      <th>PCD_CODE</th>\n",
       "    </tr>\n",
       "  </thead>\n",
       "  <tbody>\n",
       "    <tr>\n",
       "      <th>0</th>\n",
       "      <td>NaN</td>\n",
       "    </tr>\n",
       "    <tr>\n",
       "      <th>1</th>\n",
       "      <td>50814</td>\n",
       "    </tr>\n",
       "    <tr>\n",
       "      <th>2</th>\n",
       "      <td>62326</td>\n",
       "    </tr>\n",
       "    <tr>\n",
       "      <th>3</th>\n",
       "      <td>200277</td>\n",
       "    </tr>\n",
       "    <tr>\n",
       "      <th>4</th>\n",
       "      <td>50541</td>\n",
       "    </tr>\n",
       "    <tr>\n",
       "      <th>5</th>\n",
       "      <td>66913</td>\n",
       "    </tr>\n",
       "    <tr>\n",
       "      <th>6</th>\n",
       "      <td>50224</td>\n",
       "    </tr>\n",
       "    <tr>\n",
       "      <th>7</th>\n",
       "      <td>55786</td>\n",
       "    </tr>\n",
       "    <tr>\n",
       "      <th>8</th>\n",
       "      <td>54439</td>\n",
       "    </tr>\n",
       "    <tr>\n",
       "      <th>9</th>\n",
       "      <td>78123</td>\n",
       "    </tr>\n",
       "    <tr>\n",
       "      <th>10</th>\n",
       "      <td>66144</td>\n",
       "    </tr>\n",
       "    <tr>\n",
       "      <th>11</th>\n",
       "      <td>50260</td>\n",
       "    </tr>\n",
       "    <tr>\n",
       "      <th>12</th>\n",
       "      <td>69828</td>\n",
       "    </tr>\n",
       "    <tr>\n",
       "      <th>13</th>\n",
       "      <td>69264</td>\n",
       "    </tr>\n",
       "    <tr>\n",
       "      <th>14</th>\n",
       "      <td>73847</td>\n",
       "    </tr>\n",
       "    <tr>\n",
       "      <th>15</th>\n",
       "      <td>50023</td>\n",
       "    </tr>\n",
       "    <tr>\n",
       "      <th>16</th>\n",
       "      <td>68227</td>\n",
       "    </tr>\n",
       "  </tbody>\n",
       "</table>\n",
       "</div>"
      ],
      "text/plain": [
       "   PCD_CODE\n",
       "0       NaN\n",
       "1     50814\n",
       "2     62326\n",
       "3    200277\n",
       "4     50541\n",
       "5     66913\n",
       "6     50224\n",
       "7     55786\n",
       "8     54439\n",
       "9     78123\n",
       "10    66144\n",
       "11    50260\n",
       "12    69828\n",
       "13    69264\n",
       "14    73847\n",
       "15    50023\n",
       "16    68227"
      ]
     },
     "execution_count": 84,
     "metadata": {},
     "output_type": "execute_result"
    }
   ],
   "source": [
    "unique"
   ]
  },
  {
   "cell_type": "code",
   "execution_count": 85,
   "metadata": {},
   "outputs": [
    {
     "data": {
      "text/plain": [
       "66913     1\n",
       "50023     1\n",
       "73847     1\n",
       "69264     1\n",
       "69828     1\n",
       "50260     1\n",
       "66144     1\n",
       "78123     1\n",
       "54439     1\n",
       "68227     1\n",
       "50224     1\n",
       "55786     1\n",
       "50541     1\n",
       "200277    1\n",
       "62326     1\n",
       "50814     1\n",
       "Name: PCD_CODE, dtype: int64"
      ]
     },
     "execution_count": 85,
     "metadata": {},
     "output_type": "execute_result"
    }
   ],
   "source": [
    "unique[\"PCD_CODE\"].value_counts()"
   ]
  },
  {
   "cell_type": "markdown",
   "metadata": {},
   "source": [
    "## The above method worked as well\n"
   ]
  },
  {
   "cell_type": "markdown",
   "metadata": {},
   "source": [
    "## PART 3"
   ]
  },
  {
   "cell_type": "code",
   "execution_count": 86,
   "metadata": {},
   "outputs": [],
   "source": [
    "fst = pd.read_excel(r\"EMP-MASTER\\EMP-MASTER.xlsx\",sheet_name = \"zzz - Trust master\")"
   ]
  },
  {
   "cell_type": "code",
   "execution_count": 87,
   "metadata": {},
   "outputs": [
    {
     "data": {
      "text/html": [
       "<div>\n",
       "<style scoped>\n",
       "    .dataframe tbody tr th:only-of-type {\n",
       "        vertical-align: middle;\n",
       "    }\n",
       "\n",
       "    .dataframe tbody tr th {\n",
       "        vertical-align: top;\n",
       "    }\n",
       "\n",
       "    .dataframe thead th {\n",
       "        text-align: right;\n",
       "    }\n",
       "</style>\n",
       "<table border=\"1\" class=\"dataframe\">\n",
       "  <thead>\n",
       "    <tr style=\"text-align: right;\">\n",
       "      <th></th>\n",
       "      <th>SL_NO</th>\n",
       "      <th>COMP_CODE</th>\n",
       "      <th>UNIT_CODE/location code</th>\n",
       "      <th>PCD_CODE</th>\n",
       "      <th>PCD_CODE/cost centre</th>\n",
       "      <th>EMP_NAME</th>\n",
       "      <th>SEX</th>\n",
       "      <th>MARITAL_STATUS</th>\n",
       "      <th>DOB</th>\n",
       "      <th>DOJ</th>\n",
       "      <th>DOL</th>\n",
       "      <th>PF_NO</th>\n",
       "      <th>PF_MEM_START_DATE</th>\n",
       "      <th>GR_START_DATE</th>\n",
       "      <th>EPS_NO</th>\n",
       "    </tr>\n",
       "  </thead>\n",
       "  <tbody>\n",
       "    <tr>\n",
       "      <th>0</th>\n",
       "      <td>1</td>\n",
       "      <td>CGFS</td>\n",
       "      <td>'001</td>\n",
       "      <td>10297_FS</td>\n",
       "      <td>10297_FS</td>\n",
       "      <td>SRAJESH</td>\n",
       "      <td>M</td>\n",
       "      <td>M</td>\n",
       "      <td>1972-12-25</td>\n",
       "      <td>1997-07-11</td>\n",
       "      <td>2008-07-04</td>\n",
       "      <td>187</td>\n",
       "      <td>1997-07-11</td>\n",
       "      <td>1997-07-11</td>\n",
       "      <td>21</td>\n",
       "    </tr>\n",
       "    <tr>\n",
       "      <th>1</th>\n",
       "      <td>2</td>\n",
       "      <td>CGFS</td>\n",
       "      <td>'001</td>\n",
       "      <td>10407_FS</td>\n",
       "      <td>10407_FS</td>\n",
       "      <td>RANISAMTANI</td>\n",
       "      <td>F</td>\n",
       "      <td>M</td>\n",
       "      <td>1975-07-16</td>\n",
       "      <td>1998-01-13</td>\n",
       "      <td>2008-12-19</td>\n",
       "      <td>274</td>\n",
       "      <td>1998-01-13</td>\n",
       "      <td>1998-01-13</td>\n",
       "      <td>36</td>\n",
       "    </tr>\n",
       "    <tr>\n",
       "      <th>2</th>\n",
       "      <td>3</td>\n",
       "      <td>CGFS</td>\n",
       "      <td>'001</td>\n",
       "      <td>10422_FS</td>\n",
       "      <td>10422_FS</td>\n",
       "      <td>NISHADRKASHID</td>\n",
       "      <td>M</td>\n",
       "      <td>M</td>\n",
       "      <td>1972-12-10</td>\n",
       "      <td>2007-09-12</td>\n",
       "      <td>2008-10-10</td>\n",
       "      <td>288</td>\n",
       "      <td>2007-09-12</td>\n",
       "      <td>2007-09-12</td>\n",
       "      <td>39</td>\n",
       "    </tr>\n",
       "    <tr>\n",
       "      <th>3</th>\n",
       "      <td>4</td>\n",
       "      <td>CGFS</td>\n",
       "      <td>'001</td>\n",
       "      <td>10519_FS</td>\n",
       "      <td>10519_FS</td>\n",
       "      <td>DIANAVINCENTTOSCANO</td>\n",
       "      <td>F</td>\n",
       "      <td>M</td>\n",
       "      <td>1975-04-14</td>\n",
       "      <td>1998-07-07</td>\n",
       "      <td>2010-04-30</td>\n",
       "      <td>368</td>\n",
       "      <td>1998-07-07</td>\n",
       "      <td>1998-07-07</td>\n",
       "      <td>53</td>\n",
       "    </tr>\n",
       "    <tr>\n",
       "      <th>4</th>\n",
       "      <td>5</td>\n",
       "      <td>CGFS</td>\n",
       "      <td>'001</td>\n",
       "      <td>10693_FS</td>\n",
       "      <td>10693_FS</td>\n",
       "      <td>AMITCHANDRAKANTNAIDU</td>\n",
       "      <td>M</td>\n",
       "      <td>M</td>\n",
       "      <td>1974-05-03</td>\n",
       "      <td>2005-01-15</td>\n",
       "      <td>2008-08-07</td>\n",
       "      <td>472</td>\n",
       "      <td>2005-01-15</td>\n",
       "      <td>2005-01-15</td>\n",
       "      <td>70</td>\n",
       "    </tr>\n",
       "  </tbody>\n",
       "</table>\n",
       "</div>"
      ],
      "text/plain": [
       "   SL_NO COMP_CODE UNIT_CODE/location code  PCD_CODE PCD_CODE/cost centre  \\\n",
       "0      1      CGFS                    '001  10297_FS             10297_FS   \n",
       "1      2      CGFS                    '001  10407_FS             10407_FS   \n",
       "2      3      CGFS                    '001  10422_FS             10422_FS   \n",
       "3      4      CGFS                    '001  10519_FS             10519_FS   \n",
       "4      5      CGFS                    '001  10693_FS             10693_FS   \n",
       "\n",
       "               EMP_NAME SEX MARITAL_STATUS        DOB        DOJ        DOL  \\\n",
       "0               SRAJESH   M              M 1972-12-25 1997-07-11 2008-07-04   \n",
       "1           RANISAMTANI   F              M 1975-07-16 1998-01-13 2008-12-19   \n",
       "2         NISHADRKASHID   M              M 1972-12-10 2007-09-12 2008-10-10   \n",
       "3   DIANAVINCENTTOSCANO   F              M 1975-04-14 1998-07-07 2010-04-30   \n",
       "4  AMITCHANDRAKANTNAIDU   M              M 1974-05-03 2005-01-15 2008-08-07   \n",
       "\n",
       "  PF_NO PF_MEM_START_DATE GR_START_DATE EPS_NO  \n",
       "0   187        1997-07-11    1997-07-11     21  \n",
       "1   274        1998-01-13    1998-01-13     36  \n",
       "2   288        2007-09-12    2007-09-12     39  \n",
       "3   368        1998-07-07    1998-07-07     53  \n",
       "4   472        2005-01-15    2005-01-15     70  "
      ]
     },
     "execution_count": 87,
     "metadata": {},
     "output_type": "execute_result"
    }
   ],
   "source": [
    "fst.head()"
   ]
  },
  {
   "cell_type": "code",
   "execution_count": 88,
   "metadata": {},
   "outputs": [
    {
     "data": {
      "text/plain": [
       "(73062, 15)"
      ]
     },
     "execution_count": 88,
     "metadata": {},
     "output_type": "execute_result"
    }
   ],
   "source": [
    "fst.shape"
   ]
  },
  {
   "cell_type": "code",
   "execution_count": 89,
   "metadata": {},
   "outputs": [],
   "source": [
    "unn=pd.merge(diff_yyy,fst,how=\"inner\")"
   ]
  },
  {
   "cell_type": "code",
   "execution_count": 90,
   "metadata": {},
   "outputs": [
    {
     "data": {
      "text/plain": [
       "(0, 24)"
      ]
     },
     "execution_count": 90,
     "metadata": {},
     "output_type": "execute_result"
    }
   ],
   "source": [
    "unn.shape"
   ]
  },
  {
   "cell_type": "markdown",
   "metadata": {},
   "source": [
    "### Therefore no data diff_yyy is common in zzz-Trust master"
   ]
  },
  {
   "cell_type": "code",
   "execution_count": 91,
   "metadata": {},
   "outputs": [],
   "source": [
    "nfst = pd.read_excel(r\"EMP-MASTER.xlsx\",sheet_name = \"Non zzz - Trust master\")"
   ]
  },
  {
   "cell_type": "code",
   "execution_count": 92,
   "metadata": {},
   "outputs": [
    {
     "data": {
      "text/html": [
       "<div>\n",
       "<style scoped>\n",
       "    .dataframe tbody tr th:only-of-type {\n",
       "        vertical-align: middle;\n",
       "    }\n",
       "\n",
       "    .dataframe tbody tr th {\n",
       "        vertical-align: top;\n",
       "    }\n",
       "\n",
       "    .dataframe thead th {\n",
       "        text-align: right;\n",
       "    }\n",
       "</style>\n",
       "<table border=\"1\" class=\"dataframe\">\n",
       "  <thead>\n",
       "    <tr style=\"text-align: right;\">\n",
       "      <th></th>\n",
       "      <th>SL_NO</th>\n",
       "      <th>COMP_CODE</th>\n",
       "      <th>UNIT_CODE/location code/pf code</th>\n",
       "      <th>PCD_CODE</th>\n",
       "      <th>PCD_CODE/cost centre</th>\n",
       "      <th>EMP_NAME</th>\n",
       "      <th>SEX</th>\n",
       "      <th>MARITAL_STATUS</th>\n",
       "      <th>DOB</th>\n",
       "      <th>DOJ</th>\n",
       "      <th>DOL</th>\n",
       "      <th>PF_NO</th>\n",
       "      <th>PF_MEM_START_DATE</th>\n",
       "      <th>GR_TYPE</th>\n",
       "      <th>EPS_NO</th>\n",
       "    </tr>\n",
       "  </thead>\n",
       "  <tbody>\n",
       "    <tr>\n",
       "      <th>0</th>\n",
       "      <td>1</td>\n",
       "      <td>CGACIS</td>\n",
       "      <td>001</td>\n",
       "      <td>33044</td>\n",
       "      <td>33044</td>\n",
       "      <td>SAYANTAN DAS</td>\n",
       "      <td>M</td>\n",
       "      <td>NaN</td>\n",
       "      <td>1979-09-22</td>\n",
       "      <td>2011-02-14 00:00:00</td>\n",
       "      <td>2014-09-05</td>\n",
       "      <td>33044</td>\n",
       "      <td>2010-07-14</td>\n",
       "      <td>GR-YS</td>\n",
       "      <td>24697</td>\n",
       "    </tr>\n",
       "    <tr>\n",
       "      <th>1</th>\n",
       "      <td>2</td>\n",
       "      <td>CGACIS</td>\n",
       "      <td>001</td>\n",
       "      <td>33045</td>\n",
       "      <td>33045</td>\n",
       "      <td>ABHIJIT DEY</td>\n",
       "      <td>M</td>\n",
       "      <td>NaN</td>\n",
       "      <td>1983-05-21</td>\n",
       "      <td>2011-02-15 00:00:00</td>\n",
       "      <td>2012-07-24</td>\n",
       "      <td>33045</td>\n",
       "      <td>2011-02-15</td>\n",
       "      <td>GR-YS</td>\n",
       "      <td>24698</td>\n",
       "    </tr>\n",
       "    <tr>\n",
       "      <th>2</th>\n",
       "      <td>3</td>\n",
       "      <td>CGACIS</td>\n",
       "      <td>001</td>\n",
       "      <td>33046</td>\n",
       "      <td>33046</td>\n",
       "      <td>CHIDVILASA RAGHAVA</td>\n",
       "      <td>M</td>\n",
       "      <td>NaN</td>\n",
       "      <td>1980-08-30</td>\n",
       "      <td>2007-10-01 00:00:00</td>\n",
       "      <td>2012-08-06</td>\n",
       "      <td>33046</td>\n",
       "      <td>2008-07-01</td>\n",
       "      <td>GR-YS</td>\n",
       "      <td>24699</td>\n",
       "    </tr>\n",
       "    <tr>\n",
       "      <th>3</th>\n",
       "      <td>4</td>\n",
       "      <td>CGACIS</td>\n",
       "      <td>001</td>\n",
       "      <td>33047</td>\n",
       "      <td>33047</td>\n",
       "      <td>DEEPAK KRISHNA</td>\n",
       "      <td>M</td>\n",
       "      <td>NaN</td>\n",
       "      <td>1983-04-27</td>\n",
       "      <td>2011-02-14 00:00:00</td>\n",
       "      <td>2011-12-20</td>\n",
       "      <td>33047</td>\n",
       "      <td>2011-02-14</td>\n",
       "      <td>GR-YS</td>\n",
       "      <td>24700</td>\n",
       "    </tr>\n",
       "    <tr>\n",
       "      <th>4</th>\n",
       "      <td>5</td>\n",
       "      <td>CGACIS</td>\n",
       "      <td>001</td>\n",
       "      <td>33048</td>\n",
       "      <td>33048</td>\n",
       "      <td>PARAG SHARMA</td>\n",
       "      <td>M</td>\n",
       "      <td>NaN</td>\n",
       "      <td>1980-10-12</td>\n",
       "      <td>2011-02-15 00:00:00</td>\n",
       "      <td>2012-02-21</td>\n",
       "      <td>33048</td>\n",
       "      <td>2011-02-15</td>\n",
       "      <td>GR-YS</td>\n",
       "      <td>24701</td>\n",
       "    </tr>\n",
       "  </tbody>\n",
       "</table>\n",
       "</div>"
      ],
      "text/plain": [
       "   SL_NO COMP_CODE UNIT_CODE/location code/pf code PCD_CODE  \\\n",
       "0      1    CGACIS                             001    33044   \n",
       "1      2    CGACIS                             001    33045   \n",
       "2      3    CGACIS                             001    33046   \n",
       "3      4    CGACIS                             001    33047   \n",
       "4      5    CGACIS                             001    33048   \n",
       "\n",
       "  PCD_CODE/cost centre            EMP_NAME SEX MARITAL_STATUS        DOB  \\\n",
       "0                33044        SAYANTAN DAS   M            NaN 1979-09-22   \n",
       "1                33045         ABHIJIT DEY   M            NaN 1983-05-21   \n",
       "2                33046  CHIDVILASA RAGHAVA   M            NaN 1980-08-30   \n",
       "3                33047      DEEPAK KRISHNA   M            NaN 1983-04-27   \n",
       "4                33048        PARAG SHARMA   M            NaN 1980-10-12   \n",
       "\n",
       "                   DOJ        DOL  PF_NO PF_MEM_START_DATE GR_TYPE EPS_NO  \n",
       "0  2011-02-14 00:00:00 2014-09-05  33044        2010-07-14   GR-YS  24697  \n",
       "1  2011-02-15 00:00:00 2012-07-24  33045        2011-02-15   GR-YS  24698  \n",
       "2  2007-10-01 00:00:00 2012-08-06  33046        2008-07-01   GR-YS  24699  \n",
       "3  2011-02-14 00:00:00 2011-12-20  33047        2011-02-14   GR-YS  24700  \n",
       "4  2011-02-15 00:00:00 2012-02-21  33048        2011-02-15   GR-YS  24701  "
      ]
     },
     "execution_count": 92,
     "metadata": {},
     "output_type": "execute_result"
    }
   ],
   "source": [
    "nfst.head()"
   ]
  },
  {
   "cell_type": "code",
   "execution_count": 93,
   "metadata": {},
   "outputs": [
    {
     "data": {
      "text/plain": [
       "(160785, 15)"
      ]
     },
     "execution_count": 93,
     "metadata": {},
     "output_type": "execute_result"
    }
   ],
   "source": [
    "nfst.shape"
   ]
  },
  {
   "cell_type": "code",
   "execution_count": 193,
   "metadata": {},
   "outputs": [],
   "source": [
    "unn1=pd.merge(diff_yyy,nfst,on=[\"PCD_CODE\"],how=\"inner\",suffixes=(\"_BSV\",\"_NFST\"))"
   ]
  },
  {
   "cell_type": "code",
   "execution_count": 194,
   "metadata": {},
   "outputs": [
    {
     "data": {
      "text/html": [
       "<div>\n",
       "<style scoped>\n",
       "    .dataframe tbody tr th:only-of-type {\n",
       "        vertical-align: middle;\n",
       "    }\n",
       "\n",
       "    .dataframe tbody tr th {\n",
       "        vertical-align: top;\n",
       "    }\n",
       "\n",
       "    .dataframe thead th {\n",
       "        text-align: right;\n",
       "    }\n",
       "</style>\n",
       "<table border=\"1\" class=\"dataframe\">\n",
       "  <thead>\n",
       "    <tr style=\"text-align: right;\">\n",
       "      <th></th>\n",
       "      <th>SL_NO_BSV</th>\n",
       "      <th>PCD_CODE</th>\n",
       "      <th>PCD_COD1E</th>\n",
       "      <th>EMP_NAME_BSV</th>\n",
       "      <th>EMP_NAME1</th>\n",
       "      <th>DOB_BSV</th>\n",
       "      <th>AGE</th>\n",
       "      <th>DOJ_BSV</th>\n",
       "      <th>DOL_BSV</th>\n",
       "      <th>DOS</th>\n",
       "      <th>...</th>\n",
       "      <th>EMP_NAME_NFST</th>\n",
       "      <th>SEX</th>\n",
       "      <th>MARITAL_STATUS</th>\n",
       "      <th>DOB_NFST</th>\n",
       "      <th>DOJ_NFST</th>\n",
       "      <th>DOL_NFST</th>\n",
       "      <th>PF_NO</th>\n",
       "      <th>PF_MEM_START_DATE</th>\n",
       "      <th>GR_TYPE</th>\n",
       "      <th>EPS_NO</th>\n",
       "    </tr>\n",
       "  </thead>\n",
       "  <tbody>\n",
       "    <tr>\n",
       "      <th>0</th>\n",
       "      <td>7999</td>\n",
       "      <td>50023</td>\n",
       "      <td>50023</td>\n",
       "      <td>S.SRIRAM</td>\n",
       "      <td>S.SRIRAM</td>\n",
       "      <td>1979-05-12</td>\n",
       "      <td>39.885010</td>\n",
       "      <td>2003-04-01</td>\n",
       "      <td>NaT</td>\n",
       "      <td>NaT</td>\n",
       "      <td>...</td>\n",
       "      <td>SANTHOSH KUMAR DANDA</td>\n",
       "      <td>M</td>\n",
       "      <td>NaN</td>\n",
       "      <td>1988-08-03</td>\n",
       "      <td>2013-03-04 00:00:00</td>\n",
       "      <td>2013-05-20</td>\n",
       "      <td>50023</td>\n",
       "      <td>2013-03-04</td>\n",
       "      <td>GR-YS</td>\n",
       "      <td>40534</td>\n",
       "    </tr>\n",
       "    <tr>\n",
       "      <th>1</th>\n",
       "      <td>8734</td>\n",
       "      <td>55786</td>\n",
       "      <td>55786</td>\n",
       "      <td>VIJAY J</td>\n",
       "      <td>VIJAY J</td>\n",
       "      <td>1983-01-03</td>\n",
       "      <td>36.238193</td>\n",
       "      <td>2011-07-18</td>\n",
       "      <td>NaT</td>\n",
       "      <td>NaT</td>\n",
       "      <td>...</td>\n",
       "      <td>MURALI KRISHNA BATTEPATI</td>\n",
       "      <td>M</td>\n",
       "      <td>NaN</td>\n",
       "      <td>1985-05-01</td>\n",
       "      <td>2013-10-10 00:00:00</td>\n",
       "      <td>2017-06-12</td>\n",
       "      <td>169955</td>\n",
       "      <td>2013-10-10</td>\n",
       "      <td>GR-YS</td>\n",
       "      <td>54083</td>\n",
       "    </tr>\n",
       "    <tr>\n",
       "      <th>2</th>\n",
       "      <td>10775</td>\n",
       "      <td>62326</td>\n",
       "      <td>62326</td>\n",
       "      <td>MS. LATHA BN</td>\n",
       "      <td>MS. LATHA BN</td>\n",
       "      <td>1986-06-05</td>\n",
       "      <td>32.818617</td>\n",
       "      <td>2014-04-14</td>\n",
       "      <td>NaT</td>\n",
       "      <td>NaT</td>\n",
       "      <td>...</td>\n",
       "      <td>CAMELLIA BANDOPADHYAY</td>\n",
       "      <td>F</td>\n",
       "      <td>NaN</td>\n",
       "      <td>1989-08-02</td>\n",
       "      <td>2014-05-26 00:00:00</td>\n",
       "      <td>2016-05-10</td>\n",
       "      <td>173755</td>\n",
       "      <td>2014-05-26</td>\n",
       "      <td>GR-YS</td>\n",
       "      <td>57883</td>\n",
       "    </tr>\n",
       "    <tr>\n",
       "      <th>3</th>\n",
       "      <td>12800</td>\n",
       "      <td>66144</td>\n",
       "      <td>66144</td>\n",
       "      <td>TULASI PM</td>\n",
       "      <td>TULASI PM</td>\n",
       "      <td>1986-02-03</td>\n",
       "      <td>33.152635</td>\n",
       "      <td>2015-03-23</td>\n",
       "      <td>NaT</td>\n",
       "      <td>NaT</td>\n",
       "      <td>...</td>\n",
       "      <td>VENKATAREDDY MUKKU</td>\n",
       "      <td>M</td>\n",
       "      <td>NaN</td>\n",
       "      <td>1986-07-01</td>\n",
       "      <td>2014-08-28 00:00:00</td>\n",
       "      <td>2016-04-11</td>\n",
       "      <td>176231</td>\n",
       "      <td>2014-08-28</td>\n",
       "      <td>GR-YS</td>\n",
       "      <td>60359</td>\n",
       "    </tr>\n",
       "    <tr>\n",
       "      <th>4</th>\n",
       "      <td>13266</td>\n",
       "      <td>66913</td>\n",
       "      <td>66913</td>\n",
       "      <td>MANOJ RAGHUNATH B</td>\n",
       "      <td>MANOJ RAGHUNATH B</td>\n",
       "      <td>1988-03-02</td>\n",
       "      <td>31.077344</td>\n",
       "      <td>2015-06-08</td>\n",
       "      <td>NaT</td>\n",
       "      <td>NaT</td>\n",
       "      <td>...</td>\n",
       "      <td>AMIT KUMAR</td>\n",
       "      <td>M</td>\n",
       "      <td>M</td>\n",
       "      <td>1982-12-30</td>\n",
       "      <td>2014-09-18 00:00:00</td>\n",
       "      <td>2017-03-31</td>\n",
       "      <td>176768</td>\n",
       "      <td>2014-09-18</td>\n",
       "      <td>GR-YS</td>\n",
       "      <td>60896</td>\n",
       "    </tr>\n",
       "  </tbody>\n",
       "</table>\n",
       "<p>5 rows × 29 columns</p>\n",
       "</div>"
      ],
      "text/plain": [
       "  SL_NO_BSV PCD_CODE PCD_COD1E       EMP_NAME_BSV          EMP_NAME1  \\\n",
       "0      7999    50023     50023           S.SRIRAM           S.SRIRAM   \n",
       "1      8734    55786     55786            VIJAY J            VIJAY J   \n",
       "2     10775    62326     62326       MS. LATHA BN       MS. LATHA BN   \n",
       "3     12800    66144     66144          TULASI PM          TULASI PM   \n",
       "4     13266    66913     66913  MANOJ RAGHUNATH B  MANOJ RAGHUNATH B   \n",
       "\n",
       "     DOB_BSV        AGE    DOJ_BSV DOL_BSV DOS  ...             EMP_NAME_NFST  \\\n",
       "0 1979-05-12  39.885010 2003-04-01     NaT NaT  ...      SANTHOSH KUMAR DANDA   \n",
       "1 1983-01-03  36.238193 2011-07-18     NaT NaT  ...  MURALI KRISHNA BATTEPATI   \n",
       "2 1986-06-05  32.818617 2014-04-14     NaT NaT  ...     CAMELLIA BANDOPADHYAY   \n",
       "3 1986-02-03  33.152635 2015-03-23     NaT NaT  ...        VENKATAREDDY MUKKU   \n",
       "4 1988-03-02  31.077344 2015-06-08     NaT NaT  ...                AMIT KUMAR   \n",
       "\n",
       "   SEX  MARITAL_STATUS   DOB_NFST             DOJ_NFST   DOL_NFST   PF_NO  \\\n",
       "0    M             NaN 1988-08-03  2013-03-04 00:00:00 2013-05-20   50023   \n",
       "1    M             NaN 1985-05-01  2013-10-10 00:00:00 2017-06-12  169955   \n",
       "2    F             NaN 1989-08-02  2014-05-26 00:00:00 2016-05-10  173755   \n",
       "3    M             NaN 1986-07-01  2014-08-28 00:00:00 2016-04-11  176231   \n",
       "4    M               M 1982-12-30  2014-09-18 00:00:00 2017-03-31  176768   \n",
       "\n",
       "  PF_MEM_START_DATE GR_TYPE EPS_NO  \n",
       "0        2013-03-04   GR-YS  40534  \n",
       "1        2013-10-10   GR-YS  54083  \n",
       "2        2014-05-26   GR-YS  57883  \n",
       "3        2014-08-28   GR-YS  60359  \n",
       "4        2014-09-18   GR-YS  60896  \n",
       "\n",
       "[5 rows x 29 columns]"
      ]
     },
     "execution_count": 194,
     "metadata": {},
     "output_type": "execute_result"
    }
   ],
   "source": [
    "unn1.head()"
   ]
  },
  {
   "cell_type": "code",
   "execution_count": 195,
   "metadata": {},
   "outputs": [],
   "source": [
    "unn1.to_csv(r\"C:\\Users\\Ravi\\Desktop\\Work\\CAPGEMINI-COMPILATION-DATA\\CAPGEMINI-COMPILATION-DATA\\OPENIING-BALANCE\\bsv in nfst.csv\")"
   ]
  },
  {
   "cell_type": "markdown",
   "metadata": {},
   "source": [
    "### The above data is present in Non zzz- Trust Master"
   ]
  },
  {
   "cell_type": "code",
   "execution_count": 96,
   "metadata": {},
   "outputs": [
    {
     "data": {
      "text/plain": [
       "(14, 29)"
      ]
     },
     "execution_count": 96,
     "metadata": {},
     "output_type": "execute_result"
    }
   ],
   "source": [
    "unn1.shape"
   ]
  },
  {
   "cell_type": "code",
   "execution_count": 97,
   "metadata": {},
   "outputs": [],
   "source": [
    "unn2=pd.concat([diff_yyy,unn1])"
   ]
  },
  {
   "cell_type": "code",
   "execution_count": 98,
   "metadata": {},
   "outputs": [
    {
     "data": {
      "text/plain": [
       "(30, 34)"
      ]
     },
     "execution_count": 98,
     "metadata": {},
     "output_type": "execute_result"
    }
   ],
   "source": [
    "unn2.shape"
   ]
  },
  {
   "cell_type": "code",
   "execution_count": 99,
   "metadata": {},
   "outputs": [
    {
     "data": {
      "text/plain": [
       "66913     2\n",
       "50023     2\n",
       "73847     2\n",
       "69264     2\n",
       "69828     2\n",
       "68227     2\n",
       "66144     2\n",
       "78123     2\n",
       "50224     2\n",
       "55786     2\n",
       "50541     2\n",
       "62326     2\n",
       "50814     2\n",
       "50260     2\n",
       "54439     1\n",
       "200277    1\n",
       "Name: PCD_CODE, dtype: int64"
      ]
     },
     "execution_count": 99,
     "metadata": {},
     "output_type": "execute_result"
    }
   ],
   "source": [
    "unn2[\"PCD_CODE\"].value_counts()"
   ]
  },
  {
   "cell_type": "markdown",
   "metadata": {},
   "source": [
    "### The last two data are not present in any of the Sheets"
   ]
  },
  {
   "cell_type": "markdown",
   "metadata": {},
   "source": [
    "### Part 4"
   ]
  },
  {
   "cell_type": "code",
   "execution_count": 101,
   "metadata": {},
   "outputs": [],
   "source": [
    "un_fs=pd.concat([zzz,fst])"
   ]
  },
  {
   "cell_type": "code",
   "execution_count": 106,
   "metadata": {},
   "outputs": [],
   "source": [
    "un_df=pd.DataFrame(un_fs[\"PCD_CODE\"].value_counts())"
   ]
  },
  {
   "cell_type": "code",
   "execution_count": 107,
   "metadata": {},
   "outputs": [
    {
     "data": {
      "text/html": [
       "<div>\n",
       "<style scoped>\n",
       "    .dataframe tbody tr th:only-of-type {\n",
       "        vertical-align: middle;\n",
       "    }\n",
       "\n",
       "    .dataframe tbody tr th {\n",
       "        vertical-align: top;\n",
       "    }\n",
       "\n",
       "    .dataframe thead th {\n",
       "        text-align: right;\n",
       "    }\n",
       "</style>\n",
       "<table border=\"1\" class=\"dataframe\">\n",
       "  <thead>\n",
       "    <tr style=\"text-align: right;\">\n",
       "      <th></th>\n",
       "      <th>PCD_CODE</th>\n",
       "    </tr>\n",
       "  </thead>\n",
       "  <tbody>\n",
       "    <tr>\n",
       "      <th>26403_FS</th>\n",
       "      <td>2</td>\n",
       "    </tr>\n",
       "    <tr>\n",
       "      <th>110973_FS</th>\n",
       "      <td>2</td>\n",
       "    </tr>\n",
       "    <tr>\n",
       "      <th>64752_FS</th>\n",
       "      <td>2</td>\n",
       "    </tr>\n",
       "    <tr>\n",
       "      <th>33375_FS</th>\n",
       "      <td>2</td>\n",
       "    </tr>\n",
       "    <tr>\n",
       "      <th>58082_FS</th>\n",
       "      <td>2</td>\n",
       "    </tr>\n",
       "  </tbody>\n",
       "</table>\n",
       "</div>"
      ],
      "text/plain": [
       "           PCD_CODE\n",
       "26403_FS          2\n",
       "110973_FS         2\n",
       "64752_FS          2\n",
       "33375_FS          2\n",
       "58082_FS          2"
      ]
     },
     "execution_count": 107,
     "metadata": {},
     "output_type": "execute_result"
    }
   ],
   "source": [
    "un_df.head()"
   ]
  },
  {
   "cell_type": "code",
   "execution_count": 108,
   "metadata": {},
   "outputs": [],
   "source": [
    "un_df=un_df[un_df[\"PCD_CODE\"]==1]"
   ]
  },
  {
   "cell_type": "code",
   "execution_count": 121,
   "metadata": {},
   "outputs": [
    {
     "data": {
      "text/plain": [
       "(2848, 1)"
      ]
     },
     "execution_count": 121,
     "metadata": {},
     "output_type": "execute_result"
    }
   ],
   "source": [
    "un_df.shape"
   ]
  },
  {
   "cell_type": "code",
   "execution_count": 112,
   "metadata": {},
   "outputs": [],
   "source": [
    "un_df_pc = pd.DataFrame(un_df.index)"
   ]
  },
  {
   "cell_type": "code",
   "execution_count": 113,
   "metadata": {},
   "outputs": [],
   "source": [
    "un_df_pc.columns=[\"PCD_CODE\"]"
   ]
  },
  {
   "cell_type": "code",
   "execution_count": 114,
   "metadata": {},
   "outputs": [
    {
     "data": {
      "text/html": [
       "<div>\n",
       "<style scoped>\n",
       "    .dataframe tbody tr th:only-of-type {\n",
       "        vertical-align: middle;\n",
       "    }\n",
       "\n",
       "    .dataframe tbody tr th {\n",
       "        vertical-align: top;\n",
       "    }\n",
       "\n",
       "    .dataframe thead th {\n",
       "        text-align: right;\n",
       "    }\n",
       "</style>\n",
       "<table border=\"1\" class=\"dataframe\">\n",
       "  <thead>\n",
       "    <tr style=\"text-align: right;\">\n",
       "      <th></th>\n",
       "      <th>PCD_CODE</th>\n",
       "    </tr>\n",
       "  </thead>\n",
       "  <tbody>\n",
       "    <tr>\n",
       "      <th>0</th>\n",
       "      <td>155049</td>\n",
       "    </tr>\n",
       "    <tr>\n",
       "      <th>1</th>\n",
       "      <td>180069</td>\n",
       "    </tr>\n",
       "    <tr>\n",
       "      <th>2</th>\n",
       "      <td>46001432</td>\n",
       "    </tr>\n",
       "    <tr>\n",
       "      <th>3</th>\n",
       "      <td>46009519</td>\n",
       "    </tr>\n",
       "    <tr>\n",
       "      <th>4</th>\n",
       "      <td>46004595</td>\n",
       "    </tr>\n",
       "  </tbody>\n",
       "</table>\n",
       "</div>"
      ],
      "text/plain": [
       "   PCD_CODE\n",
       "0    155049\n",
       "1    180069\n",
       "2  46001432\n",
       "3  46009519\n",
       "4  46004595"
      ]
     },
     "execution_count": 114,
     "metadata": {},
     "output_type": "execute_result"
    }
   ],
   "source": [
    "un_df_pc.head()"
   ]
  },
  {
   "cell_type": "code",
   "execution_count": 124,
   "metadata": {},
   "outputs": [],
   "source": [
    "final_vals=pd.merge(zzz,un_df_pc,how=\"inner\",on=[\"PCD_CODE\"])"
   ]
  },
  {
   "cell_type": "code",
   "execution_count": 125,
   "metadata": {},
   "outputs": [
    {
     "data": {
      "text/plain": [
       "(0, 27)"
      ]
     },
     "execution_count": 125,
     "metadata": {},
     "output_type": "execute_result"
    }
   ],
   "source": [
    "final_vals.shape"
   ]
  },
  {
   "cell_type": "markdown",
   "metadata": {},
   "source": [
    "### Therefore no unique Data From zzz Oneliner is available in zzz - True Master"
   ]
  },
  {
   "cell_type": "code",
   "execution_count": 167,
   "metadata": {},
   "outputs": [],
   "source": [
    "un_fst=pd.concat([xxx,nfst])"
   ]
  },
  {
   "cell_type": "code",
   "execution_count": 169,
   "metadata": {},
   "outputs": [],
   "source": [
    "un_nfst_pc=pd.DataFrame(un_fst[\"PCD_CODE\"].value_counts())"
   ]
  },
  {
   "cell_type": "code",
   "execution_count": 170,
   "metadata": {},
   "outputs": [
    {
     "data": {
      "text/html": [
       "<div>\n",
       "<style scoped>\n",
       "    .dataframe tbody tr th:only-of-type {\n",
       "        vertical-align: middle;\n",
       "    }\n",
       "\n",
       "    .dataframe tbody tr th {\n",
       "        vertical-align: top;\n",
       "    }\n",
       "\n",
       "    .dataframe thead th {\n",
       "        text-align: right;\n",
       "    }\n",
       "</style>\n",
       "<table border=\"1\" class=\"dataframe\">\n",
       "  <thead>\n",
       "    <tr style=\"text-align: right;\">\n",
       "      <th></th>\n",
       "      <th>PCD_CODE</th>\n",
       "    </tr>\n",
       "  </thead>\n",
       "  <tbody>\n",
       "    <tr>\n",
       "      <th>42472</th>\n",
       "      <td>3</td>\n",
       "    </tr>\n",
       "    <tr>\n",
       "      <th>161000</th>\n",
       "      <td>3</td>\n",
       "    </tr>\n",
       "    <tr>\n",
       "      <th>21142</th>\n",
       "      <td>2</td>\n",
       "    </tr>\n",
       "    <tr>\n",
       "      <th>188227</th>\n",
       "      <td>2</td>\n",
       "    </tr>\n",
       "    <tr>\n",
       "      <th>74399</th>\n",
       "      <td>2</td>\n",
       "    </tr>\n",
       "  </tbody>\n",
       "</table>\n",
       "</div>"
      ],
      "text/plain": [
       "        PCD_CODE\n",
       "42472          3\n",
       "161000         3\n",
       "21142          2\n",
       "188227         2\n",
       "74399          2"
      ]
     },
     "execution_count": 170,
     "metadata": {},
     "output_type": "execute_result"
    }
   ],
   "source": [
    "un_nfst_pc.head()"
   ]
  },
  {
   "cell_type": "code",
   "execution_count": 171,
   "metadata": {},
   "outputs": [
    {
     "data": {
      "text/html": [
       "<div>\n",
       "<style scoped>\n",
       "    .dataframe tbody tr th:only-of-type {\n",
       "        vertical-align: middle;\n",
       "    }\n",
       "\n",
       "    .dataframe tbody tr th {\n",
       "        vertical-align: top;\n",
       "    }\n",
       "\n",
       "    .dataframe thead th {\n",
       "        text-align: right;\n",
       "    }\n",
       "</style>\n",
       "<table border=\"1\" class=\"dataframe\">\n",
       "  <thead>\n",
       "    <tr style=\"text-align: right;\">\n",
       "      <th></th>\n",
       "      <th>SL_NO</th>\n",
       "      <th>COMP_CODE</th>\n",
       "      <th>UNIT_CODE/location code/pf code</th>\n",
       "      <th>PCD_CODE</th>\n",
       "      <th>PCD_CODE/cost centre</th>\n",
       "      <th>EMP_NAME</th>\n",
       "      <th>SEX</th>\n",
       "      <th>MARITAL_STATUS</th>\n",
       "      <th>DOB</th>\n",
       "      <th>DOJ</th>\n",
       "      <th>DOL</th>\n",
       "      <th>PF_NO</th>\n",
       "      <th>PF_MEM_START_DATE</th>\n",
       "      <th>GR_TYPE</th>\n",
       "      <th>EPS_NO</th>\n",
       "    </tr>\n",
       "  </thead>\n",
       "  <tbody>\n",
       "    <tr>\n",
       "      <th>44624</th>\n",
       "      <td>44625</td>\n",
       "      <td>CGACIS</td>\n",
       "      <td>001</td>\n",
       "      <td>42472</td>\n",
       "      <td>042472</td>\n",
       "      <td>SAMAYITA CHATTERJEE</td>\n",
       "      <td>F</td>\n",
       "      <td>NaN</td>\n",
       "      <td>1982-01-30</td>\n",
       "      <td>2012-05-10 00:00:00</td>\n",
       "      <td>2019-08-31</td>\n",
       "      <td>164541</td>\n",
       "      <td>2010-10-15</td>\n",
       "      <td>GR-YS</td>\n",
       "      <td>48669</td>\n",
       "    </tr>\n",
       "    <tr>\n",
       "      <th>46458</th>\n",
       "      <td>46459</td>\n",
       "      <td>06-06-2011</td>\n",
       "      <td>NaN</td>\n",
       "      <td>42472</td>\n",
       "      <td>12-04-2016</td>\n",
       "      <td>2019-11-19 00:00:00</td>\n",
       "      <td>PF-EX</td>\n",
       "      <td>Y</td>\n",
       "      <td>2016-06-03</td>\n",
       "      <td>GENERAL</td>\n",
       "      <td>NaT</td>\n",
       "      <td>NaN</td>\n",
       "      <td>NaT</td>\n",
       "      <td>2011-06-01 00:00:00</td>\n",
       "      <td>N</td>\n",
       "    </tr>\n",
       "  </tbody>\n",
       "</table>\n",
       "</div>"
      ],
      "text/plain": [
       "       SL_NO   COMP_CODE UNIT_CODE/location code/pf code PCD_CODE  \\\n",
       "44624  44625      CGACIS                             001    42472   \n",
       "46458  46459  06-06-2011                             NaN    42472   \n",
       "\n",
       "      PCD_CODE/cost centre             EMP_NAME    SEX MARITAL_STATUS  \\\n",
       "44624               042472  SAMAYITA CHATTERJEE      F            NaN   \n",
       "46458           12-04-2016  2019-11-19 00:00:00  PF-EX              Y   \n",
       "\n",
       "             DOB                  DOJ        DOL   PF_NO PF_MEM_START_DATE  \\\n",
       "44624 1982-01-30  2012-05-10 00:00:00 2019-08-31  164541        2010-10-15   \n",
       "46458 2016-06-03              GENERAL        NaT     NaN               NaT   \n",
       "\n",
       "                   GR_TYPE EPS_NO  \n",
       "44624                GR-YS  48669  \n",
       "46458  2011-06-01 00:00:00      N  "
      ]
     },
     "execution_count": 171,
     "metadata": {},
     "output_type": "execute_result"
    }
   ],
   "source": [
    "#checking for redundat value in Non zzz True Master\n",
    "nfst[nfst[\"PCD_CODE\"]=='42472']"
   ]
  },
  {
   "cell_type": "markdown",
   "metadata": {},
   "source": [
    "### The above two values were common in Non zzz True Master"
   ]
  },
  {
   "cell_type": "code",
   "execution_count": 172,
   "metadata": {},
   "outputs": [],
   "source": [
    "un_nfst_pc=un_fst_pc[un_nfst_pc[\"PCD_CODE\"]==1]"
   ]
  },
  {
   "cell_type": "code",
   "execution_count": 173,
   "metadata": {},
   "outputs": [
    {
     "data": {
      "text/html": [
       "<div>\n",
       "<style scoped>\n",
       "    .dataframe tbody tr th:only-of-type {\n",
       "        vertical-align: middle;\n",
       "    }\n",
       "\n",
       "    .dataframe tbody tr th {\n",
       "        vertical-align: top;\n",
       "    }\n",
       "\n",
       "    .dataframe thead th {\n",
       "        text-align: right;\n",
       "    }\n",
       "</style>\n",
       "<table border=\"1\" class=\"dataframe\">\n",
       "  <thead>\n",
       "    <tr style=\"text-align: right;\">\n",
       "      <th></th>\n",
       "      <th>PCD_CODE</th>\n",
       "    </tr>\n",
       "  </thead>\n",
       "  <tbody>\n",
       "    <tr>\n",
       "      <th>46010755</th>\n",
       "      <td>1</td>\n",
       "    </tr>\n",
       "    <tr>\n",
       "      <th>A0021</th>\n",
       "      <td>1</td>\n",
       "    </tr>\n",
       "    <tr>\n",
       "      <th>46012911</th>\n",
       "      <td>1</td>\n",
       "    </tr>\n",
       "    <tr>\n",
       "      <th>46011194</th>\n",
       "      <td>1</td>\n",
       "    </tr>\n",
       "    <tr>\n",
       "      <th>46009708</th>\n",
       "      <td>1</td>\n",
       "    </tr>\n",
       "  </tbody>\n",
       "</table>\n",
       "</div>"
      ],
      "text/plain": [
       "          PCD_CODE\n",
       "46010755         1\n",
       "A0021            1\n",
       "46012911         1\n",
       "46011194         1\n",
       "46009708         1"
      ]
     },
     "execution_count": 173,
     "metadata": {},
     "output_type": "execute_result"
    }
   ],
   "source": [
    "un_nfst_pc.head()"
   ]
  },
  {
   "cell_type": "code",
   "execution_count": 175,
   "metadata": {},
   "outputs": [],
   "source": [
    "un_nfst_pc=pd.DataFrame(un_nfst_pc.index)"
   ]
  },
  {
   "cell_type": "code",
   "execution_count": 176,
   "metadata": {},
   "outputs": [
    {
     "data": {
      "text/html": [
       "<div>\n",
       "<style scoped>\n",
       "    .dataframe tbody tr th:only-of-type {\n",
       "        vertical-align: middle;\n",
       "    }\n",
       "\n",
       "    .dataframe tbody tr th {\n",
       "        vertical-align: top;\n",
       "    }\n",
       "\n",
       "    .dataframe thead th {\n",
       "        text-align: right;\n",
       "    }\n",
       "</style>\n",
       "<table border=\"1\" class=\"dataframe\">\n",
       "  <thead>\n",
       "    <tr style=\"text-align: right;\">\n",
       "      <th></th>\n",
       "      <th>0</th>\n",
       "    </tr>\n",
       "  </thead>\n",
       "  <tbody>\n",
       "    <tr>\n",
       "      <th>0</th>\n",
       "      <td>46010755</td>\n",
       "    </tr>\n",
       "    <tr>\n",
       "      <th>1</th>\n",
       "      <td>A0021</td>\n",
       "    </tr>\n",
       "    <tr>\n",
       "      <th>2</th>\n",
       "      <td>46012911</td>\n",
       "    </tr>\n",
       "    <tr>\n",
       "      <th>3</th>\n",
       "      <td>46011194</td>\n",
       "    </tr>\n",
       "    <tr>\n",
       "      <th>4</th>\n",
       "      <td>46009708</td>\n",
       "    </tr>\n",
       "  </tbody>\n",
       "</table>\n",
       "</div>"
      ],
      "text/plain": [
       "          0\n",
       "0  46010755\n",
       "1     A0021\n",
       "2  46012911\n",
       "3  46011194\n",
       "4  46009708"
      ]
     },
     "execution_count": 176,
     "metadata": {},
     "output_type": "execute_result"
    }
   ],
   "source": [
    "un_nfst_pc.head()"
   ]
  },
  {
   "cell_type": "code",
   "execution_count": 177,
   "metadata": {},
   "outputs": [],
   "source": [
    "un_nfst_pc.columns=[\"PCD_CODE\"]"
   ]
  },
  {
   "cell_type": "code",
   "execution_count": 179,
   "metadata": {},
   "outputs": [
    {
     "data": {
      "text/html": [
       "<div>\n",
       "<style scoped>\n",
       "    .dataframe tbody tr th:only-of-type {\n",
       "        vertical-align: middle;\n",
       "    }\n",
       "\n",
       "    .dataframe tbody tr th {\n",
       "        vertical-align: top;\n",
       "    }\n",
       "\n",
       "    .dataframe thead th {\n",
       "        text-align: right;\n",
       "    }\n",
       "</style>\n",
       "<table border=\"1\" class=\"dataframe\">\n",
       "  <thead>\n",
       "    <tr style=\"text-align: right;\">\n",
       "      <th></th>\n",
       "      <th>PCD_CODE</th>\n",
       "    </tr>\n",
       "  </thead>\n",
       "  <tbody>\n",
       "    <tr>\n",
       "      <th>0</th>\n",
       "      <td>46010755</td>\n",
       "    </tr>\n",
       "    <tr>\n",
       "      <th>1</th>\n",
       "      <td>A0021</td>\n",
       "    </tr>\n",
       "    <tr>\n",
       "      <th>2</th>\n",
       "      <td>46012911</td>\n",
       "    </tr>\n",
       "    <tr>\n",
       "      <th>3</th>\n",
       "      <td>46011194</td>\n",
       "    </tr>\n",
       "    <tr>\n",
       "      <th>4</th>\n",
       "      <td>46009708</td>\n",
       "    </tr>\n",
       "  </tbody>\n",
       "</table>\n",
       "</div>"
      ],
      "text/plain": [
       "   PCD_CODE\n",
       "0  46010755\n",
       "1     A0021\n",
       "2  46012911\n",
       "3  46011194\n",
       "4  46009708"
      ]
     },
     "execution_count": 179,
     "metadata": {},
     "output_type": "execute_result"
    }
   ],
   "source": [
    "un_nfst_pc.head()"
   ]
  },
  {
   "cell_type": "code",
   "execution_count": 180,
   "metadata": {},
   "outputs": [],
   "source": [
    "un_xxx=pd.merge(xxx,un_nfst_pc,how=\"inner\",on=[\"PCD_CODE\"])"
   ]
  },
  {
   "cell_type": "code",
   "execution_count": 182,
   "metadata": {},
   "outputs": [
    {
     "data": {
      "text/plain": [
       "(0, 14)"
      ]
     },
     "execution_count": 182,
     "metadata": {},
     "output_type": "execute_result"
    }
   ],
   "source": [
    "un_xxx.shape"
   ]
  },
  {
   "cell_type": "markdown",
   "metadata": {},
   "source": [
    "### Therefore no unique value is there in xxx"
   ]
  },
  {
   "cell_type": "code",
   "execution_count": 183,
   "metadata": {},
   "outputs": [
    {
     "data": {
      "text/plain": [
       "(155427, 14)"
      ]
     },
     "execution_count": 183,
     "metadata": {},
     "output_type": "execute_result"
    }
   ],
   "source": [
    "xxx.shape"
   ]
  },
  {
   "cell_type": "code",
   "execution_count": 184,
   "metadata": {},
   "outputs": [
    {
     "data": {
      "text/plain": [
       "(160785, 15)"
      ]
     },
     "execution_count": 184,
     "metadata": {},
     "output_type": "execute_result"
    }
   ],
   "source": [
    "nfst.shape"
   ]
  },
  {
   "cell_type": "code",
   "execution_count": 185,
   "metadata": {},
   "outputs": [],
   "source": [
    "rr=pd.merge(xxx,nfst,how=\"inner\",on=[\"PCD_CODE\"])"
   ]
  },
  {
   "cell_type": "code",
   "execution_count": 186,
   "metadata": {},
   "outputs": [
    {
     "data": {
      "text/plain": [
       "(155418, 28)"
      ]
     },
     "execution_count": 186,
     "metadata": {},
     "output_type": "execute_result"
    }
   ],
   "source": [
    "rr.shape"
   ]
  },
  {
   "cell_type": "code",
   "execution_count": null,
   "metadata": {},
   "outputs": [],
   "source": []
  }
 ],
 "metadata": {
  "kernelspec": {
   "display_name": "Python 3",
   "language": "python",
   "name": "python3"
  },
  "language_info": {
   "codemirror_mode": {
    "name": "ipython",
    "version": 3
   },
   "file_extension": ".py",
   "mimetype": "text/x-python",
   "name": "python",
   "nbconvert_exporter": "python",
   "pygments_lexer": "ipython3",
   "version": "3.7.4"
  }
 },
 "nbformat": 4,
 "nbformat_minor": 4
}
